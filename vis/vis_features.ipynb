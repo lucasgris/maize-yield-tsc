{
 "cells": [
  {
   "cell_type": "markdown",
   "metadata": {},
   "source": [
    "# Visualização de características"
   ]
  },
  {
   "cell_type": "code",
   "execution_count": 1,
   "metadata": {},
   "outputs": [],
   "source": [
    "from datetime import datetime\n",
    "from os import listdir\n",
    "from os.path import isfile, join\n",
    "\n",
    "import os\n",
    "import random\n",
    "\n",
    "import glob\n",
    "\n",
    "import numpy as np\n",
    "import pandas as pd\n",
    "\n",
    "import matplotlib.pyplot as plt\n",
    "import matplotlib\n",
    "import seaborn as sns\n",
    "\n",
    "import concurrent.futures\n",
    "\n",
    "from osgeo import gdal\n",
    "import rasterio # the GEOS-based raster package\n",
    "from rasterio import plot as rioplot\n",
    "import numpy # the array computation library\n",
    "import geopandas # the GEOS-based vector package\n",
    "from libtiff import TIFF\n",
    "from cv2 import *"
   ]
  },
  {
   "cell_type": "code",
   "execution_count": 2,
   "metadata": {},
   "outputs": [],
   "source": [
    "%matplotlib inline"
   ]
  },
  {
   "cell_type": "code",
   "execution_count": 3,
   "metadata": {},
   "outputs": [],
   "source": [
    "def print_histogram(im):\n",
    "    plt.hist(im, bins='auto')  \n",
    "    plt.title(\"Histogram\")\n",
    "    plt.show()\n",
    "    plt.close()"
   ]
  },
  {
   "cell_type": "code",
   "execution_count": 4,
   "metadata": {},
   "outputs": [],
   "source": [
    "def plot_band(im):\n",
    "    plt.pcolormesh(im)\n",
    "    plt.axis('equal')\n",
    "    plt.colorbar()\n",
    "    plt.show()\n",
    "    plt.close()"
   ]
  },
  {
   "cell_type": "code",
   "execution_count": 5,
   "metadata": {},
   "outputs": [],
   "source": [
    "from util import *"
   ]
  },
  {
   "cell_type": "code",
   "execution_count": 6,
   "metadata": {},
   "outputs": [],
   "source": [
    "DATASET = 'b2s'  # b2s ou bfs\n",
    "TYPE = \"multiespectral\""
   ]
  },
  {
   "cell_type": "markdown",
   "metadata": {},
   "source": [
    "## Metadados"
   ]
  },
  {
   "cell_type": "code",
   "execution_count": 7,
   "metadata": {},
   "outputs": [],
   "source": [
    "dfs = dict()\n",
    "for f in os.listdir(\"data\"):\n",
    "    if os.path.splitext(f)[-1] == '.csv':\n",
    "        dfs[f] = pd.read_csv(os.path.join(\"data\", f))\n",
    "        \n",
    "frames = []\n",
    "for k in dfs:\n",
    "    if DATASET in k and TYPE in k:\n",
    "        frames.append(dfs[k])\n",
    "metadata = pd.concat(frames)"
   ]
  },
  {
   "cell_type": "code",
   "execution_count": 8,
   "metadata": {},
   "outputs": [],
   "source": [
    "for key in ['B1File', 'B2File', 'B3File', 'B4File']:\n",
    "    metadata[key] = metadata.apply(lambda x: os.path.join('data', 'RAW', x['Crop'], x[key]), axis=1)"
   ]
  },
  {
   "cell_type": "code",
   "execution_count": 9,
   "metadata": {},
   "outputs": [],
   "source": [
    "metadata['Name'] = metadata.apply(lambda x: f'{(x.Name.split(\"_\")[0])}_{int(x.Name.split(\"_\")[1]):03}', axis=1)"
   ]
  },
  {
   "cell_type": "code",
   "execution_count": 10,
   "metadata": {},
   "outputs": [],
   "source": [
    "metadata['Instance'] = metadata.apply(lambda x: f'{x.Name}_{x.Crop}', axis=1)"
   ]
  },
  {
   "cell_type": "code",
   "execution_count": 11,
   "metadata": {},
   "outputs": [
    {
     "data": {
      "text/html": [
       "<div>\n",
       "<style scoped>\n",
       "    .dataframe tbody tr th:only-of-type {\n",
       "        vertical-align: middle;\n",
       "    }\n",
       "\n",
       "    .dataframe tbody tr th {\n",
       "        vertical-align: top;\n",
       "    }\n",
       "\n",
       "    .dataframe thead th {\n",
       "        text-align: right;\n",
       "    }\n",
       "</style>\n",
       "<table border=\"1\" class=\"dataframe\">\n",
       "  <thead>\n",
       "    <tr style=\"text-align: right;\">\n",
       "      <th></th>\n",
       "      <th>Instance</th>\n",
       "      <th>Crop</th>\n",
       "      <th>B1File</th>\n",
       "      <th>B2File</th>\n",
       "      <th>B3File</th>\n",
       "      <th>B4File</th>\n",
       "      <th>Name</th>\n",
       "      <th>REP</th>\n",
       "      <th>BLK</th>\n",
       "      <th>PLOT</th>\n",
       "      <th>ENTRY</th>\n",
       "      <th>Trial</th>\n",
       "      <th>Eval</th>\n",
       "      <th>Yield</th>\n",
       "    </tr>\n",
       "  </thead>\n",
       "  <tbody>\n",
       "    <tr>\n",
       "      <th>0</th>\n",
       "      <td>fung_019_crop_tsc_2017_b2s</td>\n",
       "      <td>crop_tsc_2017_b2s</td>\n",
       "      <td>data/RAW/crop_tsc_2017_b2s/q170505tscrfl_fung_...</td>\n",
       "      <td>data/RAW/crop_tsc_2017_b2s/q170505tscrfl_fung_...</td>\n",
       "      <td>data/RAW/crop_tsc_2017_b2s/q170505tscrfl_fung_...</td>\n",
       "      <td>data/RAW/crop_tsc_2017_b2s/q170505tscrfl_fung_...</td>\n",
       "      <td>fung_019</td>\n",
       "      <td>1</td>\n",
       "      <td>4</td>\n",
       "      <td>19</td>\n",
       "      <td>17</td>\n",
       "      <td>Fungicide</td>\n",
       "      <td>1.0</td>\n",
       "      <td>6.055209</td>\n",
       "    </tr>\n",
       "    <tr>\n",
       "      <th>1</th>\n",
       "      <td>fung_031_crop_tsc_2017_b2s</td>\n",
       "      <td>crop_tsc_2017_b2s</td>\n",
       "      <td>data/RAW/crop_tsc_2017_b2s/q170505tscrfl_fung_...</td>\n",
       "      <td>data/RAW/crop_tsc_2017_b2s/q170505tscrfl_fung_...</td>\n",
       "      <td>data/RAW/crop_tsc_2017_b2s/q170505tscrfl_fung_...</td>\n",
       "      <td>data/RAW/crop_tsc_2017_b2s/q170505tscrfl_fung_...</td>\n",
       "      <td>fung_031</td>\n",
       "      <td>2</td>\n",
       "      <td>7</td>\n",
       "      <td>31</td>\n",
       "      <td>19</td>\n",
       "      <td>Fungicide</td>\n",
       "      <td>1.0</td>\n",
       "      <td>4.081627</td>\n",
       "    </tr>\n",
       "    <tr>\n",
       "      <th>2</th>\n",
       "      <td>fung_059_crop_tsc_2017_b2s</td>\n",
       "      <td>crop_tsc_2017_b2s</td>\n",
       "      <td>data/RAW/crop_tsc_2017_b2s/q170419tscrfl_fung_...</td>\n",
       "      <td>data/RAW/crop_tsc_2017_b2s/q170419tscrfl_fung_...</td>\n",
       "      <td>data/RAW/crop_tsc_2017_b2s/q170419tscrfl_fung_...</td>\n",
       "      <td>data/RAW/crop_tsc_2017_b2s/q170419tscrfl_fung_...</td>\n",
       "      <td>fung_059</td>\n",
       "      <td>3</td>\n",
       "      <td>12</td>\n",
       "      <td>59</td>\n",
       "      <td>10</td>\n",
       "      <td>Fungicide</td>\n",
       "      <td>1.0</td>\n",
       "      <td>4.612393</td>\n",
       "    </tr>\n",
       "  </tbody>\n",
       "</table>\n",
       "</div>"
      ],
      "text/plain": [
       "                     Instance               Crop  \\\n",
       "0  fung_019_crop_tsc_2017_b2s  crop_tsc_2017_b2s   \n",
       "1  fung_031_crop_tsc_2017_b2s  crop_tsc_2017_b2s   \n",
       "2  fung_059_crop_tsc_2017_b2s  crop_tsc_2017_b2s   \n",
       "\n",
       "                                              B1File  \\\n",
       "0  data/RAW/crop_tsc_2017_b2s/q170505tscrfl_fung_...   \n",
       "1  data/RAW/crop_tsc_2017_b2s/q170505tscrfl_fung_...   \n",
       "2  data/RAW/crop_tsc_2017_b2s/q170419tscrfl_fung_...   \n",
       "\n",
       "                                              B2File  \\\n",
       "0  data/RAW/crop_tsc_2017_b2s/q170505tscrfl_fung_...   \n",
       "1  data/RAW/crop_tsc_2017_b2s/q170505tscrfl_fung_...   \n",
       "2  data/RAW/crop_tsc_2017_b2s/q170419tscrfl_fung_...   \n",
       "\n",
       "                                              B3File  \\\n",
       "0  data/RAW/crop_tsc_2017_b2s/q170505tscrfl_fung_...   \n",
       "1  data/RAW/crop_tsc_2017_b2s/q170505tscrfl_fung_...   \n",
       "2  data/RAW/crop_tsc_2017_b2s/q170419tscrfl_fung_...   \n",
       "\n",
       "                                              B4File      Name  REP  BLK  \\\n",
       "0  data/RAW/crop_tsc_2017_b2s/q170505tscrfl_fung_...  fung_019    1    4   \n",
       "1  data/RAW/crop_tsc_2017_b2s/q170505tscrfl_fung_...  fung_031    2    7   \n",
       "2  data/RAW/crop_tsc_2017_b2s/q170419tscrfl_fung_...  fung_059    3   12   \n",
       "\n",
       "   PLOT  ENTRY      Trial  Eval     Yield  \n",
       "0    19     17  Fungicide   1.0  6.055209  \n",
       "1    31     19  Fungicide   1.0  4.081627  \n",
       "2    59     10  Fungicide   1.0  4.612393  "
      ]
     },
     "execution_count": 11,
     "metadata": {},
     "output_type": "execute_result"
    }
   ],
   "source": [
    "metadata.head(3)"
   ]
  },
  {
   "cell_type": "code",
   "execution_count": 12,
   "metadata": {},
   "outputs": [
    {
     "data": {
      "text/html": [
       "<div>\n",
       "<style scoped>\n",
       "    .dataframe tbody tr th:only-of-type {\n",
       "        vertical-align: middle;\n",
       "    }\n",
       "\n",
       "    .dataframe tbody tr th {\n",
       "        vertical-align: top;\n",
       "    }\n",
       "\n",
       "    .dataframe thead th {\n",
       "        text-align: right;\n",
       "    }\n",
       "</style>\n",
       "<table border=\"1\" class=\"dataframe\">\n",
       "  <thead>\n",
       "    <tr style=\"text-align: right;\">\n",
       "      <th></th>\n",
       "      <th>Instance</th>\n",
       "      <th>Crop</th>\n",
       "      <th>B1File</th>\n",
       "      <th>B2File</th>\n",
       "      <th>B3File</th>\n",
       "      <th>B4File</th>\n",
       "      <th>Name</th>\n",
       "      <th>REP</th>\n",
       "      <th>BLK</th>\n",
       "      <th>PLOT</th>\n",
       "      <th>ENTRY</th>\n",
       "      <th>Trial</th>\n",
       "      <th>Eval</th>\n",
       "      <th>Yield</th>\n",
       "    </tr>\n",
       "  </thead>\n",
       "  <tbody>\n",
       "    <tr>\n",
       "      <th>411</th>\n",
       "      <td>fung_051_crop_tsc_2016_b2s</td>\n",
       "      <td>crop_tsc_2016_b2s</td>\n",
       "      <td>data/RAW/crop_tsc_2016_b2s/c160511tscrfl_fung_...</td>\n",
       "      <td>data/RAW/crop_tsc_2016_b2s/c160511tscrfl_fung_...</td>\n",
       "      <td>data/RAW/crop_tsc_2016_b2s/c160511tscrfl_fung_...</td>\n",
       "      <td>data/RAW/crop_tsc_2016_b2s/c160511tscrfl_fung_...</td>\n",
       "      <td>fung_051</td>\n",
       "      <td>3</td>\n",
       "      <td>11</td>\n",
       "      <td>51</td>\n",
       "      <td>20</td>\n",
       "      <td>Fungicide</td>\n",
       "      <td>1.0</td>\n",
       "      <td>3.295471</td>\n",
       "    </tr>\n",
       "  </tbody>\n",
       "</table>\n",
       "</div>"
      ],
      "text/plain": [
       "                       Instance               Crop  \\\n",
       "411  fung_051_crop_tsc_2016_b2s  crop_tsc_2016_b2s   \n",
       "\n",
       "                                                B1File  \\\n",
       "411  data/RAW/crop_tsc_2016_b2s/c160511tscrfl_fung_...   \n",
       "\n",
       "                                                B2File  \\\n",
       "411  data/RAW/crop_tsc_2016_b2s/c160511tscrfl_fung_...   \n",
       "\n",
       "                                                B3File  \\\n",
       "411  data/RAW/crop_tsc_2016_b2s/c160511tscrfl_fung_...   \n",
       "\n",
       "                                                B4File      Name  REP  BLK  \\\n",
       "411  data/RAW/crop_tsc_2016_b2s/c160511tscrfl_fung_...  fung_051    3   11   \n",
       "\n",
       "     PLOT  ENTRY      Trial  Eval     Yield  \n",
       "411    51     20  Fungicide   1.0  3.295471  "
      ]
     },
     "execution_count": 12,
     "metadata": {},
     "output_type": "execute_result"
    }
   ],
   "source": [
    "sample = metadata.sample(1)\n",
    "sample"
   ]
  },
  {
   "cell_type": "code",
   "execution_count": 13,
   "metadata": {},
   "outputs": [
    {
     "name": "stdout",
     "output_type": "stream",
     "text": [
      "(53, 53, 4)\n"
     ]
    },
    {
     "data": {
      "image/png": "[encoded data removed]",
      "text/plain": [
       "<Figure size 432x288 with 2 Axes>"
      ]
     },
     "metadata": {
      "needs_background": "light"
     },
     "output_type": "display_data"
    },
    {
     "data": {
      "image/png": "[encoded data removed]",
      "text/plain": [
       "<Figure size 432x288 with 2 Axes>"
      ]
     },
     "metadata": {
      "needs_background": "light"
     },
     "output_type": "display_data"
    },
    {
     "data": {
      "image/png": "[encoded data removed]",
      "text/plain": [
       "<Figure size 432x288 with 2 Axes>"
      ]
     },
     "metadata": {
      "needs_background": "light"
     },
     "output_type": "display_data"
    },
    {
     "data": {
      "image/png": "[encoded data removed]",
      "text/plain": [
       "<Figure size 432x288 with 2 Axes>"
      ]
     },
     "metadata": {
      "needs_background": "light"
     },
     "output_type": "display_data"
    }
   ],
   "source": [
    "# , im_shape=IM_SHAPE\n",
    "im = process(sample)\n",
    "print(im[1][0].shape)\n",
    "for c in range(im[1][0].shape[-1]):\n",
    "    plot_band(im[1][0][:,:,c])"
   ]
  },
  {
   "cell_type": "markdown",
   "metadata": {},
   "source": [
    "## NVDI"
   ]
  },
  {
   "cell_type": "code",
   "execution_count": 14,
   "metadata": {},
   "outputs": [
    {
     "name": "stderr",
     "output_type": "stream",
     "text": [
      "/home/lucas/Documentos/prod-milho/util.py:261: RuntimeWarning: invalid value encountered in true_divide\n",
      "  im = (im[:,:,3]-im[:,:,1]) / (im[:,:,3]+im[:,:,1])\n"
     ]
    },
    {
     "name": "stdout",
     "output_type": "stream",
     "text": [
      "(53, 53, 1)\n"
     ]
    },
    {
     "data": {
      "image/png": "[encoded data removed]",
      "text/plain": [
       "<Figure size 432x288 with 2 Axes>"
      ]
     },
     "metadata": {
      "needs_background": "light"
     },
     "output_type": "display_data"
    }
   ],
   "source": [
    "im = process(sample, transform_f=ndvi)\n",
    "print(im[1][0].shape)\n",
    "plot_band(im[1][0][:,:,0])"
   ]
  },
  {
   "cell_type": "markdown",
   "metadata": {},
   "source": [
    "## RVDI"
   ]
  },
  {
   "cell_type": "code",
   "execution_count": 15,
   "metadata": {},
   "outputs": [
    {
     "name": "stderr",
     "output_type": "stream",
     "text": [
      "/home/lucas/Documentos/prod-milho/util.py:265: RuntimeWarning: invalid value encountered in true_divide\n",
      "  im = (im[:,:,3]-im[:,:,1]) / (im[:,:,3]+im[:,:,1])**(1/2)\n"
     ]
    },
    {
     "name": "stdout",
     "output_type": "stream",
     "text": [
      "(53, 53, 1)\n"
     ]
    },
    {
     "data": {
      "image/png": "[encoded data removed]",
      "text/plain": [
       "<Figure size 432x288 with 2 Axes>"
      ]
     },
     "metadata": {
      "needs_background": "light"
     },
     "output_type": "display_data"
    }
   ],
   "source": [
    "im = process(sample, transform_f=rdvi)\n",
    "print(im[1][0].shape)\n",
    "plot_band(im[1][0][:,:,0])"
   ]
  },
  {
   "cell_type": "markdown",
   "metadata": {},
   "source": [
    "## OSAVI"
   ]
  },
  {
   "cell_type": "code",
   "execution_count": 16,
   "metadata": {},
   "outputs": [
    {
     "name": "stdout",
     "output_type": "stream",
     "text": [
      "(53, 53, 1)\n"
     ]
    },
    {
     "data": {
      "image/png": "[encoded data removed]",
      "text/plain": [
       "<Figure size 432x288 with 2 Axes>"
      ]
     },
     "metadata": {
      "needs_background": "light"
     },
     "output_type": "display_data"
    }
   ],
   "source": [
    "im = process(sample, transform_f=osavi)\n",
    "print(im[1][0].shape)\n",
    "plot_band(im[1][0][:,:,0])"
   ]
  },
  {
   "cell_type": "markdown",
   "metadata": {},
   "source": [
    "## MSR"
   ]
  },
  {
   "cell_type": "code",
   "execution_count": 17,
   "metadata": {},
   "outputs": [
    {
     "name": "stderr",
     "output_type": "stream",
     "text": [
      "/home/lucas/Documentos/prod-milho/util.py:273: RuntimeWarning: invalid value encountered in true_divide\n",
      "  im = (im[:,:,3]/im[:,:,1]) - 1/((im[:,:,3]/im[:,:,1])**(1/2)) + 1\n"
     ]
    },
    {
     "name": "stdout",
     "output_type": "stream",
     "text": [
      "(53, 53, 1)\n"
     ]
    },
    {
     "data": {
      "image/png": "[encoded data removed]",
      "text/plain": [
       "<Figure size 432x288 with 2 Axes>"
      ]
     },
     "metadata": {
      "needs_background": "light"
     },
     "output_type": "display_data"
    }
   ],
   "source": [
    "im = process(sample, transform_f=msr)\n",
    "print(im[1][0].shape)\n",
    "plot_band(im[1][0][:,:,0])"
   ]
  },
  {
   "cell_type": "markdown",
   "metadata": {},
   "source": [
    "## MCARI 1"
   ]
  },
  {
   "cell_type": "code",
   "execution_count": 18,
   "metadata": {},
   "outputs": [
    {
     "name": "stderr",
     "output_type": "stream",
     "text": [
      "/home/lucas/Documentos/prod-milho/util.py:277: RuntimeWarning: invalid value encountered in true_divide\n",
      "  im = 1.2*(2.5*((im[:,:,3] - im[:,:,1])) - 1.3*(im[:,:,3]/im[:,:,0]))\n"
     ]
    },
    {
     "name": "stdout",
     "output_type": "stream",
     "text": [
      "(53, 53, 1)\n"
     ]
    },
    {
     "data": {
      "image/png": "[encoded data removed]",
      "text/plain": [
       "<Figure size 432x288 with 2 Axes>"
      ]
     },
     "metadata": {
      "needs_background": "light"
     },
     "output_type": "display_data"
    }
   ],
   "source": [
    "im = process(sample, transform_f=mcari1)\n",
    "print(im[1][0].shape)\n",
    "plot_band(im[1][0][:,:,0])"
   ]
  },
  {
   "cell_type": "markdown",
   "metadata": {},
   "source": [
    "## MCARI 2"
   ]
  },
  {
   "cell_type": "code",
   "execution_count": 19,
   "metadata": {},
   "outputs": [
    {
     "name": "stderr",
     "output_type": "stream",
     "text": [
      "/home/lucas/Documentos/prod-milho/util.py:281: RuntimeWarning: invalid value encountered in true_divide\n",
      "  m1 = 1.2*(2.5*((im[:,:,3] - im[:,:,1])) - 1.3*(im[:,:,3]/im[:,:,0]))\n"
     ]
    },
    {
     "name": "stdout",
     "output_type": "stream",
     "text": [
      "(53, 53, 1)\n"
     ]
    },
    {
     "data": {
      "image/png": "[encoded data removed]",
      "text/plain": [
       "<Figure size 432x288 with 2 Axes>"
      ]
     },
     "metadata": {
      "needs_background": "light"
     },
     "output_type": "display_data"
    }
   ],
   "source": [
    "im = process(sample, transform_f=mcari2)\n",
    "print(im[1][0].shape)\n",
    "plot_band(im[1][0][:,:,0])"
   ]
  },
  {
   "cell_type": "markdown",
   "metadata": {},
   "source": [
    "## PSSRA"
   ]
  },
  {
   "cell_type": "code",
   "execution_count": 20,
   "metadata": {},
   "outputs": [
    {
     "name": "stderr",
     "output_type": "stream",
     "text": [
      "/home/lucas/Documentos/prod-milho/util.py:286: RuntimeWarning: invalid value encountered in true_divide\n",
      "  im = im[:,:,3]/im[:,:,1]\n"
     ]
    },
    {
     "name": "stdout",
     "output_type": "stream",
     "text": [
      "(53, 53, 1)\n"
     ]
    },
    {
     "data": {
      "image/png": "[encoded data removed]",
      "text/plain": [
       "<Figure size 432x288 with 2 Axes>"
      ]
     },
     "metadata": {
      "needs_background": "light"
     },
     "output_type": "display_data"
    }
   ],
   "source": [
    "im = process(sample, transform_f=pssra)\n",
    "print(im[1][0].shape)\n",
    "plot_band(im[1][0][:,:,0])"
   ]
  },
  {
   "cell_type": "markdown",
   "metadata": {},
   "source": [
    "## RGB RATIO"
   ]
  },
  {
   "cell_type": "code",
   "execution_count": 21,
   "metadata": {},
   "outputs": [
    {
     "name": "stderr",
     "output_type": "stream",
     "text": [
      "/home/lucas/Documentos/prod-milho/util.py:290: RuntimeWarning: invalid value encountered in true_divide\n",
      "  im = im[:,:,3]/im[:,:,1]\n"
     ]
    },
    {
     "name": "stdout",
     "output_type": "stream",
     "text": [
      "(53, 53, 1)\n"
     ]
    },
    {
     "data": {
      "image/png": "[encoded data removed]",
      "text/plain": [
       "<Figure size 432x288 with 2 Axes>"
      ]
     },
     "metadata": {
      "needs_background": "light"
     },
     "output_type": "display_data"
    }
   ],
   "source": [
    "im = process(sample, transform_f=g_rgb_ratio)\n",
    "print(im[1][0].shape)\n",
    "plot_band(im[1][0][:,:,0])"
   ]
  },
  {
   "cell_type": "code",
   "execution_count": null,
   "metadata": {},
   "outputs": [],
   "source": []
  }
 ],
 "metadata": {
  "kernelspec": {
   "display_name": "Python 3",
   "language": "python",
   "name": "python3"
  },
  "language_info": {
   "codemirror_mode": {
    "name": "ipython",
    "version": 3
   },
   "file_extension": ".py",
   "mimetype": "text/x-python",
   "name": "python",
   "nbconvert_exporter": "python",
   "pygments_lexer": "ipython3",
   "version": "3.7.7"
  }
 },
 "nbformat": 4,
 "nbformat_minor": 4
}
