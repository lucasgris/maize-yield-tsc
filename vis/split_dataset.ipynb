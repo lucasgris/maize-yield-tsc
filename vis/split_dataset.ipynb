{
 "cells": [
  {
   "cell_type": "markdown",
   "metadata": {},
   "source": [
    "# Conjunto de dados para treinamento, validação e teste"
   ]
  },
  {
   "cell_type": "code",
   "execution_count": 1,
   "metadata": {},
   "outputs": [],
   "source": [
    "DATASET = 'b2s'  # b2s ou bfs\n",
    "TYPE = \"multiespectral\""
   ]
  },
  {
   "cell_type": "markdown",
   "metadata": {},
   "source": [
    "## Importação"
   ]
  },
  {
   "cell_type": "code",
   "execution_count": 2,
   "metadata": {},
   "outputs": [],
   "source": [
    "from datetime import datetime\n",
    "from os import listdir\n",
    "from os.path import isfile, join\n",
    "\n",
    "import os\n",
    "import glob\n",
    "import random\n",
    "\n",
    "import numpy as np\n",
    "import pandas as pd\n",
    "\n",
    "import matplotlib.pyplot as plt\n",
    "import seaborn as sns"
   ]
  },
  {
   "cell_type": "markdown",
   "metadata": {},
   "source": [
    "## Metadados"
   ]
  },
  {
   "cell_type": "code",
   "execution_count": 3,
   "metadata": {},
   "outputs": [
    {
     "data": {
      "text/html": [
       "<div>\n",
       "<style scoped>\n",
       "    .dataframe tbody tr th:only-of-type {\n",
       "        vertical-align: middle;\n",
       "    }\n",
       "\n",
       "    .dataframe tbody tr th {\n",
       "        vertical-align: top;\n",
       "    }\n",
       "\n",
       "    .dataframe thead th {\n",
       "        text-align: right;\n",
       "    }\n",
       "</style>\n",
       "<table border=\"1\" class=\"dataframe\">\n",
       "  <thead>\n",
       "    <tr style=\"text-align: right;\">\n",
       "      <th></th>\n",
       "      <th>Instance</th>\n",
       "      <th>Crop</th>\n",
       "      <th>B1File</th>\n",
       "      <th>B2File</th>\n",
       "      <th>B3File</th>\n",
       "      <th>B4File</th>\n",
       "      <th>Name</th>\n",
       "      <th>REP</th>\n",
       "      <th>BLK</th>\n",
       "      <th>PLOT</th>\n",
       "      <th>ENTRY</th>\n",
       "      <th>Trial</th>\n",
       "      <th>Eval</th>\n",
       "      <th>Yield</th>\n",
       "    </tr>\n",
       "  </thead>\n",
       "  <tbody>\n",
       "    <tr>\n",
       "      <th>0</th>\n",
       "      <td>q170505tscrfl_fung_19</td>\n",
       "      <td>crop_tsc_2017_b2s</td>\n",
       "      <td>q170505tscrfl_fung_19_B1.tif</td>\n",
       "      <td>q170505tscrfl_fung_19_B2.tif</td>\n",
       "      <td>q170505tscrfl_fung_19_B3.tif</td>\n",
       "      <td>q170505tscrfl_fung_19_B4.tif</td>\n",
       "      <td>fung_19</td>\n",
       "      <td>1</td>\n",
       "      <td>4</td>\n",
       "      <td>19</td>\n",
       "      <td>17</td>\n",
       "      <td>Fungicide</td>\n",
       "      <td>1.0</td>\n",
       "      <td>6.055209</td>\n",
       "    </tr>\n",
       "    <tr>\n",
       "      <th>1</th>\n",
       "      <td>q170505tscrfl_fung_31</td>\n",
       "      <td>crop_tsc_2017_b2s</td>\n",
       "      <td>q170505tscrfl_fung_31_B1.tif</td>\n",
       "      <td>q170505tscrfl_fung_31_B2.tif</td>\n",
       "      <td>q170505tscrfl_fung_31_B3.tif</td>\n",
       "      <td>q170505tscrfl_fung_31_B4.tif</td>\n",
       "      <td>fung_31</td>\n",
       "      <td>2</td>\n",
       "      <td>7</td>\n",
       "      <td>31</td>\n",
       "      <td>19</td>\n",
       "      <td>Fungicide</td>\n",
       "      <td>1.0</td>\n",
       "      <td>4.081627</td>\n",
       "    </tr>\n",
       "    <tr>\n",
       "      <th>2</th>\n",
       "      <td>q170419tscrfl_fung_59</td>\n",
       "      <td>crop_tsc_2017_b2s</td>\n",
       "      <td>q170419tscrfl_fung_59_B1.tif</td>\n",
       "      <td>q170419tscrfl_fung_59_B2.tif</td>\n",
       "      <td>q170419tscrfl_fung_59_B3.tif</td>\n",
       "      <td>q170419tscrfl_fung_59_B4.tif</td>\n",
       "      <td>fung_59</td>\n",
       "      <td>3</td>\n",
       "      <td>12</td>\n",
       "      <td>59</td>\n",
       "      <td>10</td>\n",
       "      <td>Fungicide</td>\n",
       "      <td>1.0</td>\n",
       "      <td>4.612393</td>\n",
       "    </tr>\n",
       "  </tbody>\n",
       "</table>\n",
       "</div>"
      ],
      "text/plain": [
       "                Instance               Crop                        B1File  \\\n",
       "0  q170505tscrfl_fung_19  crop_tsc_2017_b2s  q170505tscrfl_fung_19_B1.tif   \n",
       "1  q170505tscrfl_fung_31  crop_tsc_2017_b2s  q170505tscrfl_fung_31_B1.tif   \n",
       "2  q170419tscrfl_fung_59  crop_tsc_2017_b2s  q170419tscrfl_fung_59_B1.tif   \n",
       "\n",
       "                         B2File                        B3File  \\\n",
       "0  q170505tscrfl_fung_19_B2.tif  q170505tscrfl_fung_19_B3.tif   \n",
       "1  q170505tscrfl_fung_31_B2.tif  q170505tscrfl_fung_31_B3.tif   \n",
       "2  q170419tscrfl_fung_59_B2.tif  q170419tscrfl_fung_59_B3.tif   \n",
       "\n",
       "                         B4File     Name  REP  BLK  PLOT  ENTRY      Trial  \\\n",
       "0  q170505tscrfl_fung_19_B4.tif  fung_19    1    4    19     17  Fungicide   \n",
       "1  q170505tscrfl_fung_31_B4.tif  fung_31    2    7    31     19  Fungicide   \n",
       "2  q170419tscrfl_fung_59_B4.tif  fung_59    3   12    59     10  Fungicide   \n",
       "\n",
       "   Eval     Yield  \n",
       "0   1.0  6.055209  \n",
       "1   1.0  4.081627  \n",
       "2   1.0  4.612393  "
      ]
     },
     "execution_count": 3,
     "metadata": {},
     "output_type": "execute_result"
    }
   ],
   "source": [
    "dfs = dict()\n",
    "for f in os.listdir(\"data\"):\n",
    "    if os.path.splitext(f)[-1] == '.csv':\n",
    "        dfs[f] = pd.read_csv(os.path.join(\"data\", f))\n",
    "        \n",
    "frames = []\n",
    "for k in dfs:\n",
    "    if DATASET in k and TYPE in k:\n",
    "        frames.append(dfs[k])\n",
    "metadata = pd.concat(frames)\n",
    "metadata.head(3)"
   ]
  },
  {
   "cell_type": "markdown",
   "metadata": {},
   "source": [
    "#### Adicionando data"
   ]
  },
  {
   "cell_type": "code",
   "execution_count": 4,
   "metadata": {},
   "outputs": [],
   "source": [
    "from datetime import datetime\n",
    "\n",
    "def extract_date(token):\n",
    "    date = ''\n",
    "    for s in token:\n",
    "        if s.isdigit():\n",
    "            date += s\n",
    "    return datetime.strptime(date, '%y%m%d')"
   ]
  },
  {
   "cell_type": "code",
   "execution_count": 5,
   "metadata": {},
   "outputs": [
    {
     "data": {
      "text/html": [
       "<div>\n",
       "<style scoped>\n",
       "    .dataframe tbody tr th:only-of-type {\n",
       "        vertical-align: middle;\n",
       "    }\n",
       "\n",
       "    .dataframe tbody tr th {\n",
       "        vertical-align: top;\n",
       "    }\n",
       "\n",
       "    .dataframe thead th {\n",
       "        text-align: right;\n",
       "    }\n",
       "</style>\n",
       "<table border=\"1\" class=\"dataframe\">\n",
       "  <thead>\n",
       "    <tr style=\"text-align: right;\">\n",
       "      <th></th>\n",
       "      <th>Instance</th>\n",
       "      <th>Crop</th>\n",
       "      <th>B1File</th>\n",
       "      <th>B2File</th>\n",
       "      <th>B3File</th>\n",
       "      <th>B4File</th>\n",
       "      <th>Name</th>\n",
       "      <th>REP</th>\n",
       "      <th>BLK</th>\n",
       "      <th>PLOT</th>\n",
       "      <th>ENTRY</th>\n",
       "      <th>Trial</th>\n",
       "      <th>Eval</th>\n",
       "      <th>Yield</th>\n",
       "      <th>Date</th>\n",
       "      <th>Year</th>\n",
       "    </tr>\n",
       "  </thead>\n",
       "  <tbody>\n",
       "    <tr>\n",
       "      <th>0</th>\n",
       "      <td>q170505tscrfl_fung_19</td>\n",
       "      <td>crop_tsc_2017_b2s</td>\n",
       "      <td>q170505tscrfl_fung_19_B1.tif</td>\n",
       "      <td>q170505tscrfl_fung_19_B2.tif</td>\n",
       "      <td>q170505tscrfl_fung_19_B3.tif</td>\n",
       "      <td>q170505tscrfl_fung_19_B4.tif</td>\n",
       "      <td>fung_19</td>\n",
       "      <td>1</td>\n",
       "      <td>4</td>\n",
       "      <td>19</td>\n",
       "      <td>17</td>\n",
       "      <td>Fungicide</td>\n",
       "      <td>1.0</td>\n",
       "      <td>6.055209</td>\n",
       "      <td>2017-05-05</td>\n",
       "      <td>2017</td>\n",
       "    </tr>\n",
       "    <tr>\n",
       "      <th>1</th>\n",
       "      <td>q170505tscrfl_fung_31</td>\n",
       "      <td>crop_tsc_2017_b2s</td>\n",
       "      <td>q170505tscrfl_fung_31_B1.tif</td>\n",
       "      <td>q170505tscrfl_fung_31_B2.tif</td>\n",
       "      <td>q170505tscrfl_fung_31_B3.tif</td>\n",
       "      <td>q170505tscrfl_fung_31_B4.tif</td>\n",
       "      <td>fung_31</td>\n",
       "      <td>2</td>\n",
       "      <td>7</td>\n",
       "      <td>31</td>\n",
       "      <td>19</td>\n",
       "      <td>Fungicide</td>\n",
       "      <td>1.0</td>\n",
       "      <td>4.081627</td>\n",
       "      <td>2017-05-05</td>\n",
       "      <td>2017</td>\n",
       "    </tr>\n",
       "    <tr>\n",
       "      <th>2</th>\n",
       "      <td>q170419tscrfl_fung_59</td>\n",
       "      <td>crop_tsc_2017_b2s</td>\n",
       "      <td>q170419tscrfl_fung_59_B1.tif</td>\n",
       "      <td>q170419tscrfl_fung_59_B2.tif</td>\n",
       "      <td>q170419tscrfl_fung_59_B3.tif</td>\n",
       "      <td>q170419tscrfl_fung_59_B4.tif</td>\n",
       "      <td>fung_59</td>\n",
       "      <td>3</td>\n",
       "      <td>12</td>\n",
       "      <td>59</td>\n",
       "      <td>10</td>\n",
       "      <td>Fungicide</td>\n",
       "      <td>1.0</td>\n",
       "      <td>4.612393</td>\n",
       "      <td>2017-04-19</td>\n",
       "      <td>2017</td>\n",
       "    </tr>\n",
       "  </tbody>\n",
       "</table>\n",
       "</div>"
      ],
      "text/plain": [
       "                Instance               Crop                        B1File  \\\n",
       "0  q170505tscrfl_fung_19  crop_tsc_2017_b2s  q170505tscrfl_fung_19_B1.tif   \n",
       "1  q170505tscrfl_fung_31  crop_tsc_2017_b2s  q170505tscrfl_fung_31_B1.tif   \n",
       "2  q170419tscrfl_fung_59  crop_tsc_2017_b2s  q170419tscrfl_fung_59_B1.tif   \n",
       "\n",
       "                         B2File                        B3File  \\\n",
       "0  q170505tscrfl_fung_19_B2.tif  q170505tscrfl_fung_19_B3.tif   \n",
       "1  q170505tscrfl_fung_31_B2.tif  q170505tscrfl_fung_31_B3.tif   \n",
       "2  q170419tscrfl_fung_59_B2.tif  q170419tscrfl_fung_59_B3.tif   \n",
       "\n",
       "                         B4File     Name  REP  BLK  PLOT  ENTRY      Trial  \\\n",
       "0  q170505tscrfl_fung_19_B4.tif  fung_19    1    4    19     17  Fungicide   \n",
       "1  q170505tscrfl_fung_31_B4.tif  fung_31    2    7    31     19  Fungicide   \n",
       "2  q170419tscrfl_fung_59_B4.tif  fung_59    3   12    59     10  Fungicide   \n",
       "\n",
       "   Eval     Yield       Date  Year  \n",
       "0   1.0  6.055209 2017-05-05  2017  \n",
       "1   1.0  4.081627 2017-05-05  2017  \n",
       "2   1.0  4.612393 2017-04-19  2017  "
      ]
     },
     "execution_count": 5,
     "metadata": {},
     "output_type": "execute_result"
    }
   ],
   "source": [
    "metadata['Date'] = metadata.apply(lambda x: extract_date(x['Instance'].split('_')[0]), axis=1)\n",
    "metadata['Year'] = metadata.apply(lambda x: x.Date.year, axis=1)\n",
    "metadata.head(3)"
   ]
  },
  {
   "cell_type": "markdown",
   "metadata": {},
   "source": [
    "#### Ordenando por nome,crop,data"
   ]
  },
  {
   "cell_type": "code",
   "execution_count": 6,
   "metadata": {},
   "outputs": [
    {
     "data": {
      "text/html": [
       "<div>\n",
       "<style scoped>\n",
       "    .dataframe tbody tr th:only-of-type {\n",
       "        vertical-align: middle;\n",
       "    }\n",
       "\n",
       "    .dataframe tbody tr th {\n",
       "        vertical-align: top;\n",
       "    }\n",
       "\n",
       "    .dataframe thead th {\n",
       "        text-align: right;\n",
       "    }\n",
       "</style>\n",
       "<table border=\"1\" class=\"dataframe\">\n",
       "  <thead>\n",
       "    <tr style=\"text-align: right;\">\n",
       "      <th></th>\n",
       "      <th>Instance</th>\n",
       "      <th>Crop</th>\n",
       "      <th>B1File</th>\n",
       "      <th>B2File</th>\n",
       "      <th>B3File</th>\n",
       "      <th>B4File</th>\n",
       "      <th>Name</th>\n",
       "      <th>REP</th>\n",
       "      <th>BLK</th>\n",
       "      <th>PLOT</th>\n",
       "      <th>ENTRY</th>\n",
       "      <th>Trial</th>\n",
       "      <th>Eval</th>\n",
       "      <th>Yield</th>\n",
       "      <th>Date</th>\n",
       "      <th>Year</th>\n",
       "    </tr>\n",
       "  </thead>\n",
       "  <tbody>\n",
       "    <tr>\n",
       "      <th>82</th>\n",
       "      <td>c160407tscrfl_fung_1</td>\n",
       "      <td>crop_tsc_2016_b2s</td>\n",
       "      <td>c160407tscrfl_fung_1_B1.tif</td>\n",
       "      <td>c160407tscrfl_fung_1_B2.tif</td>\n",
       "      <td>c160407tscrfl_fung_1_B3.tif</td>\n",
       "      <td>c160407tscrfl_fung_1_B4.tif</td>\n",
       "      <td>fung_1</td>\n",
       "      <td>1</td>\n",
       "      <td>1</td>\n",
       "      <td>1</td>\n",
       "      <td>22</td>\n",
       "      <td>Fungicide</td>\n",
       "      <td>1.0</td>\n",
       "      <td>5.296382</td>\n",
       "      <td>2016-04-07</td>\n",
       "      <td>2016</td>\n",
       "    </tr>\n",
       "    <tr>\n",
       "      <th>335</th>\n",
       "      <td>c160418tscrfl_fung_1</td>\n",
       "      <td>crop_tsc_2016_b2s</td>\n",
       "      <td>c160418tscrfl_fung_1_B1.tif</td>\n",
       "      <td>c160418tscrfl_fung_1_B2.tif</td>\n",
       "      <td>c160418tscrfl_fung_1_B3.tif</td>\n",
       "      <td>c160418tscrfl_fung_1_B4.tif</td>\n",
       "      <td>fung_1</td>\n",
       "      <td>1</td>\n",
       "      <td>1</td>\n",
       "      <td>1</td>\n",
       "      <td>22</td>\n",
       "      <td>Fungicide</td>\n",
       "      <td>1.0</td>\n",
       "      <td>5.296382</td>\n",
       "      <td>2016-04-18</td>\n",
       "      <td>2016</td>\n",
       "    </tr>\n",
       "    <tr>\n",
       "      <th>565</th>\n",
       "      <td>c160428tscrfl_fung_1</td>\n",
       "      <td>crop_tsc_2016_b2s</td>\n",
       "      <td>c160428tscrfl_fung_1_B1.tif</td>\n",
       "      <td>c160428tscrfl_fung_1_B2.tif</td>\n",
       "      <td>c160428tscrfl_fung_1_B3.tif</td>\n",
       "      <td>c160428tscrfl_fung_1_B4.tif</td>\n",
       "      <td>fung_1</td>\n",
       "      <td>1</td>\n",
       "      <td>1</td>\n",
       "      <td>1</td>\n",
       "      <td>22</td>\n",
       "      <td>Fungicide</td>\n",
       "      <td>1.0</td>\n",
       "      <td>5.296382</td>\n",
       "      <td>2016-04-28</td>\n",
       "      <td>2016</td>\n",
       "    </tr>\n",
       "  </tbody>\n",
       "</table>\n",
       "</div>"
      ],
      "text/plain": [
       "                 Instance               Crop                       B1File  \\\n",
       "82   c160407tscrfl_fung_1  crop_tsc_2016_b2s  c160407tscrfl_fung_1_B1.tif   \n",
       "335  c160418tscrfl_fung_1  crop_tsc_2016_b2s  c160418tscrfl_fung_1_B1.tif   \n",
       "565  c160428tscrfl_fung_1  crop_tsc_2016_b2s  c160428tscrfl_fung_1_B1.tif   \n",
       "\n",
       "                          B2File                       B3File  \\\n",
       "82   c160407tscrfl_fung_1_B2.tif  c160407tscrfl_fung_1_B3.tif   \n",
       "335  c160418tscrfl_fung_1_B2.tif  c160418tscrfl_fung_1_B3.tif   \n",
       "565  c160428tscrfl_fung_1_B2.tif  c160428tscrfl_fung_1_B3.tif   \n",
       "\n",
       "                          B4File    Name  REP  BLK  PLOT  ENTRY      Trial  \\\n",
       "82   c160407tscrfl_fung_1_B4.tif  fung_1    1    1     1     22  Fungicide   \n",
       "335  c160418tscrfl_fung_1_B4.tif  fung_1    1    1     1     22  Fungicide   \n",
       "565  c160428tscrfl_fung_1_B4.tif  fung_1    1    1     1     22  Fungicide   \n",
       "\n",
       "     Eval     Yield       Date  Year  \n",
       "82    1.0  5.296382 2016-04-07  2016  \n",
       "335   1.0  5.296382 2016-04-18  2016  \n",
       "565   1.0  5.296382 2016-04-28  2016  "
      ]
     },
     "execution_count": 6,
     "metadata": {},
     "output_type": "execute_result"
    }
   ],
   "source": [
    "metadata = metadata.sort_values(['Name', 'Crop', 'Date'])\n",
    "metadata.head(3)"
   ]
  },
  {
   "cell_type": "markdown",
   "metadata": {},
   "source": [
    "#### Definindo a instância"
   ]
  },
  {
   "cell_type": "code",
   "execution_count": 7,
   "metadata": {},
   "outputs": [],
   "source": [
    "metadata['Name'] = metadata.apply(lambda x: f'{(x.Name.split(\"_\")[0])}_{int(x.Name.split(\"_\")[1]):03}', axis=1)"
   ]
  },
  {
   "cell_type": "code",
   "execution_count": 8,
   "metadata": {},
   "outputs": [],
   "source": [
    "metadata['Instance'] = metadata.apply(lambda x: f'{x.Name}_{x.Crop}', axis=1)"
   ]
  },
  {
   "cell_type": "code",
   "execution_count": 9,
   "metadata": {},
   "outputs": [
    {
     "data": {
      "text/html": [
       "<div>\n",
       "<style scoped>\n",
       "    .dataframe tbody tr th:only-of-type {\n",
       "        vertical-align: middle;\n",
       "    }\n",
       "\n",
       "    .dataframe tbody tr th {\n",
       "        vertical-align: top;\n",
       "    }\n",
       "\n",
       "    .dataframe thead th {\n",
       "        text-align: right;\n",
       "    }\n",
       "</style>\n",
       "<table border=\"1\" class=\"dataframe\">\n",
       "  <thead>\n",
       "    <tr style=\"text-align: right;\">\n",
       "      <th></th>\n",
       "      <th>Instance</th>\n",
       "      <th>Crop</th>\n",
       "      <th>B1File</th>\n",
       "      <th>B2File</th>\n",
       "      <th>B3File</th>\n",
       "      <th>B4File</th>\n",
       "      <th>Name</th>\n",
       "      <th>REP</th>\n",
       "      <th>BLK</th>\n",
       "      <th>PLOT</th>\n",
       "      <th>ENTRY</th>\n",
       "      <th>Trial</th>\n",
       "      <th>Eval</th>\n",
       "      <th>Yield</th>\n",
       "      <th>Date</th>\n",
       "      <th>Year</th>\n",
       "    </tr>\n",
       "  </thead>\n",
       "  <tbody>\n",
       "    <tr>\n",
       "      <th>82</th>\n",
       "      <td>fung_001_crop_tsc_2016_b2s</td>\n",
       "      <td>crop_tsc_2016_b2s</td>\n",
       "      <td>c160407tscrfl_fung_1_B1.tif</td>\n",
       "      <td>c160407tscrfl_fung_1_B2.tif</td>\n",
       "      <td>c160407tscrfl_fung_1_B3.tif</td>\n",
       "      <td>c160407tscrfl_fung_1_B4.tif</td>\n",
       "      <td>fung_001</td>\n",
       "      <td>1</td>\n",
       "      <td>1</td>\n",
       "      <td>1</td>\n",
       "      <td>22</td>\n",
       "      <td>Fungicide</td>\n",
       "      <td>1.0</td>\n",
       "      <td>5.296382</td>\n",
       "      <td>2016-04-07</td>\n",
       "      <td>2016</td>\n",
       "    </tr>\n",
       "    <tr>\n",
       "      <th>335</th>\n",
       "      <td>fung_001_crop_tsc_2016_b2s</td>\n",
       "      <td>crop_tsc_2016_b2s</td>\n",
       "      <td>c160418tscrfl_fung_1_B1.tif</td>\n",
       "      <td>c160418tscrfl_fung_1_B2.tif</td>\n",
       "      <td>c160418tscrfl_fung_1_B3.tif</td>\n",
       "      <td>c160418tscrfl_fung_1_B4.tif</td>\n",
       "      <td>fung_001</td>\n",
       "      <td>1</td>\n",
       "      <td>1</td>\n",
       "      <td>1</td>\n",
       "      <td>22</td>\n",
       "      <td>Fungicide</td>\n",
       "      <td>1.0</td>\n",
       "      <td>5.296382</td>\n",
       "      <td>2016-04-18</td>\n",
       "      <td>2016</td>\n",
       "    </tr>\n",
       "    <tr>\n",
       "      <th>565</th>\n",
       "      <td>fung_001_crop_tsc_2016_b2s</td>\n",
       "      <td>crop_tsc_2016_b2s</td>\n",
       "      <td>c160428tscrfl_fung_1_B1.tif</td>\n",
       "      <td>c160428tscrfl_fung_1_B2.tif</td>\n",
       "      <td>c160428tscrfl_fung_1_B3.tif</td>\n",
       "      <td>c160428tscrfl_fung_1_B4.tif</td>\n",
       "      <td>fung_001</td>\n",
       "      <td>1</td>\n",
       "      <td>1</td>\n",
       "      <td>1</td>\n",
       "      <td>22</td>\n",
       "      <td>Fungicide</td>\n",
       "      <td>1.0</td>\n",
       "      <td>5.296382</td>\n",
       "      <td>2016-04-28</td>\n",
       "      <td>2016</td>\n",
       "    </tr>\n",
       "    <tr>\n",
       "      <th>10</th>\n",
       "      <td>fung_001_crop_tsc_2016_b2s</td>\n",
       "      <td>crop_tsc_2016_b2s</td>\n",
       "      <td>c160511tscrfl_fung_1_B1.tif</td>\n",
       "      <td>c160511tscrfl_fung_1_B2.tif</td>\n",
       "      <td>c160511tscrfl_fung_1_B3.tif</td>\n",
       "      <td>c160511tscrfl_fung_1_B4.tif</td>\n",
       "      <td>fung_001</td>\n",
       "      <td>1</td>\n",
       "      <td>1</td>\n",
       "      <td>1</td>\n",
       "      <td>22</td>\n",
       "      <td>Fungicide</td>\n",
       "      <td>1.0</td>\n",
       "      <td>5.296382</td>\n",
       "      <td>2016-05-11</td>\n",
       "      <td>2016</td>\n",
       "    </tr>\n",
       "    <tr>\n",
       "      <th>385</th>\n",
       "      <td>fung_001_crop_tsc_2017_b2s</td>\n",
       "      <td>crop_tsc_2017_b2s</td>\n",
       "      <td>q170419tscrfl_fung_1_B1.tif</td>\n",
       "      <td>q170419tscrfl_fung_1_B2.tif</td>\n",
       "      <td>q170419tscrfl_fung_1_B3.tif</td>\n",
       "      <td>q170419tscrfl_fung_1_B4.tif</td>\n",
       "      <td>fung_001</td>\n",
       "      <td>1</td>\n",
       "      <td>1</td>\n",
       "      <td>1</td>\n",
       "      <td>23</td>\n",
       "      <td>Fungicide</td>\n",
       "      <td>1.0</td>\n",
       "      <td>5.643749</td>\n",
       "      <td>2017-04-19</td>\n",
       "      <td>2017</td>\n",
       "    </tr>\n",
       "  </tbody>\n",
       "</table>\n",
       "</div>"
      ],
      "text/plain": [
       "                       Instance               Crop  \\\n",
       "82   fung_001_crop_tsc_2016_b2s  crop_tsc_2016_b2s   \n",
       "335  fung_001_crop_tsc_2016_b2s  crop_tsc_2016_b2s   \n",
       "565  fung_001_crop_tsc_2016_b2s  crop_tsc_2016_b2s   \n",
       "10   fung_001_crop_tsc_2016_b2s  crop_tsc_2016_b2s   \n",
       "385  fung_001_crop_tsc_2017_b2s  crop_tsc_2017_b2s   \n",
       "\n",
       "                          B1File                       B2File  \\\n",
       "82   c160407tscrfl_fung_1_B1.tif  c160407tscrfl_fung_1_B2.tif   \n",
       "335  c160418tscrfl_fung_1_B1.tif  c160418tscrfl_fung_1_B2.tif   \n",
       "565  c160428tscrfl_fung_1_B1.tif  c160428tscrfl_fung_1_B2.tif   \n",
       "10   c160511tscrfl_fung_1_B1.tif  c160511tscrfl_fung_1_B2.tif   \n",
       "385  q170419tscrfl_fung_1_B1.tif  q170419tscrfl_fung_1_B2.tif   \n",
       "\n",
       "                          B3File                       B4File      Name  REP  \\\n",
       "82   c160407tscrfl_fung_1_B3.tif  c160407tscrfl_fung_1_B4.tif  fung_001    1   \n",
       "335  c160418tscrfl_fung_1_B3.tif  c160418tscrfl_fung_1_B4.tif  fung_001    1   \n",
       "565  c160428tscrfl_fung_1_B3.tif  c160428tscrfl_fung_1_B4.tif  fung_001    1   \n",
       "10   c160511tscrfl_fung_1_B3.tif  c160511tscrfl_fung_1_B4.tif  fung_001    1   \n",
       "385  q170419tscrfl_fung_1_B3.tif  q170419tscrfl_fung_1_B4.tif  fung_001    1   \n",
       "\n",
       "     BLK  PLOT  ENTRY      Trial  Eval     Yield       Date  Year  \n",
       "82     1     1     22  Fungicide   1.0  5.296382 2016-04-07  2016  \n",
       "335    1     1     22  Fungicide   1.0  5.296382 2016-04-18  2016  \n",
       "565    1     1     22  Fungicide   1.0  5.296382 2016-04-28  2016  \n",
       "10     1     1     22  Fungicide   1.0  5.296382 2016-05-11  2016  \n",
       "385    1     1     23  Fungicide   1.0  5.643749 2017-04-19  2017  "
      ]
     },
     "execution_count": 9,
     "metadata": {},
     "output_type": "execute_result"
    }
   ],
   "source": [
    "metadata.head()"
   ]
  },
  {
   "cell_type": "code",
   "execution_count": 10,
   "metadata": {},
   "outputs": [
    {
     "data": {
      "text/html": [
       "<div>\n",
       "<style scoped>\n",
       "    .dataframe tbody tr th:only-of-type {\n",
       "        vertical-align: middle;\n",
       "    }\n",
       "\n",
       "    .dataframe tbody tr th {\n",
       "        vertical-align: top;\n",
       "    }\n",
       "\n",
       "    .dataframe thead th {\n",
       "        text-align: right;\n",
       "    }\n",
       "</style>\n",
       "<table border=\"1\" class=\"dataframe\">\n",
       "  <thead>\n",
       "    <tr style=\"text-align: right;\">\n",
       "      <th></th>\n",
       "      <th>Instance</th>\n",
       "      <th>Crop</th>\n",
       "      <th>B1File</th>\n",
       "      <th>B2File</th>\n",
       "      <th>B3File</th>\n",
       "      <th>B4File</th>\n",
       "      <th>Name</th>\n",
       "      <th>REP</th>\n",
       "      <th>BLK</th>\n",
       "      <th>PLOT</th>\n",
       "      <th>ENTRY</th>\n",
       "      <th>Trial</th>\n",
       "      <th>Eval</th>\n",
       "      <th>Yield</th>\n",
       "      <th>Date</th>\n",
       "      <th>Year</th>\n",
       "    </tr>\n",
       "  </thead>\n",
       "  <tbody>\n",
       "    <tr>\n",
       "      <th>82</th>\n",
       "      <td>fung_001_crop_tsc_2016_b2s</td>\n",
       "      <td>crop_tsc_2016_b2s</td>\n",
       "      <td>data/RAW/crop_tsc_2016_b2s/c160407tscrfl_fung_...</td>\n",
       "      <td>data/RAW/crop_tsc_2016_b2s/c160407tscrfl_fung_...</td>\n",
       "      <td>data/RAW/crop_tsc_2016_b2s/c160407tscrfl_fung_...</td>\n",
       "      <td>data/RAW/crop_tsc_2016_b2s/c160407tscrfl_fung_...</td>\n",
       "      <td>fung_001</td>\n",
       "      <td>1</td>\n",
       "      <td>1</td>\n",
       "      <td>1</td>\n",
       "      <td>22</td>\n",
       "      <td>Fungicide</td>\n",
       "      <td>1.0</td>\n",
       "      <td>5.296382</td>\n",
       "      <td>2016-04-07</td>\n",
       "      <td>2016</td>\n",
       "    </tr>\n",
       "    <tr>\n",
       "      <th>335</th>\n",
       "      <td>fung_001_crop_tsc_2016_b2s</td>\n",
       "      <td>crop_tsc_2016_b2s</td>\n",
       "      <td>data/RAW/crop_tsc_2016_b2s/c160418tscrfl_fung_...</td>\n",
       "      <td>data/RAW/crop_tsc_2016_b2s/c160418tscrfl_fung_...</td>\n",
       "      <td>data/RAW/crop_tsc_2016_b2s/c160418tscrfl_fung_...</td>\n",
       "      <td>data/RAW/crop_tsc_2016_b2s/c160418tscrfl_fung_...</td>\n",
       "      <td>fung_001</td>\n",
       "      <td>1</td>\n",
       "      <td>1</td>\n",
       "      <td>1</td>\n",
       "      <td>22</td>\n",
       "      <td>Fungicide</td>\n",
       "      <td>1.0</td>\n",
       "      <td>5.296382</td>\n",
       "      <td>2016-04-18</td>\n",
       "      <td>2016</td>\n",
       "    </tr>\n",
       "    <tr>\n",
       "      <th>565</th>\n",
       "      <td>fung_001_crop_tsc_2016_b2s</td>\n",
       "      <td>crop_tsc_2016_b2s</td>\n",
       "      <td>data/RAW/crop_tsc_2016_b2s/c160428tscrfl_fung_...</td>\n",
       "      <td>data/RAW/crop_tsc_2016_b2s/c160428tscrfl_fung_...</td>\n",
       "      <td>data/RAW/crop_tsc_2016_b2s/c160428tscrfl_fung_...</td>\n",
       "      <td>data/RAW/crop_tsc_2016_b2s/c160428tscrfl_fung_...</td>\n",
       "      <td>fung_001</td>\n",
       "      <td>1</td>\n",
       "      <td>1</td>\n",
       "      <td>1</td>\n",
       "      <td>22</td>\n",
       "      <td>Fungicide</td>\n",
       "      <td>1.0</td>\n",
       "      <td>5.296382</td>\n",
       "      <td>2016-04-28</td>\n",
       "      <td>2016</td>\n",
       "    </tr>\n",
       "  </tbody>\n",
       "</table>\n",
       "</div>"
      ],
      "text/plain": [
       "                       Instance               Crop  \\\n",
       "82   fung_001_crop_tsc_2016_b2s  crop_tsc_2016_b2s   \n",
       "335  fung_001_crop_tsc_2016_b2s  crop_tsc_2016_b2s   \n",
       "565  fung_001_crop_tsc_2016_b2s  crop_tsc_2016_b2s   \n",
       "\n",
       "                                                B1File  \\\n",
       "82   data/RAW/crop_tsc_2016_b2s/c160407tscrfl_fung_...   \n",
       "335  data/RAW/crop_tsc_2016_b2s/c160418tscrfl_fung_...   \n",
       "565  data/RAW/crop_tsc_2016_b2s/c160428tscrfl_fung_...   \n",
       "\n",
       "                                                B2File  \\\n",
       "82   data/RAW/crop_tsc_2016_b2s/c160407tscrfl_fung_...   \n",
       "335  data/RAW/crop_tsc_2016_b2s/c160418tscrfl_fung_...   \n",
       "565  data/RAW/crop_tsc_2016_b2s/c160428tscrfl_fung_...   \n",
       "\n",
       "                                                B3File  \\\n",
       "82   data/RAW/crop_tsc_2016_b2s/c160407tscrfl_fung_...   \n",
       "335  data/RAW/crop_tsc_2016_b2s/c160418tscrfl_fung_...   \n",
       "565  data/RAW/crop_tsc_2016_b2s/c160428tscrfl_fung_...   \n",
       "\n",
       "                                                B4File      Name  REP  BLK  \\\n",
       "82   data/RAW/crop_tsc_2016_b2s/c160407tscrfl_fung_...  fung_001    1    1   \n",
       "335  data/RAW/crop_tsc_2016_b2s/c160418tscrfl_fung_...  fung_001    1    1   \n",
       "565  data/RAW/crop_tsc_2016_b2s/c160428tscrfl_fung_...  fung_001    1    1   \n",
       "\n",
       "     PLOT  ENTRY      Trial  Eval     Yield       Date  Year  \n",
       "82      1     22  Fungicide   1.0  5.296382 2016-04-07  2016  \n",
       "335     1     22  Fungicide   1.0  5.296382 2016-04-18  2016  \n",
       "565     1     22  Fungicide   1.0  5.296382 2016-04-28  2016  "
      ]
     },
     "execution_count": 10,
     "metadata": {},
     "output_type": "execute_result"
    }
   ],
   "source": [
    "for key in ['B1File', 'B2File', 'B3File', 'B4File']:\n",
    "    metadata[key] = metadata.apply(lambda x: os.path.join('data', 'RAW', x['Crop'], x[key]), axis=1)\n",
    "metadata.head(3)"
   ]
  },
  {
   "cell_type": "markdown",
   "metadata": {},
   "source": [
    "#### Definindo *Days after sowing*"
   ]
  },
  {
   "cell_type": "code",
   "execution_count": 11,
   "metadata": {},
   "outputs": [],
   "source": [
    "sowing_2016 = datetime.strptime('2016-01-19', '%Y-%m-%d')\n",
    "sowing_2017 = datetime.strptime('2017-01-24', '%Y-%m-%d')\n",
    "\n",
    "def get_das(date):\n",
    "    if date.year == 2016:\n",
    "        return (date - sowing_2016).days\n",
    "    elif date.year == 2017:\n",
    "        return (date - sowing_2017).days"
   ]
  },
  {
   "cell_type": "code",
   "execution_count": 12,
   "metadata": {},
   "outputs": [
    {
     "data": {
      "text/html": [
       "<div>\n",
       "<style scoped>\n",
       "    .dataframe tbody tr th:only-of-type {\n",
       "        vertical-align: middle;\n",
       "    }\n",
       "\n",
       "    .dataframe tbody tr th {\n",
       "        vertical-align: top;\n",
       "    }\n",
       "\n",
       "    .dataframe thead th {\n",
       "        text-align: right;\n",
       "    }\n",
       "</style>\n",
       "<table border=\"1\" class=\"dataframe\">\n",
       "  <thead>\n",
       "    <tr style=\"text-align: right;\">\n",
       "      <th></th>\n",
       "      <th>Instance</th>\n",
       "      <th>Crop</th>\n",
       "      <th>B1File</th>\n",
       "      <th>B2File</th>\n",
       "      <th>B3File</th>\n",
       "      <th>B4File</th>\n",
       "      <th>Name</th>\n",
       "      <th>REP</th>\n",
       "      <th>BLK</th>\n",
       "      <th>PLOT</th>\n",
       "      <th>ENTRY</th>\n",
       "      <th>Trial</th>\n",
       "      <th>Eval</th>\n",
       "      <th>Yield</th>\n",
       "      <th>Date</th>\n",
       "      <th>Year</th>\n",
       "      <th>DAS</th>\n",
       "    </tr>\n",
       "  </thead>\n",
       "  <tbody>\n",
       "    <tr>\n",
       "      <th>82</th>\n",
       "      <td>fung_001_crop_tsc_2016_b2s</td>\n",
       "      <td>crop_tsc_2016_b2s</td>\n",
       "      <td>data/RAW/crop_tsc_2016_b2s/c160407tscrfl_fung_...</td>\n",
       "      <td>data/RAW/crop_tsc_2016_b2s/c160407tscrfl_fung_...</td>\n",
       "      <td>data/RAW/crop_tsc_2016_b2s/c160407tscrfl_fung_...</td>\n",
       "      <td>data/RAW/crop_tsc_2016_b2s/c160407tscrfl_fung_...</td>\n",
       "      <td>fung_001</td>\n",
       "      <td>1</td>\n",
       "      <td>1</td>\n",
       "      <td>1</td>\n",
       "      <td>22</td>\n",
       "      <td>Fungicide</td>\n",
       "      <td>1.0</td>\n",
       "      <td>5.296382</td>\n",
       "      <td>2016-04-07</td>\n",
       "      <td>2016</td>\n",
       "      <td>79</td>\n",
       "    </tr>\n",
       "    <tr>\n",
       "      <th>335</th>\n",
       "      <td>fung_001_crop_tsc_2016_b2s</td>\n",
       "      <td>crop_tsc_2016_b2s</td>\n",
       "      <td>data/RAW/crop_tsc_2016_b2s/c160418tscrfl_fung_...</td>\n",
       "      <td>data/RAW/crop_tsc_2016_b2s/c160418tscrfl_fung_...</td>\n",
       "      <td>data/RAW/crop_tsc_2016_b2s/c160418tscrfl_fung_...</td>\n",
       "      <td>data/RAW/crop_tsc_2016_b2s/c160418tscrfl_fung_...</td>\n",
       "      <td>fung_001</td>\n",
       "      <td>1</td>\n",
       "      <td>1</td>\n",
       "      <td>1</td>\n",
       "      <td>22</td>\n",
       "      <td>Fungicide</td>\n",
       "      <td>1.0</td>\n",
       "      <td>5.296382</td>\n",
       "      <td>2016-04-18</td>\n",
       "      <td>2016</td>\n",
       "      <td>90</td>\n",
       "    </tr>\n",
       "    <tr>\n",
       "      <th>565</th>\n",
       "      <td>fung_001_crop_tsc_2016_b2s</td>\n",
       "      <td>crop_tsc_2016_b2s</td>\n",
       "      <td>data/RAW/crop_tsc_2016_b2s/c160428tscrfl_fung_...</td>\n",
       "      <td>data/RAW/crop_tsc_2016_b2s/c160428tscrfl_fung_...</td>\n",
       "      <td>data/RAW/crop_tsc_2016_b2s/c160428tscrfl_fung_...</td>\n",
       "      <td>data/RAW/crop_tsc_2016_b2s/c160428tscrfl_fung_...</td>\n",
       "      <td>fung_001</td>\n",
       "      <td>1</td>\n",
       "      <td>1</td>\n",
       "      <td>1</td>\n",
       "      <td>22</td>\n",
       "      <td>Fungicide</td>\n",
       "      <td>1.0</td>\n",
       "      <td>5.296382</td>\n",
       "      <td>2016-04-28</td>\n",
       "      <td>2016</td>\n",
       "      <td>100</td>\n",
       "    </tr>\n",
       "  </tbody>\n",
       "</table>\n",
       "</div>"
      ],
      "text/plain": [
       "                       Instance               Crop  \\\n",
       "82   fung_001_crop_tsc_2016_b2s  crop_tsc_2016_b2s   \n",
       "335  fung_001_crop_tsc_2016_b2s  crop_tsc_2016_b2s   \n",
       "565  fung_001_crop_tsc_2016_b2s  crop_tsc_2016_b2s   \n",
       "\n",
       "                                                B1File  \\\n",
       "82   data/RAW/crop_tsc_2016_b2s/c160407tscrfl_fung_...   \n",
       "335  data/RAW/crop_tsc_2016_b2s/c160418tscrfl_fung_...   \n",
       "565  data/RAW/crop_tsc_2016_b2s/c160428tscrfl_fung_...   \n",
       "\n",
       "                                                B2File  \\\n",
       "82   data/RAW/crop_tsc_2016_b2s/c160407tscrfl_fung_...   \n",
       "335  data/RAW/crop_tsc_2016_b2s/c160418tscrfl_fung_...   \n",
       "565  data/RAW/crop_tsc_2016_b2s/c160428tscrfl_fung_...   \n",
       "\n",
       "                                                B3File  \\\n",
       "82   data/RAW/crop_tsc_2016_b2s/c160407tscrfl_fung_...   \n",
       "335  data/RAW/crop_tsc_2016_b2s/c160418tscrfl_fung_...   \n",
       "565  data/RAW/crop_tsc_2016_b2s/c160428tscrfl_fung_...   \n",
       "\n",
       "                                                B4File      Name  REP  BLK  \\\n",
       "82   data/RAW/crop_tsc_2016_b2s/c160407tscrfl_fung_...  fung_001    1    1   \n",
       "335  data/RAW/crop_tsc_2016_b2s/c160418tscrfl_fung_...  fung_001    1    1   \n",
       "565  data/RAW/crop_tsc_2016_b2s/c160428tscrfl_fung_...  fung_001    1    1   \n",
       "\n",
       "     PLOT  ENTRY      Trial  Eval     Yield       Date  Year  DAS  \n",
       "82      1     22  Fungicide   1.0  5.296382 2016-04-07  2016   79  \n",
       "335     1     22  Fungicide   1.0  5.296382 2016-04-18  2016   90  \n",
       "565     1     22  Fungicide   1.0  5.296382 2016-04-28  2016  100  "
      ]
     },
     "execution_count": 12,
     "metadata": {},
     "output_type": "execute_result"
    }
   ],
   "source": [
    "metadata['DAS'] = metadata.apply(lambda x: get_das(x.Date), axis=1)\n",
    "metadata.head(3)"
   ]
  },
  {
   "cell_type": "markdown",
   "metadata": {},
   "source": [
    "### Análise dos dados"
   ]
  },
  {
   "cell_type": "code",
   "execution_count": 13,
   "metadata": {},
   "outputs": [],
   "source": [
    "def plot_freq_das(df):\n",
    "    plt.figure(figsize=(8,3))\n",
    "    evals = df['DAS'].value_counts()\n",
    "    sns.barplot(evals.index, evals.values)\n",
    "    plt.xticks(rotation='vertical')\n",
    "    plt.xlabel('Pontuação')\n",
    "    plt.ylabel('Dias')\n",
    "    plt.title(\"Days after sowing\")\n",
    "    plt.show()"
   ]
  },
  {
   "cell_type": "markdown",
   "metadata": {},
   "source": [
    "#### Frequência de TSC (Eval)"
   ]
  },
  {
   "cell_type": "code",
   "execution_count": 14,
   "metadata": {},
   "outputs": [],
   "source": [
    "def plot_freq_tsc(df):\n",
    "    plt.figure(figsize=(8,3))\n",
    "    evals = df['Eval'].value_counts()\n",
    "    sns.barplot(evals.index, evals.values)\n",
    "    plt.xticks(rotation='vertical')\n",
    "    plt.xlabel('Pontuação')\n",
    "    plt.ylabel('Frequência')\n",
    "    plt.show()"
   ]
  },
  {
   "cell_type": "code",
   "execution_count": 15,
   "metadata": {},
   "outputs": [
    {
     "data": {
      "image/png": "[encoded data removed]",
      "text/plain": [
       "<Figure size 576x216 with 1 Axes>"
      ]
     },
     "metadata": {
      "needs_background": "light"
     },
     "output_type": "display_data"
    }
   ],
   "source": [
    "plot_freq_tsc(metadata)"
   ]
  },
  {
   "cell_type": "code",
   "execution_count": 17,
   "metadata": {},
   "outputs": [
    {
     "name": "stdout",
     "output_type": "stream",
     "text": [
      "[1 2 3]\n"
     ]
    },
    {
     "data": {
      "image/png": "[encoded data removed]",
      "text/plain": [
       "<Figure size 576x216 with 1 Axes>"
      ]
     },
     "metadata": {
      "needs_background": "light"
     },
     "output_type": "display_data"
    }
   ],
   "source": [
    "print(np.unique(np.asarray(metadata['REP'])))\n",
    "plt.figure(figsize=(8,3))\n",
    "evals = metadata['REP'].value_counts()\n",
    "sns.barplot(evals.index, evals.values)\n",
    "plt.xticks(rotation='vertical')\n",
    "plt.xlabel('REP')\n",
    "plt.ylabel('Frequência')\n",
    "plt.show()"
   ]
  },
  {
   "cell_type": "code",
   "execution_count": 18,
   "metadata": {},
   "outputs": [
    {
     "name": "stdout",
     "output_type": "stream",
     "text": [
      "[ 1  2  3  4  5  6  7  8  9 10 11 12 13 14 15]\n"
     ]
    },
    {
     "data": {
      "image/png": "[encoded data removed]",
      "text/plain": [
       "<Figure size 576x216 with 1 Axes>"
      ]
     },
     "metadata": {
      "needs_background": "light"
     },
     "output_type": "display_data"
    }
   ],
   "source": [
    "print(np.unique(np.asarray(metadata['BLK'])))\n",
    "plt.figure(figsize=(8,3))\n",
    "evals = metadata['BLK'].value_counts()\n",
    "sns.barplot(evals.index, evals.values)\n",
    "plt.xticks(rotation='vertical')\n",
    "plt.xlabel('BLK')\n",
    "plt.ylabel('Frequência')\n",
    "plt.show()"
   ]
  },
  {
   "cell_type": "markdown",
   "metadata": {},
   "source": [
    "## Train test split"
   ]
  },
  {
   "cell_type": "markdown",
   "metadata": {},
   "source": [
    "### Rodada 1\n",
    "\n",
    "Na rodada 1 serão usados dados sem fungicida. \n",
    "\n",
    "O split entre os sets de treinamento, teste e validação serão feitos com base no ano de cada instância.\n",
    "\n",
    "O split entre os sets de treinamento e validação é aleatório."
   ]
  },
  {
   "cell_type": "code",
   "execution_count": 16,
   "metadata": {},
   "outputs": [
    {
     "name": "stdout",
     "output_type": "stream",
     "text": [
      "Tamanho dos dados de treinamento e validação:  300\n",
      "Tamanho dos dados de teste:  225\n"
     ]
    }
   ],
   "source": [
    "trial1 = metadata[metadata.Trial != 'Fungicide']\n",
    "trial1_train_val = trial1[trial1.Year == 2016]\n",
    "trial1_test = trial1[trial1.Year == 2017] \n",
    "print(\"Tamanho dos dados de treinamento e validação: \", len(trial1_train_val))\n",
    "print(\"Tamanho dos dados de teste: \", len(trial1_test))"
   ]
  },
  {
   "cell_type": "code",
   "execution_count": 17,
   "metadata": {},
   "outputs": [
    {
     "data": {
      "text/html": [
       "<div>\n",
       "<style scoped>\n",
       "    .dataframe tbody tr th:only-of-type {\n",
       "        vertical-align: middle;\n",
       "    }\n",
       "\n",
       "    .dataframe tbody tr th {\n",
       "        vertical-align: top;\n",
       "    }\n",
       "\n",
       "    .dataframe thead th {\n",
       "        text-align: right;\n",
       "    }\n",
       "</style>\n",
       "<table border=\"1\" class=\"dataframe\">\n",
       "  <thead>\n",
       "    <tr style=\"text-align: right;\">\n",
       "      <th></th>\n",
       "      <th>Instance</th>\n",
       "      <th>Crop</th>\n",
       "      <th>B1File</th>\n",
       "      <th>B2File</th>\n",
       "      <th>B3File</th>\n",
       "      <th>B4File</th>\n",
       "      <th>Name</th>\n",
       "      <th>REP</th>\n",
       "      <th>BLK</th>\n",
       "      <th>PLOT</th>\n",
       "      <th>ENTRY</th>\n",
       "      <th>Trial</th>\n",
       "      <th>Eval</th>\n",
       "      <th>Yield</th>\n",
       "      <th>Date</th>\n",
       "      <th>Year</th>\n",
       "      <th>DAS</th>\n",
       "    </tr>\n",
       "  </thead>\n",
       "  <tbody>\n",
       "    <tr>\n",
       "      <th>59</th>\n",
       "      <td>nfung_001_crop_tsc_2016_b2s</td>\n",
       "      <td>crop_tsc_2016_b2s</td>\n",
       "      <td>data/RAW/crop_tsc_2016_b2s/c160407tscrfl_nfung...</td>\n",
       "      <td>data/RAW/crop_tsc_2016_b2s/c160407tscrfl_nfung...</td>\n",
       "      <td>data/RAW/crop_tsc_2016_b2s/c160407tscrfl_nfung...</td>\n",
       "      <td>data/RAW/crop_tsc_2016_b2s/c160407tscrfl_nfung...</td>\n",
       "      <td>nfung_001</td>\n",
       "      <td>1</td>\n",
       "      <td>1</td>\n",
       "      <td>1</td>\n",
       "      <td>24</td>\n",
       "      <td>No fungicide</td>\n",
       "      <td>2.5</td>\n",
       "      <td>2.705875</td>\n",
       "      <td>2016-04-07</td>\n",
       "      <td>2016</td>\n",
       "      <td>79</td>\n",
       "    </tr>\n",
       "    <tr>\n",
       "      <th>267</th>\n",
       "      <td>nfung_001_crop_tsc_2016_b2s</td>\n",
       "      <td>crop_tsc_2016_b2s</td>\n",
       "      <td>data/RAW/crop_tsc_2016_b2s/c160418tscrfl_nfung...</td>\n",
       "      <td>data/RAW/crop_tsc_2016_b2s/c160418tscrfl_nfung...</td>\n",
       "      <td>data/RAW/crop_tsc_2016_b2s/c160418tscrfl_nfung...</td>\n",
       "      <td>data/RAW/crop_tsc_2016_b2s/c160418tscrfl_nfung...</td>\n",
       "      <td>nfung_001</td>\n",
       "      <td>1</td>\n",
       "      <td>1</td>\n",
       "      <td>1</td>\n",
       "      <td>24</td>\n",
       "      <td>No fungicide</td>\n",
       "      <td>3.5</td>\n",
       "      <td>2.705875</td>\n",
       "      <td>2016-04-18</td>\n",
       "      <td>2016</td>\n",
       "      <td>90</td>\n",
       "    </tr>\n",
       "    <tr>\n",
       "      <th>180</th>\n",
       "      <td>nfung_001_crop_tsc_2016_b2s</td>\n",
       "      <td>crop_tsc_2016_b2s</td>\n",
       "      <td>data/RAW/crop_tsc_2016_b2s/c160428tscrfl_nfung...</td>\n",
       "      <td>data/RAW/crop_tsc_2016_b2s/c160428tscrfl_nfung...</td>\n",
       "      <td>data/RAW/crop_tsc_2016_b2s/c160428tscrfl_nfung...</td>\n",
       "      <td>data/RAW/crop_tsc_2016_b2s/c160428tscrfl_nfung...</td>\n",
       "      <td>nfung_001</td>\n",
       "      <td>1</td>\n",
       "      <td>1</td>\n",
       "      <td>1</td>\n",
       "      <td>24</td>\n",
       "      <td>No fungicide</td>\n",
       "      <td>4.0</td>\n",
       "      <td>2.705875</td>\n",
       "      <td>2016-04-28</td>\n",
       "      <td>2016</td>\n",
       "      <td>100</td>\n",
       "    </tr>\n",
       "  </tbody>\n",
       "</table>\n",
       "</div>"
      ],
      "text/plain": [
       "                        Instance               Crop  \\\n",
       "59   nfung_001_crop_tsc_2016_b2s  crop_tsc_2016_b2s   \n",
       "267  nfung_001_crop_tsc_2016_b2s  crop_tsc_2016_b2s   \n",
       "180  nfung_001_crop_tsc_2016_b2s  crop_tsc_2016_b2s   \n",
       "\n",
       "                                                B1File  \\\n",
       "59   data/RAW/crop_tsc_2016_b2s/c160407tscrfl_nfung...   \n",
       "267  data/RAW/crop_tsc_2016_b2s/c160418tscrfl_nfung...   \n",
       "180  data/RAW/crop_tsc_2016_b2s/c160428tscrfl_nfung...   \n",
       "\n",
       "                                                B2File  \\\n",
       "59   data/RAW/crop_tsc_2016_b2s/c160407tscrfl_nfung...   \n",
       "267  data/RAW/crop_tsc_2016_b2s/c160418tscrfl_nfung...   \n",
       "180  data/RAW/crop_tsc_2016_b2s/c160428tscrfl_nfung...   \n",
       "\n",
       "                                                B3File  \\\n",
       "59   data/RAW/crop_tsc_2016_b2s/c160407tscrfl_nfung...   \n",
       "267  data/RAW/crop_tsc_2016_b2s/c160418tscrfl_nfung...   \n",
       "180  data/RAW/crop_tsc_2016_b2s/c160428tscrfl_nfung...   \n",
       "\n",
       "                                                B4File       Name  REP  BLK  \\\n",
       "59   data/RAW/crop_tsc_2016_b2s/c160407tscrfl_nfung...  nfung_001    1    1   \n",
       "267  data/RAW/crop_tsc_2016_b2s/c160418tscrfl_nfung...  nfung_001    1    1   \n",
       "180  data/RAW/crop_tsc_2016_b2s/c160428tscrfl_nfung...  nfung_001    1    1   \n",
       "\n",
       "     PLOT  ENTRY         Trial  Eval     Yield       Date  Year  DAS  \n",
       "59      1     24  No fungicide   2.5  2.705875 2016-04-07  2016   79  \n",
       "267     1     24  No fungicide   3.5  2.705875 2016-04-18  2016   90  \n",
       "180     1     24  No fungicide   4.0  2.705875 2016-04-28  2016  100  "
      ]
     },
     "execution_count": 17,
     "metadata": {},
     "output_type": "execute_result"
    }
   ],
   "source": [
    "trial1_train_val.head(3)"
   ]
  },
  {
   "cell_type": "code",
   "execution_count": 18,
   "metadata": {},
   "outputs": [
    {
     "data": {
      "text/html": [
       "<div>\n",
       "<style scoped>\n",
       "    .dataframe tbody tr th:only-of-type {\n",
       "        vertical-align: middle;\n",
       "    }\n",
       "\n",
       "    .dataframe tbody tr th {\n",
       "        vertical-align: top;\n",
       "    }\n",
       "\n",
       "    .dataframe thead th {\n",
       "        text-align: right;\n",
       "    }\n",
       "</style>\n",
       "<table border=\"1\" class=\"dataframe\">\n",
       "  <thead>\n",
       "    <tr style=\"text-align: right;\">\n",
       "      <th></th>\n",
       "      <th>Instance</th>\n",
       "      <th>Crop</th>\n",
       "      <th>B1File</th>\n",
       "      <th>B2File</th>\n",
       "      <th>B3File</th>\n",
       "      <th>B4File</th>\n",
       "      <th>Name</th>\n",
       "      <th>REP</th>\n",
       "      <th>BLK</th>\n",
       "      <th>PLOT</th>\n",
       "      <th>ENTRY</th>\n",
       "      <th>Trial</th>\n",
       "      <th>Eval</th>\n",
       "      <th>Yield</th>\n",
       "      <th>Date</th>\n",
       "      <th>Year</th>\n",
       "      <th>DAS</th>\n",
       "    </tr>\n",
       "  </thead>\n",
       "  <tbody>\n",
       "    <tr>\n",
       "      <th>115</th>\n",
       "      <td>nfung_001_crop_tsc_2017_b2s</td>\n",
       "      <td>crop_tsc_2017_b2s</td>\n",
       "      <td>data/RAW/crop_tsc_2017_b2s/q170419tscrfl_nfung...</td>\n",
       "      <td>data/RAW/crop_tsc_2017_b2s/q170419tscrfl_nfung...</td>\n",
       "      <td>data/RAW/crop_tsc_2017_b2s/q170419tscrfl_nfung...</td>\n",
       "      <td>data/RAW/crop_tsc_2017_b2s/q170419tscrfl_nfung...</td>\n",
       "      <td>nfung_001</td>\n",
       "      <td>1</td>\n",
       "      <td>1</td>\n",
       "      <td>1</td>\n",
       "      <td>25</td>\n",
       "      <td>No fungicide</td>\n",
       "      <td>4.5</td>\n",
       "      <td>2.806167</td>\n",
       "      <td>2017-04-19</td>\n",
       "      <td>2017</td>\n",
       "      <td>85</td>\n",
       "    </tr>\n",
       "    <tr>\n",
       "      <th>196</th>\n",
       "      <td>nfung_001_crop_tsc_2017_b2s</td>\n",
       "      <td>crop_tsc_2017_b2s</td>\n",
       "      <td>data/RAW/crop_tsc_2017_b2s/q170428tscrfl_nfung...</td>\n",
       "      <td>data/RAW/crop_tsc_2017_b2s/q170428tscrfl_nfung...</td>\n",
       "      <td>data/RAW/crop_tsc_2017_b2s/q170428tscrfl_nfung...</td>\n",
       "      <td>data/RAW/crop_tsc_2017_b2s/q170428tscrfl_nfung...</td>\n",
       "      <td>nfung_001</td>\n",
       "      <td>1</td>\n",
       "      <td>1</td>\n",
       "      <td>1</td>\n",
       "      <td>25</td>\n",
       "      <td>No fungicide</td>\n",
       "      <td>5.0</td>\n",
       "      <td>2.806167</td>\n",
       "      <td>2017-04-28</td>\n",
       "      <td>2017</td>\n",
       "      <td>94</td>\n",
       "    </tr>\n",
       "    <tr>\n",
       "      <th>291</th>\n",
       "      <td>nfung_001_crop_tsc_2017_b2s</td>\n",
       "      <td>crop_tsc_2017_b2s</td>\n",
       "      <td>data/RAW/crop_tsc_2017_b2s/q170505tscrfl_nfung...</td>\n",
       "      <td>data/RAW/crop_tsc_2017_b2s/q170505tscrfl_nfung...</td>\n",
       "      <td>data/RAW/crop_tsc_2017_b2s/q170505tscrfl_nfung...</td>\n",
       "      <td>data/RAW/crop_tsc_2017_b2s/q170505tscrfl_nfung...</td>\n",
       "      <td>nfung_001</td>\n",
       "      <td>1</td>\n",
       "      <td>1</td>\n",
       "      <td>1</td>\n",
       "      <td>25</td>\n",
       "      <td>No fungicide</td>\n",
       "      <td>5.0</td>\n",
       "      <td>2.806167</td>\n",
       "      <td>2017-05-05</td>\n",
       "      <td>2017</td>\n",
       "      <td>101</td>\n",
       "    </tr>\n",
       "  </tbody>\n",
       "</table>\n",
       "</div>"
      ],
      "text/plain": [
       "                        Instance               Crop  \\\n",
       "115  nfung_001_crop_tsc_2017_b2s  crop_tsc_2017_b2s   \n",
       "196  nfung_001_crop_tsc_2017_b2s  crop_tsc_2017_b2s   \n",
       "291  nfung_001_crop_tsc_2017_b2s  crop_tsc_2017_b2s   \n",
       "\n",
       "                                                B1File  \\\n",
       "115  data/RAW/crop_tsc_2017_b2s/q170419tscrfl_nfung...   \n",
       "196  data/RAW/crop_tsc_2017_b2s/q170428tscrfl_nfung...   \n",
       "291  data/RAW/crop_tsc_2017_b2s/q170505tscrfl_nfung...   \n",
       "\n",
       "                                                B2File  \\\n",
       "115  data/RAW/crop_tsc_2017_b2s/q170419tscrfl_nfung...   \n",
       "196  data/RAW/crop_tsc_2017_b2s/q170428tscrfl_nfung...   \n",
       "291  data/RAW/crop_tsc_2017_b2s/q170505tscrfl_nfung...   \n",
       "\n",
       "                                                B3File  \\\n",
       "115  data/RAW/crop_tsc_2017_b2s/q170419tscrfl_nfung...   \n",
       "196  data/RAW/crop_tsc_2017_b2s/q170428tscrfl_nfung...   \n",
       "291  data/RAW/crop_tsc_2017_b2s/q170505tscrfl_nfung...   \n",
       "\n",
       "                                                B4File       Name  REP  BLK  \\\n",
       "115  data/RAW/crop_tsc_2017_b2s/q170419tscrfl_nfung...  nfung_001    1    1   \n",
       "196  data/RAW/crop_tsc_2017_b2s/q170428tscrfl_nfung...  nfung_001    1    1   \n",
       "291  data/RAW/crop_tsc_2017_b2s/q170505tscrfl_nfung...  nfung_001    1    1   \n",
       "\n",
       "     PLOT  ENTRY         Trial  Eval     Yield       Date  Year  DAS  \n",
       "115     1     25  No fungicide   4.5  2.806167 2017-04-19  2017   85  \n",
       "196     1     25  No fungicide   5.0  2.806167 2017-04-28  2017   94  \n",
       "291     1     25  No fungicide   5.0  2.806167 2017-05-05  2017  101  "
      ]
     },
     "execution_count": 18,
     "metadata": {},
     "output_type": "execute_result"
    }
   ],
   "source": [
    "trial1_test.head(3)"
   ]
  },
  {
   "cell_type": "code",
   "execution_count": 19,
   "metadata": {},
   "outputs": [
    {
     "data": {
      "image/png": "[encoded data removed]",
      "text/plain": [
       "<Figure size 576x216 with 1 Axes>"
      ]
     },
     "metadata": {
      "needs_background": "light"
     },
     "output_type": "display_data"
    },
    {
     "data": {
      "image/png": "[encoded data removed]",
      "text/plain": [
       "<Figure size 576x216 with 1 Axes>"
      ]
     },
     "metadata": {
      "needs_background": "light"
     },
     "output_type": "display_data"
    }
   ],
   "source": [
    "plot_freq_tsc(trial1)\n",
    "plot_freq_das(trial1)"
   ]
  },
  {
   "cell_type": "code",
   "execution_count": 20,
   "metadata": {},
   "outputs": [
    {
     "data": {
      "image/png": "[encoded data removed]",
      "text/plain": [
       "<Figure size 576x216 with 1 Axes>"
      ]
     },
     "metadata": {
      "needs_background": "light"
     },
     "output_type": "display_data"
    },
    {
     "data": {
      "image/png": "[encoded data removed]",
      "text/plain": [
       "<Figure size 576x216 with 1 Axes>"
      ]
     },
     "metadata": {
      "needs_background": "light"
     },
     "output_type": "display_data"
    }
   ],
   "source": [
    "plot_freq_tsc(trial1_train_val)\n",
    "plot_freq_das(trial1_train_val)"
   ]
  },
  {
   "cell_type": "code",
   "execution_count": 21,
   "metadata": {},
   "outputs": [
    {
     "data": {
      "image/png": "[encoded data removed]",
      "text/plain": [
       "<Figure size 576x216 with 1 Axes>"
      ]
     },
     "metadata": {
      "needs_background": "light"
     },
     "output_type": "display_data"
    },
    {
     "data": {
      "image/png": "[encoded data removed]",
      "text/plain": [
       "<Figure size 576x216 with 1 Axes>"
      ]
     },
     "metadata": {
      "needs_background": "light"
     },
     "output_type": "display_data"
    }
   ],
   "source": [
    "plot_freq_tsc(trial1_test)\n",
    "plot_freq_das(trial1_test)"
   ]
  },
  {
   "cell_type": "code",
   "execution_count": null,
   "metadata": {},
   "outputs": [],
   "source": []
  },
  {
   "cell_type": "markdown",
   "metadata": {},
   "source": [
    "### Rodada 2\n",
    "\n",
    "Na rodada 2 também serão usados dados sem fungicida. \n",
    "\n",
    "O split entre os sets de treinamento, teste e validação serão feitos na repetição do experimento.\n",
    "\n",
    "O split entre os sets de teste e validação é aleatório."
   ]
  },
  {
   "cell_type": "code",
   "execution_count": 22,
   "metadata": {},
   "outputs": [
    {
     "name": "stdout",
     "output_type": "stream",
     "text": [
      "Tamanho dos dados de treinamento:  350\n",
      "Tamanho dos dados de validação e teste:  175\n"
     ]
    }
   ],
   "source": [
    "trial2 = metadata[metadata.Trial != 'Fungicide']\n",
    "trial2_train = trial1[trial2.REP < 3]\n",
    "trial2_val_test = trial1[trial2.REP == 3]\n",
    "print(\"Tamanho dos dados de treinamento: \", len(trial2_train))\n",
    "print(\"Tamanho dos dados de validação e teste: \", len(trial2_val_test))"
   ]
  },
  {
   "cell_type": "code",
   "execution_count": 23,
   "metadata": {},
   "outputs": [
    {
     "data": {
      "text/html": [
       "<div>\n",
       "<style scoped>\n",
       "    .dataframe tbody tr th:only-of-type {\n",
       "        vertical-align: middle;\n",
       "    }\n",
       "\n",
       "    .dataframe tbody tr th {\n",
       "        vertical-align: top;\n",
       "    }\n",
       "\n",
       "    .dataframe thead th {\n",
       "        text-align: right;\n",
       "    }\n",
       "</style>\n",
       "<table border=\"1\" class=\"dataframe\">\n",
       "  <thead>\n",
       "    <tr style=\"text-align: right;\">\n",
       "      <th></th>\n",
       "      <th>Instance</th>\n",
       "      <th>Crop</th>\n",
       "      <th>B1File</th>\n",
       "      <th>B2File</th>\n",
       "      <th>B3File</th>\n",
       "      <th>B4File</th>\n",
       "      <th>Name</th>\n",
       "      <th>REP</th>\n",
       "      <th>BLK</th>\n",
       "      <th>PLOT</th>\n",
       "      <th>ENTRY</th>\n",
       "      <th>Trial</th>\n",
       "      <th>Eval</th>\n",
       "      <th>Yield</th>\n",
       "      <th>Date</th>\n",
       "      <th>Year</th>\n",
       "      <th>DAS</th>\n",
       "    </tr>\n",
       "  </thead>\n",
       "  <tbody>\n",
       "    <tr>\n",
       "      <th>59</th>\n",
       "      <td>nfung_001_crop_tsc_2016_b2s</td>\n",
       "      <td>crop_tsc_2016_b2s</td>\n",
       "      <td>data/RAW/crop_tsc_2016_b2s/c160407tscrfl_nfung...</td>\n",
       "      <td>data/RAW/crop_tsc_2016_b2s/c160407tscrfl_nfung...</td>\n",
       "      <td>data/RAW/crop_tsc_2016_b2s/c160407tscrfl_nfung...</td>\n",
       "      <td>data/RAW/crop_tsc_2016_b2s/c160407tscrfl_nfung...</td>\n",
       "      <td>nfung_001</td>\n",
       "      <td>1</td>\n",
       "      <td>1</td>\n",
       "      <td>1</td>\n",
       "      <td>24</td>\n",
       "      <td>No fungicide</td>\n",
       "      <td>2.5</td>\n",
       "      <td>2.705875</td>\n",
       "      <td>2016-04-07</td>\n",
       "      <td>2016</td>\n",
       "      <td>79</td>\n",
       "    </tr>\n",
       "    <tr>\n",
       "      <th>267</th>\n",
       "      <td>nfung_001_crop_tsc_2016_b2s</td>\n",
       "      <td>crop_tsc_2016_b2s</td>\n",
       "      <td>data/RAW/crop_tsc_2016_b2s/c160418tscrfl_nfung...</td>\n",
       "      <td>data/RAW/crop_tsc_2016_b2s/c160418tscrfl_nfung...</td>\n",
       "      <td>data/RAW/crop_tsc_2016_b2s/c160418tscrfl_nfung...</td>\n",
       "      <td>data/RAW/crop_tsc_2016_b2s/c160418tscrfl_nfung...</td>\n",
       "      <td>nfung_001</td>\n",
       "      <td>1</td>\n",
       "      <td>1</td>\n",
       "      <td>1</td>\n",
       "      <td>24</td>\n",
       "      <td>No fungicide</td>\n",
       "      <td>3.5</td>\n",
       "      <td>2.705875</td>\n",
       "      <td>2016-04-18</td>\n",
       "      <td>2016</td>\n",
       "      <td>90</td>\n",
       "    </tr>\n",
       "    <tr>\n",
       "      <th>180</th>\n",
       "      <td>nfung_001_crop_tsc_2016_b2s</td>\n",
       "      <td>crop_tsc_2016_b2s</td>\n",
       "      <td>data/RAW/crop_tsc_2016_b2s/c160428tscrfl_nfung...</td>\n",
       "      <td>data/RAW/crop_tsc_2016_b2s/c160428tscrfl_nfung...</td>\n",
       "      <td>data/RAW/crop_tsc_2016_b2s/c160428tscrfl_nfung...</td>\n",
       "      <td>data/RAW/crop_tsc_2016_b2s/c160428tscrfl_nfung...</td>\n",
       "      <td>nfung_001</td>\n",
       "      <td>1</td>\n",
       "      <td>1</td>\n",
       "      <td>1</td>\n",
       "      <td>24</td>\n",
       "      <td>No fungicide</td>\n",
       "      <td>4.0</td>\n",
       "      <td>2.705875</td>\n",
       "      <td>2016-04-28</td>\n",
       "      <td>2016</td>\n",
       "      <td>100</td>\n",
       "    </tr>\n",
       "  </tbody>\n",
       "</table>\n",
       "</div>"
      ],
      "text/plain": [
       "                        Instance               Crop  \\\n",
       "59   nfung_001_crop_tsc_2016_b2s  crop_tsc_2016_b2s   \n",
       "267  nfung_001_crop_tsc_2016_b2s  crop_tsc_2016_b2s   \n",
       "180  nfung_001_crop_tsc_2016_b2s  crop_tsc_2016_b2s   \n",
       "\n",
       "                                                B1File  \\\n",
       "59   data/RAW/crop_tsc_2016_b2s/c160407tscrfl_nfung...   \n",
       "267  data/RAW/crop_tsc_2016_b2s/c160418tscrfl_nfung...   \n",
       "180  data/RAW/crop_tsc_2016_b2s/c160428tscrfl_nfung...   \n",
       "\n",
       "                                                B2File  \\\n",
       "59   data/RAW/crop_tsc_2016_b2s/c160407tscrfl_nfung...   \n",
       "267  data/RAW/crop_tsc_2016_b2s/c160418tscrfl_nfung...   \n",
       "180  data/RAW/crop_tsc_2016_b2s/c160428tscrfl_nfung...   \n",
       "\n",
       "                                                B3File  \\\n",
       "59   data/RAW/crop_tsc_2016_b2s/c160407tscrfl_nfung...   \n",
       "267  data/RAW/crop_tsc_2016_b2s/c160418tscrfl_nfung...   \n",
       "180  data/RAW/crop_tsc_2016_b2s/c160428tscrfl_nfung...   \n",
       "\n",
       "                                                B4File       Name  REP  BLK  \\\n",
       "59   data/RAW/crop_tsc_2016_b2s/c160407tscrfl_nfung...  nfung_001    1    1   \n",
       "267  data/RAW/crop_tsc_2016_b2s/c160418tscrfl_nfung...  nfung_001    1    1   \n",
       "180  data/RAW/crop_tsc_2016_b2s/c160428tscrfl_nfung...  nfung_001    1    1   \n",
       "\n",
       "     PLOT  ENTRY         Trial  Eval     Yield       Date  Year  DAS  \n",
       "59      1     24  No fungicide   2.5  2.705875 2016-04-07  2016   79  \n",
       "267     1     24  No fungicide   3.5  2.705875 2016-04-18  2016   90  \n",
       "180     1     24  No fungicide   4.0  2.705875 2016-04-28  2016  100  "
      ]
     },
     "execution_count": 23,
     "metadata": {},
     "output_type": "execute_result"
    }
   ],
   "source": [
    "trial2_train.head(3)"
   ]
  },
  {
   "cell_type": "code",
   "execution_count": 24,
   "metadata": {},
   "outputs": [
    {
     "data": {
      "text/html": [
       "<div>\n",
       "<style scoped>\n",
       "    .dataframe tbody tr th:only-of-type {\n",
       "        vertical-align: middle;\n",
       "    }\n",
       "\n",
       "    .dataframe tbody tr th {\n",
       "        vertical-align: top;\n",
       "    }\n",
       "\n",
       "    .dataframe thead th {\n",
       "        text-align: right;\n",
       "    }\n",
       "</style>\n",
       "<table border=\"1\" class=\"dataframe\">\n",
       "  <thead>\n",
       "    <tr style=\"text-align: right;\">\n",
       "      <th></th>\n",
       "      <th>Instance</th>\n",
       "      <th>Crop</th>\n",
       "      <th>B1File</th>\n",
       "      <th>B2File</th>\n",
       "      <th>B3File</th>\n",
       "      <th>B4File</th>\n",
       "      <th>Name</th>\n",
       "      <th>REP</th>\n",
       "      <th>BLK</th>\n",
       "      <th>PLOT</th>\n",
       "      <th>ENTRY</th>\n",
       "      <th>Trial</th>\n",
       "      <th>Eval</th>\n",
       "      <th>Yield</th>\n",
       "      <th>Date</th>\n",
       "      <th>Year</th>\n",
       "      <th>DAS</th>\n",
       "    </tr>\n",
       "  </thead>\n",
       "  <tbody>\n",
       "    <tr>\n",
       "      <th>157</th>\n",
       "      <td>nfung_051_crop_tsc_2016_b2s</td>\n",
       "      <td>crop_tsc_2016_b2s</td>\n",
       "      <td>data/RAW/crop_tsc_2016_b2s/c160407tscrfl_nfung...</td>\n",
       "      <td>data/RAW/crop_tsc_2016_b2s/c160407tscrfl_nfung...</td>\n",
       "      <td>data/RAW/crop_tsc_2016_b2s/c160407tscrfl_nfung...</td>\n",
       "      <td>data/RAW/crop_tsc_2016_b2s/c160407tscrfl_nfung...</td>\n",
       "      <td>nfung_051</td>\n",
       "      <td>3</td>\n",
       "      <td>11</td>\n",
       "      <td>51</td>\n",
       "      <td>11</td>\n",
       "      <td>No fungicide</td>\n",
       "      <td>1.5</td>\n",
       "      <td>0.685118</td>\n",
       "      <td>2016-04-07</td>\n",
       "      <td>2016</td>\n",
       "      <td>79</td>\n",
       "    </tr>\n",
       "    <tr>\n",
       "      <th>450</th>\n",
       "      <td>nfung_051_crop_tsc_2016_b2s</td>\n",
       "      <td>crop_tsc_2016_b2s</td>\n",
       "      <td>data/RAW/crop_tsc_2016_b2s/c160418tscrfl_nfung...</td>\n",
       "      <td>data/RAW/crop_tsc_2016_b2s/c160418tscrfl_nfung...</td>\n",
       "      <td>data/RAW/crop_tsc_2016_b2s/c160418tscrfl_nfung...</td>\n",
       "      <td>data/RAW/crop_tsc_2016_b2s/c160418tscrfl_nfung...</td>\n",
       "      <td>nfung_051</td>\n",
       "      <td>3</td>\n",
       "      <td>11</td>\n",
       "      <td>51</td>\n",
       "      <td>11</td>\n",
       "      <td>No fungicide</td>\n",
       "      <td>1.5</td>\n",
       "      <td>0.685118</td>\n",
       "      <td>2016-04-18</td>\n",
       "      <td>2016</td>\n",
       "      <td>90</td>\n",
       "    </tr>\n",
       "    <tr>\n",
       "      <th>494</th>\n",
       "      <td>nfung_051_crop_tsc_2016_b2s</td>\n",
       "      <td>crop_tsc_2016_b2s</td>\n",
       "      <td>data/RAW/crop_tsc_2016_b2s/c160428tscrfl_nfung...</td>\n",
       "      <td>data/RAW/crop_tsc_2016_b2s/c160428tscrfl_nfung...</td>\n",
       "      <td>data/RAW/crop_tsc_2016_b2s/c160428tscrfl_nfung...</td>\n",
       "      <td>data/RAW/crop_tsc_2016_b2s/c160428tscrfl_nfung...</td>\n",
       "      <td>nfung_051</td>\n",
       "      <td>3</td>\n",
       "      <td>11</td>\n",
       "      <td>51</td>\n",
       "      <td>11</td>\n",
       "      <td>No fungicide</td>\n",
       "      <td>2.0</td>\n",
       "      <td>0.685118</td>\n",
       "      <td>2016-04-28</td>\n",
       "      <td>2016</td>\n",
       "      <td>100</td>\n",
       "    </tr>\n",
       "  </tbody>\n",
       "</table>\n",
       "</div>"
      ],
      "text/plain": [
       "                        Instance               Crop  \\\n",
       "157  nfung_051_crop_tsc_2016_b2s  crop_tsc_2016_b2s   \n",
       "450  nfung_051_crop_tsc_2016_b2s  crop_tsc_2016_b2s   \n",
       "494  nfung_051_crop_tsc_2016_b2s  crop_tsc_2016_b2s   \n",
       "\n",
       "                                                B1File  \\\n",
       "157  data/RAW/crop_tsc_2016_b2s/c160407tscrfl_nfung...   \n",
       "450  data/RAW/crop_tsc_2016_b2s/c160418tscrfl_nfung...   \n",
       "494  data/RAW/crop_tsc_2016_b2s/c160428tscrfl_nfung...   \n",
       "\n",
       "                                                B2File  \\\n",
       "157  data/RAW/crop_tsc_2016_b2s/c160407tscrfl_nfung...   \n",
       "450  data/RAW/crop_tsc_2016_b2s/c160418tscrfl_nfung...   \n",
       "494  data/RAW/crop_tsc_2016_b2s/c160428tscrfl_nfung...   \n",
       "\n",
       "                                                B3File  \\\n",
       "157  data/RAW/crop_tsc_2016_b2s/c160407tscrfl_nfung...   \n",
       "450  data/RAW/crop_tsc_2016_b2s/c160418tscrfl_nfung...   \n",
       "494  data/RAW/crop_tsc_2016_b2s/c160428tscrfl_nfung...   \n",
       "\n",
       "                                                B4File       Name  REP  BLK  \\\n",
       "157  data/RAW/crop_tsc_2016_b2s/c160407tscrfl_nfung...  nfung_051    3   11   \n",
       "450  data/RAW/crop_tsc_2016_b2s/c160418tscrfl_nfung...  nfung_051    3   11   \n",
       "494  data/RAW/crop_tsc_2016_b2s/c160428tscrfl_nfung...  nfung_051    3   11   \n",
       "\n",
       "     PLOT  ENTRY         Trial  Eval     Yield       Date  Year  DAS  \n",
       "157    51     11  No fungicide   1.5  0.685118 2016-04-07  2016   79  \n",
       "450    51     11  No fungicide   1.5  0.685118 2016-04-18  2016   90  \n",
       "494    51     11  No fungicide   2.0  0.685118 2016-04-28  2016  100  "
      ]
     },
     "execution_count": 24,
     "metadata": {},
     "output_type": "execute_result"
    }
   ],
   "source": [
    "trial2_val_test.head(3)"
   ]
  },
  {
   "cell_type": "code",
   "execution_count": 25,
   "metadata": {},
   "outputs": [
    {
     "data": {
      "image/png": "[encoded data removed]",
      "text/plain": [
       "<Figure size 576x216 with 1 Axes>"
      ]
     },
     "metadata": {
      "needs_background": "light"
     },
     "output_type": "display_data"
    },
    {
     "data": {
      "image/png": "[encoded data removed]",
      "text/plain": [
       "<Figure size 576x216 with 1 Axes>"
      ]
     },
     "metadata": {
      "needs_background": "light"
     },
     "output_type": "display_data"
    }
   ],
   "source": [
    "plot_freq_tsc(trial2)\n",
    "plot_freq_das(trial2)"
   ]
  },
  {
   "cell_type": "code",
   "execution_count": 26,
   "metadata": {},
   "outputs": [
    {
     "data": {
      "image/png": "[encoded data removed]",
      "text/plain": [
       "<Figure size 576x216 with 1 Axes>"
      ]
     },
     "metadata": {
      "needs_background": "light"
     },
     "output_type": "display_data"
    },
    {
     "data": {
      "image/png": "[encoded data removed]",
      "text/plain": [
       "<Figure size 576x216 with 1 Axes>"
      ]
     },
     "metadata": {
      "needs_background": "light"
     },
     "output_type": "display_data"
    }
   ],
   "source": [
    "plot_freq_tsc(trial2_train)\n",
    "plot_freq_das(trial2_train)"
   ]
  },
  {
   "cell_type": "code",
   "execution_count": 27,
   "metadata": {},
   "outputs": [
    {
     "data": {
      "image/png": "[encoded data removed]",
      "text/plain": [
       "<Figure size 576x216 with 1 Axes>"
      ]
     },
     "metadata": {
      "needs_background": "light"
     },
     "output_type": "display_data"
    },
    {
     "data": {
      "image/png": "[encoded data removed]",
      "text/plain": [
       "<Figure size 576x216 with 1 Axes>"
      ]
     },
     "metadata": {
      "needs_background": "light"
     },
     "output_type": "display_data"
    }
   ],
   "source": [
    "plot_freq_tsc(trial2_val_test)\n",
    "plot_freq_das(trial2_val_test)"
   ]
  },
  {
   "cell_type": "markdown",
   "metadata": {},
   "source": [
    "### Rodada 3\n",
    "\n",
    "Na rodada 3 serão usados dados com fungicida (teste) e sem fungicida (treinamento e validação). \n",
    "\n",
    "O split entre os sets de treinamento, teste e validação serão feitos de forma aleatória."
   ]
  },
  {
   "cell_type": "code",
   "execution_count": 28,
   "metadata": {},
   "outputs": [
    {
     "name": "stdout",
     "output_type": "stream",
     "text": [
      "Tamanho dos dados de validação e treinamento:  525\n",
      "Tamanho dos dados de teste:  525\n"
     ]
    }
   ],
   "source": [
    "trial3_val_train = metadata[metadata.Trial != 'Fungicide']\n",
    "trial3_test = metadata[metadata.Trial == 'Fungicide']\n",
    "print(\"Tamanho dos dados de validação e treinamento: \", len(trial3_val_train))\n",
    "print(\"Tamanho dos dados de teste: \", len(trial3_test))"
   ]
  },
  {
   "cell_type": "code",
   "execution_count": 29,
   "metadata": {},
   "outputs": [
    {
     "data": {
      "text/html": [
       "<div>\n",
       "<style scoped>\n",
       "    .dataframe tbody tr th:only-of-type {\n",
       "        vertical-align: middle;\n",
       "    }\n",
       "\n",
       "    .dataframe tbody tr th {\n",
       "        vertical-align: top;\n",
       "    }\n",
       "\n",
       "    .dataframe thead th {\n",
       "        text-align: right;\n",
       "    }\n",
       "</style>\n",
       "<table border=\"1\" class=\"dataframe\">\n",
       "  <thead>\n",
       "    <tr style=\"text-align: right;\">\n",
       "      <th></th>\n",
       "      <th>Instance</th>\n",
       "      <th>Crop</th>\n",
       "      <th>B1File</th>\n",
       "      <th>B2File</th>\n",
       "      <th>B3File</th>\n",
       "      <th>B4File</th>\n",
       "      <th>Name</th>\n",
       "      <th>REP</th>\n",
       "      <th>BLK</th>\n",
       "      <th>PLOT</th>\n",
       "      <th>ENTRY</th>\n",
       "      <th>Trial</th>\n",
       "      <th>Eval</th>\n",
       "      <th>Yield</th>\n",
       "      <th>Date</th>\n",
       "      <th>Year</th>\n",
       "      <th>DAS</th>\n",
       "    </tr>\n",
       "  </thead>\n",
       "  <tbody>\n",
       "    <tr>\n",
       "      <th>59</th>\n",
       "      <td>nfung_001_crop_tsc_2016_b2s</td>\n",
       "      <td>crop_tsc_2016_b2s</td>\n",
       "      <td>data/RAW/crop_tsc_2016_b2s/c160407tscrfl_nfung...</td>\n",
       "      <td>data/RAW/crop_tsc_2016_b2s/c160407tscrfl_nfung...</td>\n",
       "      <td>data/RAW/crop_tsc_2016_b2s/c160407tscrfl_nfung...</td>\n",
       "      <td>data/RAW/crop_tsc_2016_b2s/c160407tscrfl_nfung...</td>\n",
       "      <td>nfung_001</td>\n",
       "      <td>1</td>\n",
       "      <td>1</td>\n",
       "      <td>1</td>\n",
       "      <td>24</td>\n",
       "      <td>No fungicide</td>\n",
       "      <td>2.5</td>\n",
       "      <td>2.705875</td>\n",
       "      <td>2016-04-07</td>\n",
       "      <td>2016</td>\n",
       "      <td>79</td>\n",
       "    </tr>\n",
       "    <tr>\n",
       "      <th>267</th>\n",
       "      <td>nfung_001_crop_tsc_2016_b2s</td>\n",
       "      <td>crop_tsc_2016_b2s</td>\n",
       "      <td>data/RAW/crop_tsc_2016_b2s/c160418tscrfl_nfung...</td>\n",
       "      <td>data/RAW/crop_tsc_2016_b2s/c160418tscrfl_nfung...</td>\n",
       "      <td>data/RAW/crop_tsc_2016_b2s/c160418tscrfl_nfung...</td>\n",
       "      <td>data/RAW/crop_tsc_2016_b2s/c160418tscrfl_nfung...</td>\n",
       "      <td>nfung_001</td>\n",
       "      <td>1</td>\n",
       "      <td>1</td>\n",
       "      <td>1</td>\n",
       "      <td>24</td>\n",
       "      <td>No fungicide</td>\n",
       "      <td>3.5</td>\n",
       "      <td>2.705875</td>\n",
       "      <td>2016-04-18</td>\n",
       "      <td>2016</td>\n",
       "      <td>90</td>\n",
       "    </tr>\n",
       "    <tr>\n",
       "      <th>180</th>\n",
       "      <td>nfung_001_crop_tsc_2016_b2s</td>\n",
       "      <td>crop_tsc_2016_b2s</td>\n",
       "      <td>data/RAW/crop_tsc_2016_b2s/c160428tscrfl_nfung...</td>\n",
       "      <td>data/RAW/crop_tsc_2016_b2s/c160428tscrfl_nfung...</td>\n",
       "      <td>data/RAW/crop_tsc_2016_b2s/c160428tscrfl_nfung...</td>\n",
       "      <td>data/RAW/crop_tsc_2016_b2s/c160428tscrfl_nfung...</td>\n",
       "      <td>nfung_001</td>\n",
       "      <td>1</td>\n",
       "      <td>1</td>\n",
       "      <td>1</td>\n",
       "      <td>24</td>\n",
       "      <td>No fungicide</td>\n",
       "      <td>4.0</td>\n",
       "      <td>2.705875</td>\n",
       "      <td>2016-04-28</td>\n",
       "      <td>2016</td>\n",
       "      <td>100</td>\n",
       "    </tr>\n",
       "  </tbody>\n",
       "</table>\n",
       "</div>"
      ],
      "text/plain": [
       "                        Instance               Crop  \\\n",
       "59   nfung_001_crop_tsc_2016_b2s  crop_tsc_2016_b2s   \n",
       "267  nfung_001_crop_tsc_2016_b2s  crop_tsc_2016_b2s   \n",
       "180  nfung_001_crop_tsc_2016_b2s  crop_tsc_2016_b2s   \n",
       "\n",
       "                                                B1File  \\\n",
       "59   data/RAW/crop_tsc_2016_b2s/c160407tscrfl_nfung...   \n",
       "267  data/RAW/crop_tsc_2016_b2s/c160418tscrfl_nfung...   \n",
       "180  data/RAW/crop_tsc_2016_b2s/c160428tscrfl_nfung...   \n",
       "\n",
       "                                                B2File  \\\n",
       "59   data/RAW/crop_tsc_2016_b2s/c160407tscrfl_nfung...   \n",
       "267  data/RAW/crop_tsc_2016_b2s/c160418tscrfl_nfung...   \n",
       "180  data/RAW/crop_tsc_2016_b2s/c160428tscrfl_nfung...   \n",
       "\n",
       "                                                B3File  \\\n",
       "59   data/RAW/crop_tsc_2016_b2s/c160407tscrfl_nfung...   \n",
       "267  data/RAW/crop_tsc_2016_b2s/c160418tscrfl_nfung...   \n",
       "180  data/RAW/crop_tsc_2016_b2s/c160428tscrfl_nfung...   \n",
       "\n",
       "                                                B4File       Name  REP  BLK  \\\n",
       "59   data/RAW/crop_tsc_2016_b2s/c160407tscrfl_nfung...  nfung_001    1    1   \n",
       "267  data/RAW/crop_tsc_2016_b2s/c160418tscrfl_nfung...  nfung_001    1    1   \n",
       "180  data/RAW/crop_tsc_2016_b2s/c160428tscrfl_nfung...  nfung_001    1    1   \n",
       "\n",
       "     PLOT  ENTRY         Trial  Eval     Yield       Date  Year  DAS  \n",
       "59      1     24  No fungicide   2.5  2.705875 2016-04-07  2016   79  \n",
       "267     1     24  No fungicide   3.5  2.705875 2016-04-18  2016   90  \n",
       "180     1     24  No fungicide   4.0  2.705875 2016-04-28  2016  100  "
      ]
     },
     "execution_count": 29,
     "metadata": {},
     "output_type": "execute_result"
    }
   ],
   "source": [
    "trial3_val_train.head(3)"
   ]
  },
  {
   "cell_type": "code",
   "execution_count": 30,
   "metadata": {},
   "outputs": [
    {
     "data": {
      "text/html": [
       "<div>\n",
       "<style scoped>\n",
       "    .dataframe tbody tr th:only-of-type {\n",
       "        vertical-align: middle;\n",
       "    }\n",
       "\n",
       "    .dataframe tbody tr th {\n",
       "        vertical-align: top;\n",
       "    }\n",
       "\n",
       "    .dataframe thead th {\n",
       "        text-align: right;\n",
       "    }\n",
       "</style>\n",
       "<table border=\"1\" class=\"dataframe\">\n",
       "  <thead>\n",
       "    <tr style=\"text-align: right;\">\n",
       "      <th></th>\n",
       "      <th>Instance</th>\n",
       "      <th>Crop</th>\n",
       "      <th>B1File</th>\n",
       "      <th>B2File</th>\n",
       "      <th>B3File</th>\n",
       "      <th>B4File</th>\n",
       "      <th>Name</th>\n",
       "      <th>REP</th>\n",
       "      <th>BLK</th>\n",
       "      <th>PLOT</th>\n",
       "      <th>ENTRY</th>\n",
       "      <th>Trial</th>\n",
       "      <th>Eval</th>\n",
       "      <th>Yield</th>\n",
       "      <th>Date</th>\n",
       "      <th>Year</th>\n",
       "      <th>DAS</th>\n",
       "    </tr>\n",
       "  </thead>\n",
       "  <tbody>\n",
       "    <tr>\n",
       "      <th>82</th>\n",
       "      <td>fung_001_crop_tsc_2016_b2s</td>\n",
       "      <td>crop_tsc_2016_b2s</td>\n",
       "      <td>data/RAW/crop_tsc_2016_b2s/c160407tscrfl_fung_...</td>\n",
       "      <td>data/RAW/crop_tsc_2016_b2s/c160407tscrfl_fung_...</td>\n",
       "      <td>data/RAW/crop_tsc_2016_b2s/c160407tscrfl_fung_...</td>\n",
       "      <td>data/RAW/crop_tsc_2016_b2s/c160407tscrfl_fung_...</td>\n",
       "      <td>fung_001</td>\n",
       "      <td>1</td>\n",
       "      <td>1</td>\n",
       "      <td>1</td>\n",
       "      <td>22</td>\n",
       "      <td>Fungicide</td>\n",
       "      <td>1.0</td>\n",
       "      <td>5.296382</td>\n",
       "      <td>2016-04-07</td>\n",
       "      <td>2016</td>\n",
       "      <td>79</td>\n",
       "    </tr>\n",
       "    <tr>\n",
       "      <th>335</th>\n",
       "      <td>fung_001_crop_tsc_2016_b2s</td>\n",
       "      <td>crop_tsc_2016_b2s</td>\n",
       "      <td>data/RAW/crop_tsc_2016_b2s/c160418tscrfl_fung_...</td>\n",
       "      <td>data/RAW/crop_tsc_2016_b2s/c160418tscrfl_fung_...</td>\n",
       "      <td>data/RAW/crop_tsc_2016_b2s/c160418tscrfl_fung_...</td>\n",
       "      <td>data/RAW/crop_tsc_2016_b2s/c160418tscrfl_fung_...</td>\n",
       "      <td>fung_001</td>\n",
       "      <td>1</td>\n",
       "      <td>1</td>\n",
       "      <td>1</td>\n",
       "      <td>22</td>\n",
       "      <td>Fungicide</td>\n",
       "      <td>1.0</td>\n",
       "      <td>5.296382</td>\n",
       "      <td>2016-04-18</td>\n",
       "      <td>2016</td>\n",
       "      <td>90</td>\n",
       "    </tr>\n",
       "    <tr>\n",
       "      <th>565</th>\n",
       "      <td>fung_001_crop_tsc_2016_b2s</td>\n",
       "      <td>crop_tsc_2016_b2s</td>\n",
       "      <td>data/RAW/crop_tsc_2016_b2s/c160428tscrfl_fung_...</td>\n",
       "      <td>data/RAW/crop_tsc_2016_b2s/c160428tscrfl_fung_...</td>\n",
       "      <td>data/RAW/crop_tsc_2016_b2s/c160428tscrfl_fung_...</td>\n",
       "      <td>data/RAW/crop_tsc_2016_b2s/c160428tscrfl_fung_...</td>\n",
       "      <td>fung_001</td>\n",
       "      <td>1</td>\n",
       "      <td>1</td>\n",
       "      <td>1</td>\n",
       "      <td>22</td>\n",
       "      <td>Fungicide</td>\n",
       "      <td>1.0</td>\n",
       "      <td>5.296382</td>\n",
       "      <td>2016-04-28</td>\n",
       "      <td>2016</td>\n",
       "      <td>100</td>\n",
       "    </tr>\n",
       "  </tbody>\n",
       "</table>\n",
       "</div>"
      ],
      "text/plain": [
       "                       Instance               Crop  \\\n",
       "82   fung_001_crop_tsc_2016_b2s  crop_tsc_2016_b2s   \n",
       "335  fung_001_crop_tsc_2016_b2s  crop_tsc_2016_b2s   \n",
       "565  fung_001_crop_tsc_2016_b2s  crop_tsc_2016_b2s   \n",
       "\n",
       "                                                B1File  \\\n",
       "82   data/RAW/crop_tsc_2016_b2s/c160407tscrfl_fung_...   \n",
       "335  data/RAW/crop_tsc_2016_b2s/c160418tscrfl_fung_...   \n",
       "565  data/RAW/crop_tsc_2016_b2s/c160428tscrfl_fung_...   \n",
       "\n",
       "                                                B2File  \\\n",
       "82   data/RAW/crop_tsc_2016_b2s/c160407tscrfl_fung_...   \n",
       "335  data/RAW/crop_tsc_2016_b2s/c160418tscrfl_fung_...   \n",
       "565  data/RAW/crop_tsc_2016_b2s/c160428tscrfl_fung_...   \n",
       "\n",
       "                                                B3File  \\\n",
       "82   data/RAW/crop_tsc_2016_b2s/c160407tscrfl_fung_...   \n",
       "335  data/RAW/crop_tsc_2016_b2s/c160418tscrfl_fung_...   \n",
       "565  data/RAW/crop_tsc_2016_b2s/c160428tscrfl_fung_...   \n",
       "\n",
       "                                                B4File      Name  REP  BLK  \\\n",
       "82   data/RAW/crop_tsc_2016_b2s/c160407tscrfl_fung_...  fung_001    1    1   \n",
       "335  data/RAW/crop_tsc_2016_b2s/c160418tscrfl_fung_...  fung_001    1    1   \n",
       "565  data/RAW/crop_tsc_2016_b2s/c160428tscrfl_fung_...  fung_001    1    1   \n",
       "\n",
       "     PLOT  ENTRY      Trial  Eval     Yield       Date  Year  DAS  \n",
       "82      1     22  Fungicide   1.0  5.296382 2016-04-07  2016   79  \n",
       "335     1     22  Fungicide   1.0  5.296382 2016-04-18  2016   90  \n",
       "565     1     22  Fungicide   1.0  5.296382 2016-04-28  2016  100  "
      ]
     },
     "execution_count": 30,
     "metadata": {},
     "output_type": "execute_result"
    }
   ],
   "source": [
    "trial3_test.head(3)"
   ]
  },
  {
   "cell_type": "code",
   "execution_count": 31,
   "metadata": {},
   "outputs": [
    {
     "data": {
      "image/png": "[encoded data removed]",
      "text/plain": [
       "<Figure size 576x216 with 1 Axes>"
      ]
     },
     "metadata": {
      "needs_background": "light"
     },
     "output_type": "display_data"
    },
    {
     "data": {
      "image/png": "[encoded data removed]",
      "text/plain": [
       "<Figure size 576x216 with 1 Axes>"
      ]
     },
     "metadata": {
      "needs_background": "light"
     },
     "output_type": "display_data"
    }
   ],
   "source": [
    "plot_freq_tsc(trial3_val_train)\n",
    "plot_freq_das(trial3_val_train)"
   ]
  },
  {
   "cell_type": "code",
   "execution_count": 32,
   "metadata": {},
   "outputs": [
    {
     "data": {
      "image/png": "[encoded data removed]",
      "text/plain": [
       "<Figure size 576x216 with 1 Axes>"
      ]
     },
     "metadata": {
      "needs_background": "light"
     },
     "output_type": "display_data"
    },
    {
     "data": {
      "image/png": "[encoded data removed]",
      "text/plain": [
       "<Figure size 576x216 with 1 Axes>"
      ]
     },
     "metadata": {
      "needs_background": "light"
     },
     "output_type": "display_data"
    }
   ],
   "source": [
    "plot_freq_tsc(trial3_test)\n",
    "plot_freq_das(trial3_test)"
   ]
  },
  {
   "cell_type": "code",
   "execution_count": null,
   "metadata": {},
   "outputs": [],
   "source": []
  }
 ],
 "metadata": {
  "kernelspec": {
   "display_name": "Python 3",
   "language": "python",
   "name": "python3"
  },
  "language_info": {
   "codemirror_mode": {
    "name": "ipython",
    "version": 3
   },
   "file_extension": ".py",
   "mimetype": "text/x-python",
   "name": "python",
   "nbconvert_exporter": "python",
   "pygments_lexer": "ipython3",
   "version": "3.7.7"
  }
 },
 "nbformat": 4,
 "nbformat_minor": 4
}
