{
 "cells": [
  {
   "cell_type": "markdown",
   "metadata": {},
   "source": [
    "# Trial 2: Treinamento multiespectral (Todas as bandas) com DAS"
   ]
  },
  {
   "cell_type": "markdown",
   "metadata": {},
   "source": [
    "## Definições"
   ]
  },
  {
   "cell_type": "code",
   "execution_count": 162,
   "metadata": {},
   "outputs": [],
   "source": [
    "DATASET = 'b2s'  # b2s ou bfs\n",
    "TYPE = \"multiespectral\"\n",
    "SHOW_INFO = True\n",
    "\n",
    "BALANCE_DATA = True\n",
    "USE_TEST_AS_VAL = False\n",
    "NORMALIZE_BY='Date'\n",
    "NORMALIZATION_TYPE='std'\n",
    "TRIAL = 'TESTING'\n",
    "COMMENTS = ''\n",
    "\n",
    "AUGMENT = None\n",
    "# None, simple, default ou advanced\n",
    "\"\"\"\n",
    "#### AUGMENT: Tipo de aumento de dados:\n",
    "- None: nenhuma técnica de aumento de dados;\n",
    "- simple: irá realizar flips na imagem sem alterar a orientação do corte;\n",
    "- default: irá realizar técnicas de rotação e flip; pode alterar a orientação e a localização do corte;\n",
    "- advanced: várias técnicas, como rotação, alongamento e zoom; altera a nitidez do corte e produz distorções.\n",
    "\"\"\"\n",
    "TARGET = 'Eval'"
   ]
  },
  {
   "cell_type": "code",
   "execution_count": 163,
   "metadata": {},
   "outputs": [],
   "source": [
    "import datetime\n",
    "NOW = datetime.datetime.now().strftime(\"%Y%m%d_%H%M%S\")"
   ]
  },
  {
   "cell_type": "code",
   "execution_count": 164,
   "metadata": {},
   "outputs": [],
   "source": [
    "AUG_INC = 1\n",
    "if AUGMENT is None:\n",
    "    AUG_INC = 1\n",
    "elif AUGMENT == 'simple':\n",
    "    AUG_INC = 2\n",
    "elif AUGMENT == 'default':\n",
    "    AUG_INC = 4\n",
    "elif AUGMENT == 'default' and SHAPE[0] == SHAPE[1]:\n",
    "    AUG_INC = 6\n",
    "elif AUGMENT == 'advanced':\n",
    "    AUG_INC = 16\n",
    "elif AUGMENT == 'advanced' and SHAPE[0] == SHAPE[1]:\n",
    "    AUG_INC = 18\n",
    "\n",
    "# Set a optmized shape\n",
    "if AUGMENT == 'simple' or AUGMENT == 'default':\n",
    "    DSHAPE = (53, 53)\n",
    "elif AUGMENT == 'advanced':\n",
    "    DSHAPE = (80, 80)\n",
    "else:\n",
    "    DSHAPE = (43, 53)"
   ]
  },
  {
   "cell_type": "markdown",
   "metadata": {},
   "source": [
    "### Definições de treinamento"
   ]
  },
  {
   "cell_type": "code",
   "execution_count": 165,
   "metadata": {},
   "outputs": [],
   "source": [
    "EPOCHS = 2000\n",
    "LR = 0.01\n",
    "LOSSF = 'mse'  # mean_squared_logarithmic_error mse\n",
    "# BATCH_SIZE = AUG_INC + 16\n",
    "BATCH_SIZE = 45\n",
    "IM_SHAPE = (DSHAPE[0], DSHAPE[1], 4)\n",
    "FLATTEN_SHAPE = IM_SHAPE[0]*IM_SHAPE[1]*IM_SHAPE[2]\n",
    "TOPOLOGY = 'CNN_DAS_leakyrelu4'\n",
    "MODEL_NAME = f'{TOPOLOGY}_{DATASET}_{TYPE}_{TARGET}_TRIAL_{TRIAL}_AUG_{AUGMENT}_LR{LR}_BS{BATCH_SIZE}_BAL_{BALANCE_DATA}'"
   ]
  },
  {
   "cell_type": "code",
   "execution_count": 166,
   "metadata": {},
   "outputs": [],
   "source": [
    "if 'CNN' in TOPOLOGY:\n",
    "    SHAPE = IM_SHAPE\n",
    "else:\n",
    "    SHAPE = FLATTEN_SHAPE"
   ]
  },
  {
   "cell_type": "markdown",
   "metadata": {},
   "source": [
    "## Importação"
   ]
  },
  {
   "cell_type": "code",
   "execution_count": 167,
   "metadata": {},
   "outputs": [],
   "source": [
    "from datetime import datetime\n",
    "from os import listdir\n",
    "from os.path import isfile, join\n",
    "\n",
    "import os\n",
    "import glob\n",
    "import random\n",
    "import math\n",
    "\n",
    "import numpy as np\n",
    "import pandas as pd\n",
    "\n",
    "from tensorflow.keras.models import Sequential, load_model, Model\n",
    "from tensorflow.keras.utils import to_categorical\n",
    "from tensorflow.keras.callbacks import ModelCheckpoint\n",
    "from tensorflow.keras.utils import plot_model\n",
    "from tensorflow.keras import regularizers\n",
    "from tensorflow.keras import optimizers\n",
    "\n",
    "from sklearn.metrics import r2_score\n",
    "from sklearn import preprocessing\n",
    "from tensorflow.keras import backend as K\n",
    "import tensorflow_addons as tfa\n",
    "\n",
    "import matplotlib.pyplot as plt\n",
    "import seaborn as sns\n",
    "from livelossplot import PlotLossesKeras"
   ]
  },
  {
   "cell_type": "code",
   "execution_count": 168,
   "metadata": {},
   "outputs": [],
   "source": [
    "os.makedirs(f'reports{os.sep}TRIAL{TRIAL}', exist_ok=True)\n",
    "with open(f'reports/TRIAL{TRIAL}/notes.md', 'w') as f:\n",
    "    f.write(COMMENTS)"
   ]
  },
  {
   "cell_type": "code",
   "execution_count": 169,
   "metadata": {},
   "outputs": [],
   "source": [
    "import util\n",
    "from models import *\n",
    "from trainutils import *"
   ]
  },
  {
   "cell_type": "code",
   "execution_count": 170,
   "metadata": {},
   "outputs": [
    {
     "name": "stdout",
     "output_type": "stream",
     "text": [
      "1 Physical GPUs, 1 Logical GPUs\n"
     ]
    }
   ],
   "source": [
    "# Necessário na minha máquina. Estava ocorrendo um erro devido à GPU e esse código resolveu.\n",
    "import tensorflow as tf\n",
    "gpus = tf.config.experimental.list_physical_devices('GPU')\n",
    "if gpus:\n",
    "    try:\n",
    "        # Currently, memory growth needs to be the same across GPUs\n",
    "        for gpu in gpus:\n",
    "            tf.config.experimental.set_memory_growth(gpu, True)\n",
    "        logical_gpus = tf.config.experimental.list_logical_devices('GPU')\n",
    "        print(len(gpus), \"Physical GPUs,\", len(logical_gpus), \"Logical GPUs\")\n",
    "    except RuntimeError as e:\n",
    "        # Memory growth must be set before GPUs have been initialized\n",
    "        print(e)"
   ]
  },
  {
   "cell_type": "markdown",
   "metadata": {},
   "source": [
    "## Funções para carregar os dados"
   ]
  },
  {
   "cell_type": "markdown",
   "metadata": {},
   "source": [
    "### Metadados"
   ]
  },
  {
   "cell_type": "code",
   "execution_count": 171,
   "metadata": {},
   "outputs": [
    {
     "data": {
      "text/html": [
       "<div>\n",
       "<style scoped>\n",
       "    .dataframe tbody tr th:only-of-type {\n",
       "        vertical-align: middle;\n",
       "    }\n",
       "\n",
       "    .dataframe tbody tr th {\n",
       "        vertical-align: top;\n",
       "    }\n",
       "\n",
       "    .dataframe thead th {\n",
       "        text-align: right;\n",
       "    }\n",
       "</style>\n",
       "<table border=\"1\" class=\"dataframe\">\n",
       "  <thead>\n",
       "    <tr style=\"text-align: right;\">\n",
       "      <th></th>\n",
       "      <th>Instance</th>\n",
       "      <th>Crop</th>\n",
       "      <th>B1File</th>\n",
       "      <th>B2File</th>\n",
       "      <th>B3File</th>\n",
       "      <th>B4File</th>\n",
       "      <th>Name</th>\n",
       "      <th>REP</th>\n",
       "      <th>BLK</th>\n",
       "      <th>PLOT</th>\n",
       "      <th>ENTRY</th>\n",
       "      <th>Trial</th>\n",
       "      <th>Eval</th>\n",
       "      <th>Yield</th>\n",
       "    </tr>\n",
       "  </thead>\n",
       "  <tbody>\n",
       "    <tr>\n",
       "      <th>0</th>\n",
       "      <td>q170505tscrfl_fung_19</td>\n",
       "      <td>crop_tsc_2017_b2s</td>\n",
       "      <td>q170505tscrfl_fung_19_B1.tif</td>\n",
       "      <td>q170505tscrfl_fung_19_B2.tif</td>\n",
       "      <td>q170505tscrfl_fung_19_B3.tif</td>\n",
       "      <td>q170505tscrfl_fung_19_B4.tif</td>\n",
       "      <td>fung_19</td>\n",
       "      <td>1</td>\n",
       "      <td>4</td>\n",
       "      <td>19</td>\n",
       "      <td>17</td>\n",
       "      <td>Fungicide</td>\n",
       "      <td>1.0</td>\n",
       "      <td>6.055209</td>\n",
       "    </tr>\n",
       "    <tr>\n",
       "      <th>1</th>\n",
       "      <td>q170505tscrfl_fung_31</td>\n",
       "      <td>crop_tsc_2017_b2s</td>\n",
       "      <td>q170505tscrfl_fung_31_B1.tif</td>\n",
       "      <td>q170505tscrfl_fung_31_B2.tif</td>\n",
       "      <td>q170505tscrfl_fung_31_B3.tif</td>\n",
       "      <td>q170505tscrfl_fung_31_B4.tif</td>\n",
       "      <td>fung_31</td>\n",
       "      <td>2</td>\n",
       "      <td>7</td>\n",
       "      <td>31</td>\n",
       "      <td>19</td>\n",
       "      <td>Fungicide</td>\n",
       "      <td>1.0</td>\n",
       "      <td>4.081627</td>\n",
       "    </tr>\n",
       "    <tr>\n",
       "      <th>2</th>\n",
       "      <td>q170419tscrfl_fung_59</td>\n",
       "      <td>crop_tsc_2017_b2s</td>\n",
       "      <td>q170419tscrfl_fung_59_B1.tif</td>\n",
       "      <td>q170419tscrfl_fung_59_B2.tif</td>\n",
       "      <td>q170419tscrfl_fung_59_B3.tif</td>\n",
       "      <td>q170419tscrfl_fung_59_B4.tif</td>\n",
       "      <td>fung_59</td>\n",
       "      <td>3</td>\n",
       "      <td>12</td>\n",
       "      <td>59</td>\n",
       "      <td>10</td>\n",
       "      <td>Fungicide</td>\n",
       "      <td>1.0</td>\n",
       "      <td>4.612393</td>\n",
       "    </tr>\n",
       "  </tbody>\n",
       "</table>\n",
       "</div>"
      ],
      "text/plain": [
       "                Instance               Crop                        B1File  \\\n",
       "0  q170505tscrfl_fung_19  crop_tsc_2017_b2s  q170505tscrfl_fung_19_B1.tif   \n",
       "1  q170505tscrfl_fung_31  crop_tsc_2017_b2s  q170505tscrfl_fung_31_B1.tif   \n",
       "2  q170419tscrfl_fung_59  crop_tsc_2017_b2s  q170419tscrfl_fung_59_B1.tif   \n",
       "\n",
       "                         B2File                        B3File  \\\n",
       "0  q170505tscrfl_fung_19_B2.tif  q170505tscrfl_fung_19_B3.tif   \n",
       "1  q170505tscrfl_fung_31_B2.tif  q170505tscrfl_fung_31_B3.tif   \n",
       "2  q170419tscrfl_fung_59_B2.tif  q170419tscrfl_fung_59_B3.tif   \n",
       "\n",
       "                         B4File     Name  REP  BLK  PLOT  ENTRY      Trial  \\\n",
       "0  q170505tscrfl_fung_19_B4.tif  fung_19    1    4    19     17  Fungicide   \n",
       "1  q170505tscrfl_fung_31_B4.tif  fung_31    2    7    31     19  Fungicide   \n",
       "2  q170419tscrfl_fung_59_B4.tif  fung_59    3   12    59     10  Fungicide   \n",
       "\n",
       "   Eval     Yield  \n",
       "0   1.0  6.055209  \n",
       "1   1.0  4.081627  \n",
       "2   1.0  4.612393  "
      ]
     },
     "execution_count": 171,
     "metadata": {},
     "output_type": "execute_result"
    }
   ],
   "source": [
    "dfs = dict()\n",
    "for f in os.listdir(\"data\"):\n",
    "    if os.path.splitext(f)[-1] == '.csv':\n",
    "        dfs[f] = pd.read_csv(os.path.join(\"data\", f))\n",
    "        \n",
    "frames = []\n",
    "for k in dfs:\n",
    "    if DATASET in k and TYPE in k:\n",
    "        frames.append(dfs[k])\n",
    "metadata = pd.concat(frames)\n",
    "metadata.head(3)"
   ]
  },
  {
   "cell_type": "markdown",
   "metadata": {},
   "source": [
    "#### Adicionando data"
   ]
  },
  {
   "cell_type": "code",
   "execution_count": 172,
   "metadata": {},
   "outputs": [],
   "source": [
    "from datetime import datetime\n",
    "\n",
    "def extract_date(token):\n",
    "    date = ''\n",
    "    for s in token:\n",
    "        if s.isdigit():\n",
    "            date += s\n",
    "    return datetime.strptime(date, '%y%m%d')"
   ]
  },
  {
   "cell_type": "code",
   "execution_count": 173,
   "metadata": {},
   "outputs": [
    {
     "data": {
      "text/html": [
       "<div>\n",
       "<style scoped>\n",
       "    .dataframe tbody tr th:only-of-type {\n",
       "        vertical-align: middle;\n",
       "    }\n",
       "\n",
       "    .dataframe tbody tr th {\n",
       "        vertical-align: top;\n",
       "    }\n",
       "\n",
       "    .dataframe thead th {\n",
       "        text-align: right;\n",
       "    }\n",
       "</style>\n",
       "<table border=\"1\" class=\"dataframe\">\n",
       "  <thead>\n",
       "    <tr style=\"text-align: right;\">\n",
       "      <th></th>\n",
       "      <th>Instance</th>\n",
       "      <th>Crop</th>\n",
       "      <th>B1File</th>\n",
       "      <th>B2File</th>\n",
       "      <th>B3File</th>\n",
       "      <th>B4File</th>\n",
       "      <th>Name</th>\n",
       "      <th>REP</th>\n",
       "      <th>BLK</th>\n",
       "      <th>PLOT</th>\n",
       "      <th>ENTRY</th>\n",
       "      <th>Trial</th>\n",
       "      <th>Eval</th>\n",
       "      <th>Yield</th>\n",
       "      <th>Date</th>\n",
       "      <th>Year</th>\n",
       "    </tr>\n",
       "  </thead>\n",
       "  <tbody>\n",
       "    <tr>\n",
       "      <th>0</th>\n",
       "      <td>q170505tscrfl_fung_19</td>\n",
       "      <td>crop_tsc_2017_b2s</td>\n",
       "      <td>q170505tscrfl_fung_19_B1.tif</td>\n",
       "      <td>q170505tscrfl_fung_19_B2.tif</td>\n",
       "      <td>q170505tscrfl_fung_19_B3.tif</td>\n",
       "      <td>q170505tscrfl_fung_19_B4.tif</td>\n",
       "      <td>fung_19</td>\n",
       "      <td>1</td>\n",
       "      <td>4</td>\n",
       "      <td>19</td>\n",
       "      <td>17</td>\n",
       "      <td>Fungicide</td>\n",
       "      <td>1.0</td>\n",
       "      <td>6.055209</td>\n",
       "      <td>2017-05-05</td>\n",
       "      <td>2017</td>\n",
       "    </tr>\n",
       "    <tr>\n",
       "      <th>1</th>\n",
       "      <td>q170505tscrfl_fung_31</td>\n",
       "      <td>crop_tsc_2017_b2s</td>\n",
       "      <td>q170505tscrfl_fung_31_B1.tif</td>\n",
       "      <td>q170505tscrfl_fung_31_B2.tif</td>\n",
       "      <td>q170505tscrfl_fung_31_B3.tif</td>\n",
       "      <td>q170505tscrfl_fung_31_B4.tif</td>\n",
       "      <td>fung_31</td>\n",
       "      <td>2</td>\n",
       "      <td>7</td>\n",
       "      <td>31</td>\n",
       "      <td>19</td>\n",
       "      <td>Fungicide</td>\n",
       "      <td>1.0</td>\n",
       "      <td>4.081627</td>\n",
       "      <td>2017-05-05</td>\n",
       "      <td>2017</td>\n",
       "    </tr>\n",
       "    <tr>\n",
       "      <th>2</th>\n",
       "      <td>q170419tscrfl_fung_59</td>\n",
       "      <td>crop_tsc_2017_b2s</td>\n",
       "      <td>q170419tscrfl_fung_59_B1.tif</td>\n",
       "      <td>q170419tscrfl_fung_59_B2.tif</td>\n",
       "      <td>q170419tscrfl_fung_59_B3.tif</td>\n",
       "      <td>q170419tscrfl_fung_59_B4.tif</td>\n",
       "      <td>fung_59</td>\n",
       "      <td>3</td>\n",
       "      <td>12</td>\n",
       "      <td>59</td>\n",
       "      <td>10</td>\n",
       "      <td>Fungicide</td>\n",
       "      <td>1.0</td>\n",
       "      <td>4.612393</td>\n",
       "      <td>2017-04-19</td>\n",
       "      <td>2017</td>\n",
       "    </tr>\n",
       "  </tbody>\n",
       "</table>\n",
       "</div>"
      ],
      "text/plain": [
       "                Instance               Crop                        B1File  \\\n",
       "0  q170505tscrfl_fung_19  crop_tsc_2017_b2s  q170505tscrfl_fung_19_B1.tif   \n",
       "1  q170505tscrfl_fung_31  crop_tsc_2017_b2s  q170505tscrfl_fung_31_B1.tif   \n",
       "2  q170419tscrfl_fung_59  crop_tsc_2017_b2s  q170419tscrfl_fung_59_B1.tif   \n",
       "\n",
       "                         B2File                        B3File  \\\n",
       "0  q170505tscrfl_fung_19_B2.tif  q170505tscrfl_fung_19_B3.tif   \n",
       "1  q170505tscrfl_fung_31_B2.tif  q170505tscrfl_fung_31_B3.tif   \n",
       "2  q170419tscrfl_fung_59_B2.tif  q170419tscrfl_fung_59_B3.tif   \n",
       "\n",
       "                         B4File     Name  REP  BLK  PLOT  ENTRY      Trial  \\\n",
       "0  q170505tscrfl_fung_19_B4.tif  fung_19    1    4    19     17  Fungicide   \n",
       "1  q170505tscrfl_fung_31_B4.tif  fung_31    2    7    31     19  Fungicide   \n",
       "2  q170419tscrfl_fung_59_B4.tif  fung_59    3   12    59     10  Fungicide   \n",
       "\n",
       "   Eval     Yield       Date  Year  \n",
       "0   1.0  6.055209 2017-05-05  2017  \n",
       "1   1.0  4.081627 2017-05-05  2017  \n",
       "2   1.0  4.612393 2017-04-19  2017  "
      ]
     },
     "execution_count": 173,
     "metadata": {},
     "output_type": "execute_result"
    }
   ],
   "source": [
    "metadata['Date'] = metadata.apply(lambda x: extract_date(x['Instance'].split('_')[0]), axis=1)\n",
    "metadata['Year'] = metadata.apply(lambda x: x.Date.year, axis=1)\n",
    "metadata.head(3)"
   ]
  },
  {
   "cell_type": "markdown",
   "metadata": {},
   "source": [
    "#### Ordenando por nome,crop,data"
   ]
  },
  {
   "cell_type": "code",
   "execution_count": 174,
   "metadata": {},
   "outputs": [
    {
     "data": {
      "text/html": [
       "<div>\n",
       "<style scoped>\n",
       "    .dataframe tbody tr th:only-of-type {\n",
       "        vertical-align: middle;\n",
       "    }\n",
       "\n",
       "    .dataframe tbody tr th {\n",
       "        vertical-align: top;\n",
       "    }\n",
       "\n",
       "    .dataframe thead th {\n",
       "        text-align: right;\n",
       "    }\n",
       "</style>\n",
       "<table border=\"1\" class=\"dataframe\">\n",
       "  <thead>\n",
       "    <tr style=\"text-align: right;\">\n",
       "      <th></th>\n",
       "      <th>Instance</th>\n",
       "      <th>Crop</th>\n",
       "      <th>B1File</th>\n",
       "      <th>B2File</th>\n",
       "      <th>B3File</th>\n",
       "      <th>B4File</th>\n",
       "      <th>Name</th>\n",
       "      <th>REP</th>\n",
       "      <th>BLK</th>\n",
       "      <th>PLOT</th>\n",
       "      <th>ENTRY</th>\n",
       "      <th>Trial</th>\n",
       "      <th>Eval</th>\n",
       "      <th>Yield</th>\n",
       "      <th>Date</th>\n",
       "      <th>Year</th>\n",
       "    </tr>\n",
       "  </thead>\n",
       "  <tbody>\n",
       "    <tr>\n",
       "      <th>82</th>\n",
       "      <td>c160407tscrfl_fung_1</td>\n",
       "      <td>crop_tsc_2016_b2s</td>\n",
       "      <td>c160407tscrfl_fung_1_B1.tif</td>\n",
       "      <td>c160407tscrfl_fung_1_B2.tif</td>\n",
       "      <td>c160407tscrfl_fung_1_B3.tif</td>\n",
       "      <td>c160407tscrfl_fung_1_B4.tif</td>\n",
       "      <td>fung_1</td>\n",
       "      <td>1</td>\n",
       "      <td>1</td>\n",
       "      <td>1</td>\n",
       "      <td>22</td>\n",
       "      <td>Fungicide</td>\n",
       "      <td>1.0</td>\n",
       "      <td>5.296382</td>\n",
       "      <td>2016-04-07</td>\n",
       "      <td>2016</td>\n",
       "    </tr>\n",
       "    <tr>\n",
       "      <th>335</th>\n",
       "      <td>c160418tscrfl_fung_1</td>\n",
       "      <td>crop_tsc_2016_b2s</td>\n",
       "      <td>c160418tscrfl_fung_1_B1.tif</td>\n",
       "      <td>c160418tscrfl_fung_1_B2.tif</td>\n",
       "      <td>c160418tscrfl_fung_1_B3.tif</td>\n",
       "      <td>c160418tscrfl_fung_1_B4.tif</td>\n",
       "      <td>fung_1</td>\n",
       "      <td>1</td>\n",
       "      <td>1</td>\n",
       "      <td>1</td>\n",
       "      <td>22</td>\n",
       "      <td>Fungicide</td>\n",
       "      <td>1.0</td>\n",
       "      <td>5.296382</td>\n",
       "      <td>2016-04-18</td>\n",
       "      <td>2016</td>\n",
       "    </tr>\n",
       "    <tr>\n",
       "      <th>565</th>\n",
       "      <td>c160428tscrfl_fung_1</td>\n",
       "      <td>crop_tsc_2016_b2s</td>\n",
       "      <td>c160428tscrfl_fung_1_B1.tif</td>\n",
       "      <td>c160428tscrfl_fung_1_B2.tif</td>\n",
       "      <td>c160428tscrfl_fung_1_B3.tif</td>\n",
       "      <td>c160428tscrfl_fung_1_B4.tif</td>\n",
       "      <td>fung_1</td>\n",
       "      <td>1</td>\n",
       "      <td>1</td>\n",
       "      <td>1</td>\n",
       "      <td>22</td>\n",
       "      <td>Fungicide</td>\n",
       "      <td>1.0</td>\n",
       "      <td>5.296382</td>\n",
       "      <td>2016-04-28</td>\n",
       "      <td>2016</td>\n",
       "    </tr>\n",
       "  </tbody>\n",
       "</table>\n",
       "</div>"
      ],
      "text/plain": [
       "                 Instance               Crop                       B1File  \\\n",
       "82   c160407tscrfl_fung_1  crop_tsc_2016_b2s  c160407tscrfl_fung_1_B1.tif   \n",
       "335  c160418tscrfl_fung_1  crop_tsc_2016_b2s  c160418tscrfl_fung_1_B1.tif   \n",
       "565  c160428tscrfl_fung_1  crop_tsc_2016_b2s  c160428tscrfl_fung_1_B1.tif   \n",
       "\n",
       "                          B2File                       B3File  \\\n",
       "82   c160407tscrfl_fung_1_B2.tif  c160407tscrfl_fung_1_B3.tif   \n",
       "335  c160418tscrfl_fung_1_B2.tif  c160418tscrfl_fung_1_B3.tif   \n",
       "565  c160428tscrfl_fung_1_B2.tif  c160428tscrfl_fung_1_B3.tif   \n",
       "\n",
       "                          B4File    Name  REP  BLK  PLOT  ENTRY      Trial  \\\n",
       "82   c160407tscrfl_fung_1_B4.tif  fung_1    1    1     1     22  Fungicide   \n",
       "335  c160418tscrfl_fung_1_B4.tif  fung_1    1    1     1     22  Fungicide   \n",
       "565  c160428tscrfl_fung_1_B4.tif  fung_1    1    1     1     22  Fungicide   \n",
       "\n",
       "     Eval     Yield       Date  Year  \n",
       "82    1.0  5.296382 2016-04-07  2016  \n",
       "335   1.0  5.296382 2016-04-18  2016  \n",
       "565   1.0  5.296382 2016-04-28  2016  "
      ]
     },
     "execution_count": 174,
     "metadata": {},
     "output_type": "execute_result"
    }
   ],
   "source": [
    "metadata = metadata.sort_values(['Name', 'Crop', 'Date'])\n",
    "metadata.head(3)"
   ]
  },
  {
   "cell_type": "markdown",
   "metadata": {},
   "source": [
    "#### Definindo a instância"
   ]
  },
  {
   "cell_type": "markdown",
   "metadata": {},
   "source": [
    "Neste experimento vamos considerar cada plot individual como uma instância. Um plot é o conjunto de 4 diferentes bandas espectrais de uma data específica."
   ]
  },
  {
   "cell_type": "code",
   "execution_count": 175,
   "metadata": {},
   "outputs": [],
   "source": [
    "metadata['Name'] = metadata.apply(lambda x: f'{(x.Name.split(\"_\")[0])}_{int(x.Name.split(\"_\")[1]):03}', axis=1)"
   ]
  },
  {
   "cell_type": "code",
   "execution_count": 176,
   "metadata": {},
   "outputs": [],
   "source": [
    "metadata['Instance'] = metadata.apply(lambda x: f'{x.Name}_{x.Crop}_{x.Date.year}{x.Date.month}{x.Date.day}', axis=1)"
   ]
  },
  {
   "cell_type": "code",
   "execution_count": 177,
   "metadata": {},
   "outputs": [
    {
     "data": {
      "text/html": [
       "<div>\n",
       "<style scoped>\n",
       "    .dataframe tbody tr th:only-of-type {\n",
       "        vertical-align: middle;\n",
       "    }\n",
       "\n",
       "    .dataframe tbody tr th {\n",
       "        vertical-align: top;\n",
       "    }\n",
       "\n",
       "    .dataframe thead th {\n",
       "        text-align: right;\n",
       "    }\n",
       "</style>\n",
       "<table border=\"1\" class=\"dataframe\">\n",
       "  <thead>\n",
       "    <tr style=\"text-align: right;\">\n",
       "      <th></th>\n",
       "      <th>Instance</th>\n",
       "      <th>Crop</th>\n",
       "      <th>B1File</th>\n",
       "      <th>B2File</th>\n",
       "      <th>B3File</th>\n",
       "      <th>B4File</th>\n",
       "      <th>Name</th>\n",
       "      <th>REP</th>\n",
       "      <th>BLK</th>\n",
       "      <th>PLOT</th>\n",
       "      <th>ENTRY</th>\n",
       "      <th>Trial</th>\n",
       "      <th>Eval</th>\n",
       "      <th>Yield</th>\n",
       "      <th>Date</th>\n",
       "      <th>Year</th>\n",
       "    </tr>\n",
       "  </thead>\n",
       "  <tbody>\n",
       "    <tr>\n",
       "      <th>82</th>\n",
       "      <td>fung_001_crop_tsc_2016_b2s_201647</td>\n",
       "      <td>crop_tsc_2016_b2s</td>\n",
       "      <td>c160407tscrfl_fung_1_B1.tif</td>\n",
       "      <td>c160407tscrfl_fung_1_B2.tif</td>\n",
       "      <td>c160407tscrfl_fung_1_B3.tif</td>\n",
       "      <td>c160407tscrfl_fung_1_B4.tif</td>\n",
       "      <td>fung_001</td>\n",
       "      <td>1</td>\n",
       "      <td>1</td>\n",
       "      <td>1</td>\n",
       "      <td>22</td>\n",
       "      <td>Fungicide</td>\n",
       "      <td>1.0</td>\n",
       "      <td>5.296382</td>\n",
       "      <td>2016-04-07</td>\n",
       "      <td>2016</td>\n",
       "    </tr>\n",
       "    <tr>\n",
       "      <th>335</th>\n",
       "      <td>fung_001_crop_tsc_2016_b2s_2016418</td>\n",
       "      <td>crop_tsc_2016_b2s</td>\n",
       "      <td>c160418tscrfl_fung_1_B1.tif</td>\n",
       "      <td>c160418tscrfl_fung_1_B2.tif</td>\n",
       "      <td>c160418tscrfl_fung_1_B3.tif</td>\n",
       "      <td>c160418tscrfl_fung_1_B4.tif</td>\n",
       "      <td>fung_001</td>\n",
       "      <td>1</td>\n",
       "      <td>1</td>\n",
       "      <td>1</td>\n",
       "      <td>22</td>\n",
       "      <td>Fungicide</td>\n",
       "      <td>1.0</td>\n",
       "      <td>5.296382</td>\n",
       "      <td>2016-04-18</td>\n",
       "      <td>2016</td>\n",
       "    </tr>\n",
       "    <tr>\n",
       "      <th>565</th>\n",
       "      <td>fung_001_crop_tsc_2016_b2s_2016428</td>\n",
       "      <td>crop_tsc_2016_b2s</td>\n",
       "      <td>c160428tscrfl_fung_1_B1.tif</td>\n",
       "      <td>c160428tscrfl_fung_1_B2.tif</td>\n",
       "      <td>c160428tscrfl_fung_1_B3.tif</td>\n",
       "      <td>c160428tscrfl_fung_1_B4.tif</td>\n",
       "      <td>fung_001</td>\n",
       "      <td>1</td>\n",
       "      <td>1</td>\n",
       "      <td>1</td>\n",
       "      <td>22</td>\n",
       "      <td>Fungicide</td>\n",
       "      <td>1.0</td>\n",
       "      <td>5.296382</td>\n",
       "      <td>2016-04-28</td>\n",
       "      <td>2016</td>\n",
       "    </tr>\n",
       "    <tr>\n",
       "      <th>10</th>\n",
       "      <td>fung_001_crop_tsc_2016_b2s_2016511</td>\n",
       "      <td>crop_tsc_2016_b2s</td>\n",
       "      <td>c160511tscrfl_fung_1_B1.tif</td>\n",
       "      <td>c160511tscrfl_fung_1_B2.tif</td>\n",
       "      <td>c160511tscrfl_fung_1_B3.tif</td>\n",
       "      <td>c160511tscrfl_fung_1_B4.tif</td>\n",
       "      <td>fung_001</td>\n",
       "      <td>1</td>\n",
       "      <td>1</td>\n",
       "      <td>1</td>\n",
       "      <td>22</td>\n",
       "      <td>Fungicide</td>\n",
       "      <td>1.0</td>\n",
       "      <td>5.296382</td>\n",
       "      <td>2016-05-11</td>\n",
       "      <td>2016</td>\n",
       "    </tr>\n",
       "    <tr>\n",
       "      <th>385</th>\n",
       "      <td>fung_001_crop_tsc_2017_b2s_2017419</td>\n",
       "      <td>crop_tsc_2017_b2s</td>\n",
       "      <td>q170419tscrfl_fung_1_B1.tif</td>\n",
       "      <td>q170419tscrfl_fung_1_B2.tif</td>\n",
       "      <td>q170419tscrfl_fung_1_B3.tif</td>\n",
       "      <td>q170419tscrfl_fung_1_B4.tif</td>\n",
       "      <td>fung_001</td>\n",
       "      <td>1</td>\n",
       "      <td>1</td>\n",
       "      <td>1</td>\n",
       "      <td>23</td>\n",
       "      <td>Fungicide</td>\n",
       "      <td>1.0</td>\n",
       "      <td>5.643749</td>\n",
       "      <td>2017-04-19</td>\n",
       "      <td>2017</td>\n",
       "    </tr>\n",
       "  </tbody>\n",
       "</table>\n",
       "</div>"
      ],
      "text/plain": [
       "                               Instance               Crop  \\\n",
       "82    fung_001_crop_tsc_2016_b2s_201647  crop_tsc_2016_b2s   \n",
       "335  fung_001_crop_tsc_2016_b2s_2016418  crop_tsc_2016_b2s   \n",
       "565  fung_001_crop_tsc_2016_b2s_2016428  crop_tsc_2016_b2s   \n",
       "10   fung_001_crop_tsc_2016_b2s_2016511  crop_tsc_2016_b2s   \n",
       "385  fung_001_crop_tsc_2017_b2s_2017419  crop_tsc_2017_b2s   \n",
       "\n",
       "                          B1File                       B2File  \\\n",
       "82   c160407tscrfl_fung_1_B1.tif  c160407tscrfl_fung_1_B2.tif   \n",
       "335  c160418tscrfl_fung_1_B1.tif  c160418tscrfl_fung_1_B2.tif   \n",
       "565  c160428tscrfl_fung_1_B1.tif  c160428tscrfl_fung_1_B2.tif   \n",
       "10   c160511tscrfl_fung_1_B1.tif  c160511tscrfl_fung_1_B2.tif   \n",
       "385  q170419tscrfl_fung_1_B1.tif  q170419tscrfl_fung_1_B2.tif   \n",
       "\n",
       "                          B3File                       B4File      Name  REP  \\\n",
       "82   c160407tscrfl_fung_1_B3.tif  c160407tscrfl_fung_1_B4.tif  fung_001    1   \n",
       "335  c160418tscrfl_fung_1_B3.tif  c160418tscrfl_fung_1_B4.tif  fung_001    1   \n",
       "565  c160428tscrfl_fung_1_B3.tif  c160428tscrfl_fung_1_B4.tif  fung_001    1   \n",
       "10   c160511tscrfl_fung_1_B3.tif  c160511tscrfl_fung_1_B4.tif  fung_001    1   \n",
       "385  q170419tscrfl_fung_1_B3.tif  q170419tscrfl_fung_1_B4.tif  fung_001    1   \n",
       "\n",
       "     BLK  PLOT  ENTRY      Trial  Eval     Yield       Date  Year  \n",
       "82     1     1     22  Fungicide   1.0  5.296382 2016-04-07  2016  \n",
       "335    1     1     22  Fungicide   1.0  5.296382 2016-04-18  2016  \n",
       "565    1     1     22  Fungicide   1.0  5.296382 2016-04-28  2016  \n",
       "10     1     1     22  Fungicide   1.0  5.296382 2016-05-11  2016  \n",
       "385    1     1     23  Fungicide   1.0  5.643749 2017-04-19  2017  "
      ]
     },
     "execution_count": 177,
     "metadata": {},
     "output_type": "execute_result"
    }
   ],
   "source": [
    "metadata.head()"
   ]
  },
  {
   "cell_type": "code",
   "execution_count": 178,
   "metadata": {},
   "outputs": [
    {
     "data": {
      "text/html": [
       "<div>\n",
       "<style scoped>\n",
       "    .dataframe tbody tr th:only-of-type {\n",
       "        vertical-align: middle;\n",
       "    }\n",
       "\n",
       "    .dataframe tbody tr th {\n",
       "        vertical-align: top;\n",
       "    }\n",
       "\n",
       "    .dataframe thead th {\n",
       "        text-align: right;\n",
       "    }\n",
       "</style>\n",
       "<table border=\"1\" class=\"dataframe\">\n",
       "  <thead>\n",
       "    <tr style=\"text-align: right;\">\n",
       "      <th></th>\n",
       "      <th>Instance</th>\n",
       "      <th>Crop</th>\n",
       "      <th>B1File</th>\n",
       "      <th>B2File</th>\n",
       "      <th>B3File</th>\n",
       "      <th>B4File</th>\n",
       "      <th>Name</th>\n",
       "      <th>REP</th>\n",
       "      <th>BLK</th>\n",
       "      <th>PLOT</th>\n",
       "      <th>ENTRY</th>\n",
       "      <th>Trial</th>\n",
       "      <th>Eval</th>\n",
       "      <th>Yield</th>\n",
       "      <th>Date</th>\n",
       "      <th>Year</th>\n",
       "    </tr>\n",
       "  </thead>\n",
       "  <tbody>\n",
       "    <tr>\n",
       "      <th>82</th>\n",
       "      <td>fung_001_crop_tsc_2016_b2s_201647</td>\n",
       "      <td>crop_tsc_2016_b2s</td>\n",
       "      <td>data/RAW/crop_tsc_2016_b2s/c160407tscrfl_fung_...</td>\n",
       "      <td>data/RAW/crop_tsc_2016_b2s/c160407tscrfl_fung_...</td>\n",
       "      <td>data/RAW/crop_tsc_2016_b2s/c160407tscrfl_fung_...</td>\n",
       "      <td>data/RAW/crop_tsc_2016_b2s/c160407tscrfl_fung_...</td>\n",
       "      <td>fung_001</td>\n",
       "      <td>1</td>\n",
       "      <td>1</td>\n",
       "      <td>1</td>\n",
       "      <td>22</td>\n",
       "      <td>Fungicide</td>\n",
       "      <td>1.0</td>\n",
       "      <td>5.296382</td>\n",
       "      <td>2016-04-07</td>\n",
       "      <td>2016</td>\n",
       "    </tr>\n",
       "    <tr>\n",
       "      <th>335</th>\n",
       "      <td>fung_001_crop_tsc_2016_b2s_2016418</td>\n",
       "      <td>crop_tsc_2016_b2s</td>\n",
       "      <td>data/RAW/crop_tsc_2016_b2s/c160418tscrfl_fung_...</td>\n",
       "      <td>data/RAW/crop_tsc_2016_b2s/c160418tscrfl_fung_...</td>\n",
       "      <td>data/RAW/crop_tsc_2016_b2s/c160418tscrfl_fung_...</td>\n",
       "      <td>data/RAW/crop_tsc_2016_b2s/c160418tscrfl_fung_...</td>\n",
       "      <td>fung_001</td>\n",
       "      <td>1</td>\n",
       "      <td>1</td>\n",
       "      <td>1</td>\n",
       "      <td>22</td>\n",
       "      <td>Fungicide</td>\n",
       "      <td>1.0</td>\n",
       "      <td>5.296382</td>\n",
       "      <td>2016-04-18</td>\n",
       "      <td>2016</td>\n",
       "    </tr>\n",
       "    <tr>\n",
       "      <th>565</th>\n",
       "      <td>fung_001_crop_tsc_2016_b2s_2016428</td>\n",
       "      <td>crop_tsc_2016_b2s</td>\n",
       "      <td>data/RAW/crop_tsc_2016_b2s/c160428tscrfl_fung_...</td>\n",
       "      <td>data/RAW/crop_tsc_2016_b2s/c160428tscrfl_fung_...</td>\n",
       "      <td>data/RAW/crop_tsc_2016_b2s/c160428tscrfl_fung_...</td>\n",
       "      <td>data/RAW/crop_tsc_2016_b2s/c160428tscrfl_fung_...</td>\n",
       "      <td>fung_001</td>\n",
       "      <td>1</td>\n",
       "      <td>1</td>\n",
       "      <td>1</td>\n",
       "      <td>22</td>\n",
       "      <td>Fungicide</td>\n",
       "      <td>1.0</td>\n",
       "      <td>5.296382</td>\n",
       "      <td>2016-04-28</td>\n",
       "      <td>2016</td>\n",
       "    </tr>\n",
       "  </tbody>\n",
       "</table>\n",
       "</div>"
      ],
      "text/plain": [
       "                               Instance               Crop  \\\n",
       "82    fung_001_crop_tsc_2016_b2s_201647  crop_tsc_2016_b2s   \n",
       "335  fung_001_crop_tsc_2016_b2s_2016418  crop_tsc_2016_b2s   \n",
       "565  fung_001_crop_tsc_2016_b2s_2016428  crop_tsc_2016_b2s   \n",
       "\n",
       "                                                B1File  \\\n",
       "82   data/RAW/crop_tsc_2016_b2s/c160407tscrfl_fung_...   \n",
       "335  data/RAW/crop_tsc_2016_b2s/c160418tscrfl_fung_...   \n",
       "565  data/RAW/crop_tsc_2016_b2s/c160428tscrfl_fung_...   \n",
       "\n",
       "                                                B2File  \\\n",
       "82   data/RAW/crop_tsc_2016_b2s/c160407tscrfl_fung_...   \n",
       "335  data/RAW/crop_tsc_2016_b2s/c160418tscrfl_fung_...   \n",
       "565  data/RAW/crop_tsc_2016_b2s/c160428tscrfl_fung_...   \n",
       "\n",
       "                                                B3File  \\\n",
       "82   data/RAW/crop_tsc_2016_b2s/c160407tscrfl_fung_...   \n",
       "335  data/RAW/crop_tsc_2016_b2s/c160418tscrfl_fung_...   \n",
       "565  data/RAW/crop_tsc_2016_b2s/c160428tscrfl_fung_...   \n",
       "\n",
       "                                                B4File      Name  REP  BLK  \\\n",
       "82   data/RAW/crop_tsc_2016_b2s/c160407tscrfl_fung_...  fung_001    1    1   \n",
       "335  data/RAW/crop_tsc_2016_b2s/c160418tscrfl_fung_...  fung_001    1    1   \n",
       "565  data/RAW/crop_tsc_2016_b2s/c160428tscrfl_fung_...  fung_001    1    1   \n",
       "\n",
       "     PLOT  ENTRY      Trial  Eval     Yield       Date  Year  \n",
       "82      1     22  Fungicide   1.0  5.296382 2016-04-07  2016  \n",
       "335     1     22  Fungicide   1.0  5.296382 2016-04-18  2016  \n",
       "565     1     22  Fungicide   1.0  5.296382 2016-04-28  2016  "
      ]
     },
     "execution_count": 178,
     "metadata": {},
     "output_type": "execute_result"
    }
   ],
   "source": [
    "for key in ['B1File', 'B2File', 'B3File', 'B4File']:\n",
    "    metadata[key] = metadata.apply(lambda x: os.path.join('data', 'RAW', x['Crop'], x[key]), axis=1)\n",
    "metadata.head(3)"
   ]
  },
  {
   "cell_type": "markdown",
   "metadata": {},
   "source": [
    "#### Definindo *Days after sowing*"
   ]
  },
  {
   "cell_type": "code",
   "execution_count": 179,
   "metadata": {},
   "outputs": [],
   "source": [
    "sowing_2016 = datetime.strptime('2016-01-19', '%Y-%m-%d')\n",
    "sowing_2017 = datetime.strptime('2017-01-24', '%Y-%m-%d')\n",
    "\n",
    "def get_das(date):\n",
    "    if date.year == 2016:\n",
    "        return (date - sowing_2016).days\n",
    "    elif date.year == 2017:\n",
    "        return (date - sowing_2017).days"
   ]
  },
  {
   "cell_type": "code",
   "execution_count": 180,
   "metadata": {},
   "outputs": [
    {
     "data": {
      "text/html": [
       "<div>\n",
       "<style scoped>\n",
       "    .dataframe tbody tr th:only-of-type {\n",
       "        vertical-align: middle;\n",
       "    }\n",
       "\n",
       "    .dataframe tbody tr th {\n",
       "        vertical-align: top;\n",
       "    }\n",
       "\n",
       "    .dataframe thead th {\n",
       "        text-align: right;\n",
       "    }\n",
       "</style>\n",
       "<table border=\"1\" class=\"dataframe\">\n",
       "  <thead>\n",
       "    <tr style=\"text-align: right;\">\n",
       "      <th></th>\n",
       "      <th>Instance</th>\n",
       "      <th>Crop</th>\n",
       "      <th>B1File</th>\n",
       "      <th>B2File</th>\n",
       "      <th>B3File</th>\n",
       "      <th>B4File</th>\n",
       "      <th>Name</th>\n",
       "      <th>REP</th>\n",
       "      <th>BLK</th>\n",
       "      <th>PLOT</th>\n",
       "      <th>ENTRY</th>\n",
       "      <th>Trial</th>\n",
       "      <th>Eval</th>\n",
       "      <th>Yield</th>\n",
       "      <th>Date</th>\n",
       "      <th>Year</th>\n",
       "      <th>DAS</th>\n",
       "    </tr>\n",
       "  </thead>\n",
       "  <tbody>\n",
       "    <tr>\n",
       "      <th>82</th>\n",
       "      <td>fung_001_crop_tsc_2016_b2s_201647</td>\n",
       "      <td>crop_tsc_2016_b2s</td>\n",
       "      <td>data/RAW/crop_tsc_2016_b2s/c160407tscrfl_fung_...</td>\n",
       "      <td>data/RAW/crop_tsc_2016_b2s/c160407tscrfl_fung_...</td>\n",
       "      <td>data/RAW/crop_tsc_2016_b2s/c160407tscrfl_fung_...</td>\n",
       "      <td>data/RAW/crop_tsc_2016_b2s/c160407tscrfl_fung_...</td>\n",
       "      <td>fung_001</td>\n",
       "      <td>1</td>\n",
       "      <td>1</td>\n",
       "      <td>1</td>\n",
       "      <td>22</td>\n",
       "      <td>Fungicide</td>\n",
       "      <td>1.0</td>\n",
       "      <td>5.296382</td>\n",
       "      <td>2016-04-07</td>\n",
       "      <td>2016</td>\n",
       "      <td>79</td>\n",
       "    </tr>\n",
       "    <tr>\n",
       "      <th>335</th>\n",
       "      <td>fung_001_crop_tsc_2016_b2s_2016418</td>\n",
       "      <td>crop_tsc_2016_b2s</td>\n",
       "      <td>data/RAW/crop_tsc_2016_b2s/c160418tscrfl_fung_...</td>\n",
       "      <td>data/RAW/crop_tsc_2016_b2s/c160418tscrfl_fung_...</td>\n",
       "      <td>data/RAW/crop_tsc_2016_b2s/c160418tscrfl_fung_...</td>\n",
       "      <td>data/RAW/crop_tsc_2016_b2s/c160418tscrfl_fung_...</td>\n",
       "      <td>fung_001</td>\n",
       "      <td>1</td>\n",
       "      <td>1</td>\n",
       "      <td>1</td>\n",
       "      <td>22</td>\n",
       "      <td>Fungicide</td>\n",
       "      <td>1.0</td>\n",
       "      <td>5.296382</td>\n",
       "      <td>2016-04-18</td>\n",
       "      <td>2016</td>\n",
       "      <td>90</td>\n",
       "    </tr>\n",
       "    <tr>\n",
       "      <th>565</th>\n",
       "      <td>fung_001_crop_tsc_2016_b2s_2016428</td>\n",
       "      <td>crop_tsc_2016_b2s</td>\n",
       "      <td>data/RAW/crop_tsc_2016_b2s/c160428tscrfl_fung_...</td>\n",
       "      <td>data/RAW/crop_tsc_2016_b2s/c160428tscrfl_fung_...</td>\n",
       "      <td>data/RAW/crop_tsc_2016_b2s/c160428tscrfl_fung_...</td>\n",
       "      <td>data/RAW/crop_tsc_2016_b2s/c160428tscrfl_fung_...</td>\n",
       "      <td>fung_001</td>\n",
       "      <td>1</td>\n",
       "      <td>1</td>\n",
       "      <td>1</td>\n",
       "      <td>22</td>\n",
       "      <td>Fungicide</td>\n",
       "      <td>1.0</td>\n",
       "      <td>5.296382</td>\n",
       "      <td>2016-04-28</td>\n",
       "      <td>2016</td>\n",
       "      <td>100</td>\n",
       "    </tr>\n",
       "  </tbody>\n",
       "</table>\n",
       "</div>"
      ],
      "text/plain": [
       "                               Instance               Crop  \\\n",
       "82    fung_001_crop_tsc_2016_b2s_201647  crop_tsc_2016_b2s   \n",
       "335  fung_001_crop_tsc_2016_b2s_2016418  crop_tsc_2016_b2s   \n",
       "565  fung_001_crop_tsc_2016_b2s_2016428  crop_tsc_2016_b2s   \n",
       "\n",
       "                                                B1File  \\\n",
       "82   data/RAW/crop_tsc_2016_b2s/c160407tscrfl_fung_...   \n",
       "335  data/RAW/crop_tsc_2016_b2s/c160418tscrfl_fung_...   \n",
       "565  data/RAW/crop_tsc_2016_b2s/c160428tscrfl_fung_...   \n",
       "\n",
       "                                                B2File  \\\n",
       "82   data/RAW/crop_tsc_2016_b2s/c160407tscrfl_fung_...   \n",
       "335  data/RAW/crop_tsc_2016_b2s/c160418tscrfl_fung_...   \n",
       "565  data/RAW/crop_tsc_2016_b2s/c160428tscrfl_fung_...   \n",
       "\n",
       "                                                B3File  \\\n",
       "82   data/RAW/crop_tsc_2016_b2s/c160407tscrfl_fung_...   \n",
       "335  data/RAW/crop_tsc_2016_b2s/c160418tscrfl_fung_...   \n",
       "565  data/RAW/crop_tsc_2016_b2s/c160428tscrfl_fung_...   \n",
       "\n",
       "                                                B4File      Name  REP  BLK  \\\n",
       "82   data/RAW/crop_tsc_2016_b2s/c160407tscrfl_fung_...  fung_001    1    1   \n",
       "335  data/RAW/crop_tsc_2016_b2s/c160418tscrfl_fung_...  fung_001    1    1   \n",
       "565  data/RAW/crop_tsc_2016_b2s/c160428tscrfl_fung_...  fung_001    1    1   \n",
       "\n",
       "     PLOT  ENTRY      Trial  Eval     Yield       Date  Year  DAS  \n",
       "82      1     22  Fungicide   1.0  5.296382 2016-04-07  2016   79  \n",
       "335     1     22  Fungicide   1.0  5.296382 2016-04-18  2016   90  \n",
       "565     1     22  Fungicide   1.0  5.296382 2016-04-28  2016  100  "
      ]
     },
     "execution_count": 180,
     "metadata": {},
     "output_type": "execute_result"
    }
   ],
   "source": [
    "metadata['DAS'] = metadata.apply(lambda x: get_das(x.Date), axis=1)\n",
    "metadata.head(3)"
   ]
  },
  {
   "cell_type": "code",
   "execution_count": 181,
   "metadata": {},
   "outputs": [
    {
     "data": {
      "image/png": "[encoded data removed]",
      "text/plain": [
       "<Figure size 576x216 with 1 Axes>"
      ]
     },
     "metadata": {
      "needs_background": "light"
     },
     "output_type": "display_data"
    }
   ],
   "source": [
    "if SHOW_INFO:\n",
    "    plt.figure(figsize=(8,3))\n",
    "    evals = metadata['DAS'].value_counts()\n",
    "    sns.barplot(evals.index, evals.values)\n",
    "    plt.xticks(rotation='vertical')\n",
    "    plt.xlabel('Pontuação')\n",
    "    plt.ylabel('Dias')\n",
    "    plt.title(\"Days after sowing\")\n",
    "    plt.show()"
   ]
  },
  {
   "cell_type": "markdown",
   "metadata": {},
   "source": [
    "#### Normalizando DAS"
   ]
  },
  {
   "cell_type": "code",
   "execution_count": 182,
   "metadata": {},
   "outputs": [
    {
     "data": {
      "text/plain": [
       "82     0.000000\n",
       "335    0.323529\n",
       "565    0.617647\n",
       "10     1.000000\n",
       "385    0.176471\n",
       "         ...   \n",
       "472    0.617647\n",
       "54     1.000000\n",
       "130    0.176471\n",
       "141    0.441176\n",
       "89     0.647059\n",
       "Name: DAS, Length: 1050, dtype: float64"
      ]
     },
     "execution_count": 182,
     "metadata": {},
     "output_type": "execute_result"
    }
   ],
   "source": [
    "metadata['DAS'] = (metadata['DAS']-metadata['DAS'].min())/(metadata['DAS'].max()-metadata['DAS'].min())\n",
    "metadata['DAS']"
   ]
  },
  {
   "cell_type": "markdown",
   "metadata": {},
   "source": [
    "### Split dos dados"
   ]
  },
  {
   "cell_type": "markdown",
   "metadata": {},
   "source": [
    "Nesse experimento os dados com fungicidas serão desconsiderados."
   ]
  },
  {
   "cell_type": "code",
   "execution_count": 183,
   "metadata": {},
   "outputs": [],
   "source": [
    "metadata = metadata[metadata.Trial != 'Fungicide']"
   ]
  },
  {
   "cell_type": "code",
   "execution_count": 184,
   "metadata": {},
   "outputs": [
    {
     "name": "stdout",
     "output_type": "stream",
     "text": [
      "Tamanho dos dados de treinamento:  350\n",
      "Tamanho dos dados de validação:  88\n",
      "Tamanho dos dados de teste:  82\n"
     ]
    },
    {
     "name": "stderr",
     "output_type": "stream",
     "text": [
      "/home/lucas/anaconda3/envs/ic2/lib/python3.7/site-packages/pandas/core/frame.py:3997: SettingWithCopyWarning: \n",
      "A value is trying to be set on a copy of a slice from a DataFrame\n",
      "\n",
      "See the caveats in the documentation: https://pandas.pydata.org/pandas-docs/stable/user_guide/indexing.html#returning-a-view-versus-a-copy\n",
      "  errors=errors,\n"
     ]
    }
   ],
   "source": [
    "train_metadata = metadata[metadata.REP < 3]\n",
    "test_metadata = metadata[metadata.REP == 3]\n",
    "if USE_TEST_AS_VAL:\n",
    "    val_metadata = test_metadata\n",
    "else:\n",
    "    val_metadata = test_metadata.sample(frac=.5)\n",
    "    cond = val_metadata['Instance'].isin(test_metadata['Instance'])\n",
    "    test_metadata.drop(val_metadata[cond].index, inplace=True)\n",
    "print(\"Tamanho dos dados de treinamento: \", len(train_metadata))\n",
    "print(\"Tamanho dos dados de validação: \", len(val_metadata))\n",
    "print(\"Tamanho dos dados de teste: \", len(test_metadata))"
   ]
  },
  {
   "cell_type": "code",
   "execution_count": 185,
   "metadata": {},
   "outputs": [
    {
     "data": {
      "image/png": "[encoded data removed]",
      "text/plain": [
       "<Figure size 432x288 with 1 Axes>"
      ]
     },
     "metadata": {},
     "output_type": "display_data"
    }
   ],
   "source": [
    "if SHOW_INFO:\n",
    "    total = len(train_metadata) + len(val_metadata) + len(test_metadata)\n",
    "    sizes = [len(train_metadata)/total, len(val_metadata)/total, len(test_metadata)/total]\n",
    "    fig1, ax1 = plt.subplots()\n",
    "    ax1.pie(sizes, labels=[\"Train\", \"Validation\", \"Test\"], autopct='%1.1f%%',\n",
    "            shadow=True, startangle=90)\n",
    "    ax1.axis('equal')\n",
    "    plt.show()"
   ]
  },
  {
   "cell_type": "code",
   "execution_count": 186,
   "metadata": {},
   "outputs": [
    {
     "name": "stdout",
     "output_type": "stream",
     "text": [
      "Quantidade de instâncias (sem aumento de dados) totais: 525\n",
      "Quantidade de instâncias (sem aumento de dados) para treinamento: 350\n",
      "Quantidade de instâncias (sem aumento de dados) para validação: 88\n",
      "Quantidade de instâncias (sem aumento de dados) para teste: 82\n"
     ]
    }
   ],
   "source": [
    "print(\"Quantidade de instâncias (sem aumento de dados) totais:\",\n",
    "      len(metadata))\n",
    "print(\"Quantidade de instâncias (sem aumento de dados) para treinamento:\",\n",
    "      len(train_metadata))\n",
    "print(\"Quantidade de instâncias (sem aumento de dados) para validação:\",\n",
    "      len(val_metadata))\n",
    "print(\"Quantidade de instâncias (sem aumento de dados) para teste:\",\n",
    "      len(test_metadata))\n",
    "\n",
    "train_set = set(train_metadata.Instance)\n",
    "val_set = set(val_metadata.Instance) if not USE_TEST_AS_VAL else set()\n",
    "test_set = set(test_metadata.Instance)\n",
    "for i in val_set:\n",
    "    assert not (i in train_set or i in test_set)\n",
    "for i in test_set:\n",
    "    assert not (i in train_set or i in val_set)"
   ]
  },
  {
   "cell_type": "markdown",
   "metadata": {},
   "source": [
    "#### Balanceamento dos dados"
   ]
  },
  {
   "cell_type": "code",
   "execution_count": 187,
   "metadata": {},
   "outputs": [],
   "source": [
    "if BALANCE_DATA:\n",
    "    g = train_metadata.groupby(TARGET, as_index=False)\n",
    "    metadata_bal = pd.DataFrame(g.apply(lambda x: x.sample(g.size().max(),\n",
    "                                                           replace=True).reset_index(drop=True)))\n",
    "    metadata_bal.reset_index(drop=True, inplace=True)\n",
    "    train_metadata = metadata_bal"
   ]
  },
  {
   "cell_type": "code",
   "execution_count": 188,
   "metadata": {},
   "outputs": [],
   "source": [
    "\n"
   ]
  },
  {
   "cell_type": "markdown",
   "metadata": {},
   "source": [
    "#### Carregando alguns dados"
   ]
  },
  {
   "cell_type": "code",
   "execution_count": 189,
   "metadata": {},
   "outputs": [
    {
     "name": "stdout",
     "output_type": "stream",
     "text": [
      "Date\n"
     ]
    }
   ],
   "source": [
    "print(NORMALIZE_BY)"
   ]
  },
  {
   "cell_type": "code",
   "execution_count": 190,
   "metadata": {},
   "outputs": [
    {
     "name": "stdout",
     "output_type": "stream",
     "text": [
      "(45, 43, 53, 4)\n"
     ]
    }
   ],
   "source": [
    "train_gen = RegressorDASGenerator(metadata_flow=train_metadata,\n",
    "                                  new_shape=SHAPE, \n",
    "                                  metadata=metadata,\n",
    "                                  batch_size=BATCH_SIZE,\n",
    "                                  loader_fn=util.process, \n",
    "                                  train_metadata=train_metadata, \n",
    "                                  val_metadata=val_metadata,\n",
    "                                  test_metadata=test_metadata,\n",
    "                                  augmentation=AUG_INC,\n",
    "                                  normalize_by=NORMALIZE_BY,\n",
    "                                  normalization_type=NORMALIZATION_TYPE,\n",
    "                                  target=TARGET,\n",
    "                                  loader_kw={\"im_shape\": IM_SHAPE,\n",
    "                                             \"augment_type\": AUGMENT,\n",
    "                                             \"verbose_level\": 0})\n",
    "\n",
    "for i in train_gen:\n",
    "    print(np.asarray(i[0][0]).shape)\n",
    "    break"
   ]
  },
  {
   "cell_type": "code",
   "execution_count": 191,
   "metadata": {},
   "outputs": [
    {
     "data": {
      "image/png": "[encoded data removed]",
      "text/plain": [
       "<Figure size 576x216 with 1 Axes>"
      ]
     },
     "metadata": {
      "needs_background": "light"
     },
     "output_type": "display_data"
    }
   ],
   "source": [
    "if SHOW_INFO:\n",
    "    plt.figure(figsize=(8,3))\n",
    "    evals = train_metadata['Eval'].value_counts()\n",
    "    sns.barplot(evals.index, evals.values)\n",
    "    plt.xticks(rotation='vertical')\n",
    "    plt.xlabel('Pontuação')\n",
    "    plt.ylabel('Frequência')\n",
    "    plt.title(\"Evaluações no dataset - Treinamento\")\n",
    "    plt.show()"
   ]
  },
  {
   "cell_type": "code",
   "execution_count": 192,
   "metadata": {},
   "outputs": [],
   "source": [
    "loader_kws = {\n",
    "    'im_shape': IM_SHAPE, \n",
    "    'augment_type': None,\n",
    "    'verbose_level': 0\n",
    "}\n",
    "\n",
    "dataset = DASDataset(metadata, \n",
    "                     train_metadata=train_metadata, \n",
    "                     val_metadata=val_metadata, \n",
    "                     test_metadata=test_metadata,\n",
    "                     loader_fn=util.process, \n",
    "                      normalize_by=NORMALIZE_BY,\n",
    "                      normalization_type=NORMALIZATION_TYPE,\n",
    "                     loader_kw=loader_kws, \n",
    "                     target=TARGET)\n",
    "dataset.load_train_val_test_data()\n",
    "\n",
    "train_features, train_das, train_y = dataset.train_data\n",
    "val_features, val_das, val_y = dataset.val_data\n",
    "test_features, test_das, test_y = dataset.test_data"
   ]
  },
  {
   "cell_type": "code",
   "execution_count": 193,
   "metadata": {},
   "outputs": [
    {
     "data": {
      "image/png": "[encoded data removed]",
      "text/plain": [
       "<Figure size 432x288 with 2 Axes>"
      ]
     },
     "metadata": {
      "needs_background": "light"
     },
     "output_type": "display_data"
    },
    {
     "data": {
      "image/png": "[encoded data removed]",
      "text/plain": [
       "<Figure size 432x288 with 2 Axes>"
      ]
     },
     "metadata": {
      "needs_background": "light"
     },
     "output_type": "display_data"
    },
    {
     "data": {
      "image/png": "[encoded data removed]",
      "text/plain": [
       "<Figure size 432x288 with 2 Axes>"
      ]
     },
     "metadata": {
      "needs_background": "light"
     },
     "output_type": "display_data"
    },
    {
     "data": {
      "image/png": "[encoded data removed]",
      "text/plain": [
       "<Figure size 432x288 with 2 Axes>"
      ]
     },
     "metadata": {
      "needs_background": "light"
     },
     "output_type": "display_data"
    }
   ],
   "source": [
    "if SHOW_INFO:\n",
    "    for c in range(4):\n",
    "        plt.pcolormesh(train_features[0][:,:,c])\n",
    "        plt.axis('equal')\n",
    "        plt.colorbar()\n",
    "        plt.show()\n",
    "        plt.close()"
   ]
  },
  {
   "cell_type": "code",
   "execution_count": 194,
   "metadata": {},
   "outputs": [],
   "source": [
    "if SHAPE == FLATTEN_SHAPE:\n",
    "    val_features = np.reshape(np.asarray(val_features), (len(val_features), FLATTEN_SHAPE))\n",
    "    train_features = np.reshape(np.asarray(train_features), (len(train_features), FLATTEN_SHAPE))\n",
    "    test_features = np.reshape(np.asarray(test_features), (len(test_features), FLATTEN_SHAPE))"
   ]
  },
  {
   "cell_type": "markdown",
   "metadata": {},
   "source": [
    "## Métricas"
   ]
  },
  {
   "cell_type": "code",
   "execution_count": 195,
   "metadata": {},
   "outputs": [],
   "source": [
    "def R_squared(y_true, y_pred):\n",
    "    residual = tf.reduce_sum(tf.square(tf.subtract(y_true, y_pred)))\n",
    "    total = tf.reduce_sum(tf.square(tf.subtract(y_true, tf.reduce_mean(y_true))))\n",
    "    r2 = tf.subtract(1.0, tf.divide(residual, total))\n",
    "    return r2\n",
    "\n",
    "def r2_keras(y_true, y_pred):\n",
    "#     return tfa.metrics.RSquare(y_true, y_pred)\n",
    "\n",
    "    RSS =  K.sum(K.square( y_true- y_pred ))\n",
    "    TSS = K.sum(K.square( y_true - K.mean(y_true) ) )\n",
    "    return ( 1. - RSS/(TSS) )\n",
    "\n",
    "def pearson_r(y_true, y_pred):\n",
    "    # ToDo\n",
    "    x = y_true\n",
    "    y = y_pred\n",
    "    mx = K.mean(x, axis=0)\n",
    "    my = K.mean(y, axis=0)\n",
    "    xm, ym = x - mx, y - my\n",
    "    r_num = K.sum(xm * ym)\n",
    "    x_square_sum = K.sum(xm * xm)\n",
    "    y_square_sum = K.sum(ym * ym)\n",
    "    r_den = K.sqrt(x_square_sum * y_square_sum)\n",
    "    r = r_num / r_den\n",
    "    return K.mean(r)"
   ]
  },
  {
   "cell_type": "markdown",
   "metadata": {},
   "source": [
    "## Modelos"
   ]
  },
  {
   "cell_type": "markdown",
   "metadata": {},
   "source": [
    "**Veja models.py**"
   ]
  },
  {
   "cell_type": "code",
   "execution_count": 196,
   "metadata": {},
   "outputs": [],
   "source": [
    "model = globals()[TOPOLOGY](SHAPE)"
   ]
  },
  {
   "cell_type": "markdown",
   "metadata": {},
   "source": [
    "### Otimizador"
   ]
  },
  {
   "cell_type": "code",
   "execution_count": 197,
   "metadata": {},
   "outputs": [],
   "source": [
    "def exp_decay(epoch):\n",
    "    k = 0.1\n",
    "    lrate = LR * math.exp(-k*2)\n",
    "    return lrate\n",
    "\n",
    "lrate = tf.keras.callbacks.LearningRateScheduler(exp_decay)"
   ]
  },
  {
   "cell_type": "code",
   "execution_count": 198,
   "metadata": {},
   "outputs": [],
   "source": [
    "# optimizer = tf.keras.optimizers.Adam(learning_rate=LR)"
   ]
  },
  {
   "cell_type": "code",
   "execution_count": 36,
   "metadata": {},
   "outputs": [],
   "source": [
    "decay_rate = (LR / EPOCHS)\n",
    "optimizer = tf.keras.optimizers.Adam(lr=LR, decay=decay_rate)"
   ]
  },
  {
   "cell_type": "markdown",
   "metadata": {},
   "source": [
    "### Compile"
   ]
  },
  {
   "cell_type": "code",
   "execution_count": 37,
   "metadata": {},
   "outputs": [],
   "source": [
    "model.compile(loss=LOSSF,\n",
    "              optimizer=optimizer,\n",
    "              metrics=['mse', r2_keras, R_squared, pearson_r])"
   ]
  },
  {
   "cell_type": "code",
   "execution_count": 38,
   "metadata": {},
   "outputs": [
    {
     "data": {
      "image/png": "[encoded data removed]",
      "text/plain": [
       "<IPython.core.display.Image object>"
      ]
     },
     "execution_count": 38,
     "metadata": {},
     "output_type": "execute_result"
    }
   ],
   "source": [
    "os.makedirs('topologias', exist_ok=True)\n",
    "plot_model(model, to_file=f'topologias{os.sep}{TOPOLOGY}.png',\n",
    "           show_shapes=True, show_layer_names=False)"
   ]
  },
  {
   "cell_type": "code",
   "execution_count": 39,
   "metadata": {},
   "outputs": [
    {
     "name": "stdout",
     "output_type": "stream",
     "text": [
      "Model: \"model\"\n",
      "__________________________________________________________________________________________________\n",
      "Layer (type)                    Output Shape         Param #     Connected to                     \n",
      "==================================================================================================\n",
      "input_1 (InputLayer)            [(None, 43, 53, 4)]  0                                            \n",
      "__________________________________________________________________________________________________\n",
      "conv2d (Conv2D)                 (None, 41, 51, 1)    37          input_1[0][0]                    \n",
      "__________________________________________________________________________________________________\n",
      "leaky_re_lu (LeakyReLU)         (None, 41, 51, 1)    0           conv2d[0][0]                     \n",
      "__________________________________________________________________________________________________\n",
      "flatten (Flatten)               (None, 2091)         0           leaky_re_lu[0][0]                \n",
      "__________________________________________________________________________________________________\n",
      "input_2 (InputLayer)            [(None, 1)]          0                                            \n",
      "__________________________________________________________________________________________________\n",
      "concatenate (Concatenate)       (None, 2092)         0           flatten[0][0]                    \n",
      "                                                                 input_2[0][0]                    \n",
      "__________________________________________________________________________________________________\n",
      "dense (Dense)                   (None, 10)           20930       concatenate[0][0]                \n",
      "__________________________________________________________________________________________________\n",
      "leaky_re_lu_1 (LeakyReLU)       (None, 10)           0           dense[0][0]                      \n",
      "__________________________________________________________________________________________________\n",
      "dense_1 (Dense)                 (None, 1)            11          leaky_re_lu_1[0][0]              \n",
      "==================================================================================================\n",
      "Total params: 20,978\n",
      "Trainable params: 20,978\n",
      "Non-trainable params: 0\n",
      "__________________________________________________________________________________________________\n"
     ]
    }
   ],
   "source": [
    "model.summary()"
   ]
  },
  {
   "cell_type": "code",
   "execution_count": 40,
   "metadata": {},
   "outputs": [
    {
     "name": "stdout",
     "output_type": "stream",
     "text": [
      "(80, 43, 53, 4) (80, 1) (80,)\n"
     ]
    }
   ],
   "source": [
    "print(test_features.shape, test_das.shape, test_y.shape)"
   ]
  },
  {
   "cell_type": "code",
   "execution_count": 41,
   "metadata": {},
   "outputs": [
    {
     "name": "stdout",
     "output_type": "stream",
     "text": [
      "3/3 [==============================] - 0s 9ms/step - loss: 65.5048 - mse: 9.5049 - r2_keras: -3.8999 - R_squared: -3.8999 - pearson_r: -0.2310\n",
      "Loss=65.50484466552734\n",
      "MSE=9.504921913146973\n",
      "R2=-3.8999359607696533\n",
      "R2=-3.8999359607696533\n",
      "Pearson=-0.2310095578432083\n"
     ]
    }
   ],
   "source": [
    "loss, mse, r2, R2, p = model.evaluate([test_features, test_das], test_y, verbose=1)\n",
    "print(f\"Loss={loss}\\nMSE={mse}\\nR2={r2}\\nR2={R2}\\nPearson={p}\")"
   ]
  },
  {
   "cell_type": "code",
   "execution_count": 42,
   "metadata": {},
   "outputs": [],
   "source": [
    "interv = EPOCHS//50\n",
    "plot_metrics = PlotMetricsRegressor([val_features, val_das], val_y, 1, suavize_data=None,\n",
    "                                    savefig=f'{MODEL_NAME}_{NOW}', savefig_epoch=EPOCHS-interv)"
   ]
  },
  {
   "cell_type": "markdown",
   "metadata": {},
   "source": [
    "## Treinamento"
   ]
  },
  {
   "cell_type": "code",
   "execution_count": 92,
   "metadata": {},
   "outputs": [
    {
     "ename": "NameError",
     "evalue": "name 'model' is not defined",
     "output_type": "error",
     "traceback": [
      "\u001b[0;31m---------------------------------------------------------------------------\u001b[0m",
      "\u001b[0;31mNameError\u001b[0m                                 Traceback (most recent call last)",
      "\u001b[0;32m<ipython-input-92-7a08f5435b8d>\u001b[0m in \u001b[0;36m<module>\u001b[0;34m\u001b[0m\n\u001b[1;32m     46\u001b[0m                         use_multiprocessing=False)\n\u001b[1;32m     47\u001b[0m \u001b[0;32melse\u001b[0m\u001b[0;34m:\u001b[0m\u001b[0;34m\u001b[0m\u001b[0;34m\u001b[0m\u001b[0m\n\u001b[0;32m---> 48\u001b[0;31m     history = model.fit(x=[train_features, train_das],\n\u001b[0m\u001b[1;32m     49\u001b[0m                         \u001b[0my\u001b[0m\u001b[0;34m=\u001b[0m\u001b[0mtrain_y\u001b[0m\u001b[0;34m,\u001b[0m\u001b[0;34m\u001b[0m\u001b[0;34m\u001b[0m\u001b[0m\n\u001b[1;32m     50\u001b[0m                         \u001b[0mepochs\u001b[0m\u001b[0;34m=\u001b[0m\u001b[0mEPOCHS\u001b[0m\u001b[0;34m,\u001b[0m\u001b[0;34m\u001b[0m\u001b[0;34m\u001b[0m\u001b[0m\n",
      "\u001b[0;31mNameError\u001b[0m: name 'model' is not defined"
     ]
    }
   ],
   "source": [
    "checkpoint_filepath = f'models/{MODEL_NAME}_{NOW}.h5'\n",
    "\n",
    "os.makedirs('models', exist_ok=True)\n",
    "callbacks = [\n",
    "#     lrate,\n",
    "    ModelCheckpoint(\n",
    "        filepath=checkpoint_filepath,\n",
    "        save_best_only=True,\n",
    "#         mode='max',\n",
    "        monitor='val_loss',\n",
    "#         monitor='val_r2_keras',\n",
    "        verbose=1)\n",
    "]\n",
    "if SHOW_INFO:\n",
    "    callbacks.append(plot_metrics)\n",
    "    callbacks.append(ShowLR())\n",
    "    \n",
    "start = datetime.now()\n",
    "\n",
    "\n",
    "if AUGMENT is not None:\n",
    "    print(\"Using generator\")\n",
    "    train_gen = RegressorDASGenerator(metadata_flow=train_metadata,\n",
    "                                      metadata=metadata,\n",
    "                                      train_metadata=train_metadata, \n",
    "                                      val_metadata=val_metadata, \n",
    "                                      test_metadata=test_metadata,\n",
    "                                      batch_size=BATCH_SIZE,\n",
    "                                      loader_fn=util.process, \n",
    "                                      augmentation=AUG_INC,\n",
    "                                      use_cache=False,\n",
    "                                      standardize_by_rep=STANDARDIZE_DATA,\n",
    "                                      normalize_by_rep=NORMALIZE_DATA,\n",
    "                                      target=TARGET,\n",
    "                                      new_shape=SHAPE,\n",
    "                                      loader_kw={\"im_shape\": IM_SHAPE,\n",
    "                                                 \"augment_type\": AUGMENT,\n",
    "                                                 \"verbose_level\": 0})\n",
    "    history = model.fit(x=train_gen, \n",
    "                        epochs=EPOCHS,\n",
    "                        verbose=1,\n",
    "                        callbacks=callbacks,\n",
    "                        validation_data=([val_features, val_das], val_y),\n",
    "                        max_queue_size=10,\n",
    "                        workers=7,\n",
    "                        use_multiprocessing=False)\n",
    "else:\n",
    "    history = model.fit(x=[train_features, train_das],\n",
    "                        y=train_y,\n",
    "                        epochs=EPOCHS,\n",
    "                        batch_size=BATCH_SIZE,\n",
    "                        verbose=1,\n",
    "                        callbacks=callbacks,\n",
    "                        validation_data=([val_features, val_das], val_y))\n",
    "\n",
    "\n",
    "duration = datetime.now() - start\n",
    "print(\"Training completed in time: \", duration)"
   ]
  },
  {
   "cell_type": "markdown",
   "metadata": {},
   "source": [
    "### Teste"
   ]
  },
  {
   "cell_type": "code",
   "execution_count": null,
   "metadata": {},
   "outputs": [],
   "source": [
    "print(\"*\"*10, \"TEST (TRAIN SET)\", \"*\"*10)\n",
    "train_loss, train_mse, train_r2, train_R2, train_p = model.evaluate([train_features, train_das], train_y, verbose=1)\n",
    "print(f\"Loss={train_loss}\\nMSE={train_mse}\\nr2={train_r2}\\nR2={train_r2}\\nPearson={train_p}\")\n",
    "\n",
    "print(\"*\"*10, \"TEST (VAL SET)\", \"*\"*10)\n",
    "val_loss, val_mse, val_r2, val_R2, val_p = model.evaluate([val_features, val_das], val_y, verbose=1)\n",
    "print(f\"Loss={val_loss}\\nMSE={val_mse}\\nr2={val_r2}\\nR2={val_r2}\\nPearson={val_p}\")\n",
    "\n",
    "print(\"*\"*10, \"TEST (TEST SET)\", \"*\"*10)\n",
    "test_loss, test_mse, test_r2, test_R2, test_p = model.evaluate([test_features, test_das], test_y, verbose=1)\n",
    "print(f\"Loss={test_loss}\\nMSE={test_mse}\\rR2={test_r2}\\nR2={test_r2}\\nPearson={test_p}\")"
   ]
  },
  {
   "cell_type": "markdown",
   "metadata": {},
   "source": [
    "## Teste do melhor modelo"
   ]
  },
  {
   "cell_type": "code",
   "execution_count": null,
   "metadata": {},
   "outputs": [],
   "source": [
    "model = load_model(checkpoint_filepath, custom_objects={\"r2_keras\": r2_keras, \"R_squared\": R_squared, \"pearson_r\": pearson_r})"
   ]
  },
  {
   "cell_type": "markdown",
   "metadata": {},
   "source": [
    "### Teste"
   ]
  },
  {
   "cell_type": "code",
   "execution_count": null,
   "metadata": {},
   "outputs": [],
   "source": [
    "print(\"*\"*10, \"TEST (TRAIN SET)\", \"*\"*10)\n",
    "train_loss, train_mse, train_r2, train_R2, train_p = model.evaluate([train_features, train_das], train_y, verbose=1)\n",
    "print(f\"Loss={train_loss}\\nMSE={train_mse}\\nr2={train_r2}\\nR2={train_r2}\\nPearson={train_p}\")\n",
    "\n",
    "print(\"*\"*10, \"TEST (VAL SET)\", \"*\"*10)\n",
    "val_loss, val_mse, val_r2, val_R2, val_p = model.evaluate([val_features, val_das], val_y, verbose=1)\n",
    "print(f\"Loss={val_loss}\\nMSE={val_mse}\\nr2={val_r2}\\nR2={val_r2}\\nPearson={val_p}\")\n",
    "\n",
    "print(\"*\"*10, \"TEST (TEST SET)\", \"*\"*10)\n",
    "test_loss, test_mse, test_r2, test_R2, test_p = model.evaluate([test_features, test_das], test_y, verbose=1)\n",
    "print(f\"Loss={test_loss}\\nMSE={test_mse}\\rR2={test_r2}\\nR2={test_r2}\\nPearson={test_p}\")"
   ]
  },
  {
   "cell_type": "markdown",
   "metadata": {},
   "source": [
    "### Predições"
   ]
  },
  {
   "cell_type": "code",
   "execution_count": null,
   "metadata": {},
   "outputs": [],
   "source": [
    "test_predictions = model.predict([test_features, test_das])"
   ]
  },
  {
   "cell_type": "code",
   "execution_count": null,
   "metadata": {},
   "outputs": [],
   "source": [
    "val_predictions = model.predict([val_features, val_das])"
   ]
  },
  {
   "cell_type": "code",
   "execution_count": null,
   "metadata": {},
   "outputs": [],
   "source": [
    "train_predictions = model.predict([train_features, train_das])"
   ]
  },
  {
   "cell_type": "code",
   "execution_count": null,
   "metadata": {},
   "outputs": [],
   "source": [
    "train_r2 = r2_score(train_y, train_predictions)\n",
    "val_r2 = r2_score(val_y, val_predictions)\n",
    "test_r2 = r2_score(test_y, test_predictions)"
   ]
  },
  {
   "cell_type": "code",
   "execution_count": null,
   "metadata": {},
   "outputs": [],
   "source": [
    "print('R2 Train set:', r2_score(train_y, train_predictions))\n",
    "print('R2 Validation set:', r2_score(val_y, val_predictions))\n",
    "print('R2 Test set:', r2_score(test_y, test_predictions))"
   ]
  },
  {
   "cell_type": "code",
   "execution_count": null,
   "metadata": {},
   "outputs": [],
   "source": [
    "fig, (ax1, ax2, ax3) = plt.subplots(1, 3, figsize=(15,5))\n",
    "os.makedirs(f'reports{os.sep}TRIAL{TRIAL}{os.sep}PREDICT', exist_ok=True)\n",
    "\n",
    "ax1.scatter(train_y, train_predictions, marker='.', color='r')\n",
    "ax1.set_xlabel('True Values')\n",
    "ax1.set_ylabel('Predictions')\n",
    "ax1.set_title('Train Predictions')\n",
    "ax1.axis('equal')\n",
    "ax1.axis('square')\n",
    "_ = ax1.plot([-100, 100], [-100, 100])\n",
    "\n",
    "ax2.scatter(val_y, val_predictions, marker='.')\n",
    "ax2.set_xlabel('True Values')\n",
    "ax2.set_ylabel('Predictions')\n",
    "ax2.set_title('Val Predictions')\n",
    "ax2.axis('equal')\n",
    "ax2.axis('square')\n",
    "_ = ax2.plot([-100, 100], [-100, 100])\n",
    "\n",
    "ax3.scatter(test_y, test_predictions, marker='.', color='g')\n",
    "ax3.set_xlabel('True Values')\n",
    "ax3.set_ylabel('Predictions')\n",
    "ax2.set_title('Test Predictions')\n",
    "ax3.axis('equal')\n",
    "ax3.axis('square')\n",
    "_ = ax3.plot([-100, 100], [-100, 100])\n",
    "plt.savefig(f'reports{os.sep}TRIAL{TRIAL}{os.sep}PREDICT{os.sep}{MODEL_NAME}_{NOW}.png')\n",
    "\n",
    "plt.show()\n",
    "plt.close()"
   ]
  },
  {
   "cell_type": "code",
   "execution_count": null,
   "metadata": {},
   "outputs": [],
   "source": [
    "_, ax = plt.subplots()\n",
    "ax.scatter(x = range(0, test_y.size), y=test_y, c = 'blue', label = 'Actual', alpha = 0.3)\n",
    "ax.scatter(x = range(0, test_predictions.size), y=test_predictions, c = 'red', label = 'Predicted', alpha = 0.3)\n",
    "\n",
    "plt.title('Actual and predicted values')\n",
    "plt.xlabel('Observations')\n",
    "plt.ylabel('mpg')\n",
    "plt.legend()\n",
    "plt.show()\n",
    "plt.close()"
   ]
  },
  {
   "cell_type": "code",
   "execution_count": null,
   "metadata": {},
   "outputs": [],
   "source": [
    "diff = test_y.reshape(test_predictions.shape) - test_predictions\n",
    "plt.hist(diff, bins=40)\n",
    "plt.title('Histogram of prediction errors')\n",
    "plt.xlabel('MPG prediction error')\n",
    "plt.ylabel('Frequency')\n",
    "plt.close()"
   ]
  },
  {
   "cell_type": "markdown",
   "metadata": {},
   "source": [
    "**Plot metrics and losses**"
   ]
  },
  {
   "cell_type": "code",
   "execution_count": null,
   "metadata": {},
   "outputs": [],
   "source": [
    "def smooth_curve(points, factor=0.75):\n",
    "    smoothed_points = []\n",
    "    for point in points:\n",
    "        if smoothed_points:\n",
    "            previous = smoothed_points[-1]\n",
    "            smoothed_points.append(previous * factor + point * (1 - factor))\n",
    "        else:\n",
    "            smoothed_points.append(point)\n",
    "    return smoothed_points"
   ]
  },
  {
   "cell_type": "code",
   "execution_count": null,
   "metadata": {},
   "outputs": [],
   "source": [
    "os.makedirs(f'reports{os.sep}TRIAL{TRIAL}{os.sep}LOSS', exist_ok=True)\n",
    "plt.plot(smooth_curve(history.history['loss']))\n",
    "plt.plot(smooth_curve(history.history['val_loss']))\n",
    "plt.title('Model loss')\n",
    "plt.ylabel('Loss')\n",
    "plt.xlabel('Epoch')\n",
    "plt.legend(['Train', 'Validation'], loc='upper left')\n",
    "plt.savefig(f'reports{os.sep}TRIAL{TRIAL}{os.sep}LOSS{os.sep}{MODEL_NAME}_{NOW}.png')\n",
    "plt.show()\n",
    "plt.close()"
   ]
  },
  {
   "cell_type": "code",
   "execution_count": null,
   "metadata": {},
   "outputs": [],
   "source": [
    "os.makedirs(f'reports{os.sep}TRIAL{TRIAL}{os.sep}R2', exist_ok=True)\n",
    "plt.plot(smooth_curve(history.history['r2_keras']))\n",
    "plt.plot(smooth_curve(history.history['val_r2_keras']))\n",
    "plt.title('R2')\n",
    "plt.ylabel('R2')\n",
    "plt.xlabel('Epoch')\n",
    "plt.legend(['Train', 'Validation'], loc='upper left')\n",
    "plt.savefig(f'reports{os.sep}TRIAL{TRIAL}{os.sep}R2{os.sep}{MODEL_NAME}_{NOW}.png')\n",
    "plt.show()\n",
    "plt.close()"
   ]
  },
  {
   "cell_type": "code",
   "execution_count": null,
   "metadata": {},
   "outputs": [],
   "source": [
    "os.makedirs(f'reports{os.sep}TRIAL{TRIAL}{os.sep}Pearson', exist_ok=True)\n",
    "plt.plot(smooth_curve(history.history['pearson_r']))\n",
    "plt.plot(smooth_curve(history.history['val_pearson_r']))\n",
    "plt.title('Pearson')\n",
    "plt.ylabel('Pearson')\n",
    "plt.xlabel('Epoch')\n",
    "plt.legend(['Train', 'Validation'], loc='upper left')\n",
    "plt.savefig(f'reports{os.sep}TRIAL{TRIAL}{os.sep}Pearson{os.sep}{MODEL_NAME}_{NOW}.png')\n",
    "plt.show()\n",
    "plt.close()"
   ]
  },
  {
   "cell_type": "markdown",
   "metadata": {},
   "source": [
    "__Write csv__"
   ]
  },
  {
   "cell_type": "code",
   "execution_count": null,
   "metadata": {},
   "outputs": [],
   "source": [
    "hist_df = pd.DataFrame(history.history) \n",
    "\n",
    "os.makedirs(f'reports{os.sep}TRIAL{TRIAL}{os.sep}history', exist_ok=True)\n",
    "hist_csv_file = f'reports{os.sep}TRIAL{TRIAL}{os.sep}history/{TOPOLOGY}__{MODEL_NAME}_{NOW}.csv'\n",
    "with open(hist_csv_file, mode='w') as f:\n",
    "    hist_df.to_csv(f)"
   ]
  },
  {
   "cell_type": "code",
   "execution_count": null,
   "metadata": {},
   "outputs": [],
   "source": [
    "os.makedirs(f'reports{os.sep}TRIAL{TRIAL}{os.sep}predictions', exist_ok=True)\n",
    "\n",
    "pred_csv_file = f'reports{os.sep}TRIAL{TRIAL}{os.sep}predictions/{MODEL_NAME}_{NOW}.csv'\n",
    "\n",
    "with open(pred_csv_file, mode='w') as f:\n",
    "    f.write(\"TRUE,PREDICTED\\n\")\n",
    "    for y_true, y_pred in zip(test_y, test_predictions):\n",
    "        f.write(f\"{y_true},{y_pred[0]}\\n\")"
   ]
  },
  {
   "cell_type": "code",
   "execution_count": null,
   "metadata": {},
   "outputs": [],
   "source": [
    "if not os.path.isfile(f'reports{os.sep}TRIAL{TRIAL}{os.sep}report.csv'):\n",
    "    with open(f'reports{os.sep}TRIAL{TRIAL}{os.sep}report.csv', 'a') as report:\n",
    "        report.write('DATA,NOME,TOPOLOGIA,DATASET,VAL_IS_TEST,'\n",
    "                     'TARGET,AUGMENTATION,EPOCAS,LR,LOSSFUNC,'\n",
    "                     'TRAIN_LOSS,TRAIN_MSE,TRAIN_R2,TRAIN_PEARSON,'\n",
    "                     'VAL_LOSS,VAL_MSE,VAL_R2,VAL_PEARSON,'\n",
    "                     'TEST_LOSS,TEST_MSE,TEST_R2,TEST_PEARSON,\\n')\n",
    "with open(f'reports{os.sep}TRIAL{TRIAL}{os.sep}report.csv', 'a') as report:\n",
    "    report.write(f'{datetime.now()},{MODEL_NAME},{TOPOLOGY},{DATASET},'\n",
    "                 f'{USE_TEST_AS_VAL},{TARGET},{AUGMENT},{EPOCHS},{LR},{LOSSF},'\n",
    "                 f'{train_loss},{train_mse},{train_r2},{train_p},'\n",
    "                 f'{val_loss},{val_mse},{val_r2},{val_p},'\n",
    "                 f'{test_loss},{test_mse},{test_r2},{test_p}\\n')"
   ]
  },
  {
   "cell_type": "code",
   "execution_count": null,
   "metadata": {},
   "outputs": [],
   "source": []
  }
 ],
 "metadata": {
  "kernelspec": {
   "display_name": "Python 3",
   "language": "python",
   "name": "python3"
  },
  "language_info": {
   "codemirror_mode": {
    "name": "ipython",
    "version": 3
   },
   "file_extension": ".py",
   "mimetype": "text/x-python",
   "name": "python",
   "nbconvert_exporter": "python",
   "pygments_lexer": "ipython3",
   "version": "3.7.7"
  }
 },
 "nbformat": 4,
 "nbformat_minor": 4
}
