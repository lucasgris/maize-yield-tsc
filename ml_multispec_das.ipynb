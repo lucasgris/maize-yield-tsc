{
 "cells": [
  {
   "cell_type": "markdown",
   "metadata": {},
   "source": [
    "# Predição de Yield/TSC com SVM/KNN"
   ]
  },
  {
   "cell_type": "markdown",
   "metadata": {},
   "source": [
    "## Definições"
   ]
  },
  {
   "cell_type": "code",
   "execution_count": 1,
   "metadata": {},
   "outputs": [],
   "source": [
    "DATASET = 'b2s'  # b2s ou bfs\n",
    "TYPE = \"multiespectral\"\n",
    "SHOW_INFO = True\n",
    "\n",
    "DSHAPE = (43, 53)\n",
    "# DSHAPE = (53, 53)\n",
    "# DSHAPE = (80, 80)\n",
    "\n",
    "BALANCE_DATA = True\n",
    "USE_TEST_AS_VAL = False\n",
    "NORMALIZE_DATA = False\n",
    "TRIAL = 'ML_TESTING'\n",
    "COMMENTS = 'Teste com outros algoritmos de ML'\n",
    "DAS = None\n",
    "USE_FUNGICIDE = True\n",
    "\n",
    "N_PCA_COMPONENTS = 100\n",
    "\n",
    "SHAPE = (DSHAPE[0], DSHAPE[1], 4)\n",
    "TO_FLATTEN = True\n",
    "FLATTEN_SHAPE = DSHAPE[0]*DSHAPE[1]\n",
    "\n",
    "TRANSFORMATION = 'NVDI'\n",
    "AUGMENT = None\n",
    "# None, simple, default ou advanced\n",
    "\"\"\"\n",
    "#### AUGMENT: Tipo de aumento de dados:\n",
    "- None: nenhuma técnica de aumento de dados;\n",
    "- simple: irá realizar flips na imagem sem alterar a orientação do corte;\n",
    "- default: irá realizar técnicas de rotação e flip; pode alterar a orientação e a localização do corte;\n",
    "- advanced: várias técnicas, como rotação, alongamento e zoom; altera a nitidez do corte e produz distorções.\n",
    "\"\"\"\n",
    "TARGET = 'Eval'"
   ]
  },
  {
   "cell_type": "code",
   "execution_count": 2,
   "metadata": {},
   "outputs": [],
   "source": [
    "import datetime\n",
    "NOW = datetime.datetime.now().strftime(\"%Y%m%d_%H%M%S\")"
   ]
  },
  {
   "cell_type": "code",
   "execution_count": 3,
   "metadata": {},
   "outputs": [],
   "source": [
    "AUG_INC = 1\n",
    "if AUGMENT is None:\n",
    "    AUG_INC = 1\n",
    "elif AUGMENT == 'simple':\n",
    "    AUG_INC = 2\n",
    "elif AUGMENT == 'default':\n",
    "    AUG_INC = 4\n",
    "elif AUGMENT == 'default' and SHAPE[0] == SHAPE[1]:\n",
    "    AUG_INC = 6\n",
    "elif AUGMENT == 'advanced':\n",
    "    AUG_INC = 16\n",
    "elif AUGMENT == 'advanced' and SHAPE[0] == SHAPE[1]:\n",
    "    AUG_INC = 18"
   ]
  },
  {
   "cell_type": "markdown",
   "metadata": {},
   "source": [
    "## Importação"
   ]
  },
  {
   "cell_type": "code",
   "execution_count": 4,
   "metadata": {},
   "outputs": [],
   "source": [
    "from datetime import datetime\n",
    "from os import listdir\n",
    "from os.path import isfile, join\n",
    "from time import time\n",
    "import logging\n",
    "\n",
    "import os\n",
    "import glob\n",
    "import random\n",
    "\n",
    "import numpy as np\n",
    "import pandas as pd\\\n",
    "\n",
    "import matplotlib.pyplot as plt\n",
    "import seaborn as sns"
   ]
  },
  {
   "cell_type": "code",
   "execution_count": 5,
   "metadata": {},
   "outputs": [],
   "source": [
    "from sklearn.model_selection import train_test_split\n",
    "from sklearn.model_selection import GridSearchCV\n",
    "from sklearn.datasets import fetch_lfw_people\n",
    "from sklearn.metrics import classification_report\n",
    "from sklearn.metrics import confusion_matrix\n",
    "from sklearn.decomposition import PCA\n",
    "from sklearn.svm import SVR\n",
    "from sklearn.metrics import r2_score\n",
    "from sklearn import preprocessing\n",
    "from sklearn import svm\n",
    "from sklearn import neighbors\n",
    "from sklearn.metrics import mean_squared_error \n",
    "from math import sqrt"
   ]
  },
  {
   "cell_type": "code",
   "execution_count": 6,
   "metadata": {},
   "outputs": [],
   "source": [
    "os.makedirs(f'svm{os.sep}reports{os.sep}TRIAL{TRIAL}', exist_ok=True)\n",
    "with open(f'svm{os.sep}reports{os.sep}TRIAL{TRIAL}{os.sep}notes.md', 'w') as f:\n",
    "    f.write(COMMENTS)"
   ]
  },
  {
   "cell_type": "code",
   "execution_count": 7,
   "metadata": {},
   "outputs": [],
   "source": [
    "import util\n",
    "from trainutils import *"
   ]
  },
  {
   "cell_type": "code",
   "execution_count": 8,
   "metadata": {},
   "outputs": [],
   "source": [
    "TRANSFORMATIONS = {\n",
    "    'NVDI': util.ndvi,\n",
    "    'RDVI': util.rdvi,\n",
    "    'OSAVI': util.osavi,\n",
    "    'MSR': util.msr,\n",
    "    'MCARI1': util.mcari1,\n",
    "    'MCARI2': util.mcari2,\n",
    "    'PSSRA': util.pssra,\n",
    "    'G': util.g_rgb_ratio,\n",
    "    \"None\": None\n",
    "}\n",
    "TRANSFORMATION = TRANSFORMATIONS[TRANSFORMATION]"
   ]
  },
  {
   "cell_type": "markdown",
   "metadata": {},
   "source": [
    "## Funções para carregar os dados"
   ]
  },
  {
   "cell_type": "markdown",
   "metadata": {},
   "source": [
    "### Metadados"
   ]
  },
  {
   "cell_type": "code",
   "execution_count": 9,
   "metadata": {},
   "outputs": [
    {
     "data": {
      "text/html": [
       "<div>\n",
       "<style scoped>\n",
       "    .dataframe tbody tr th:only-of-type {\n",
       "        vertical-align: middle;\n",
       "    }\n",
       "\n",
       "    .dataframe tbody tr th {\n",
       "        vertical-align: top;\n",
       "    }\n",
       "\n",
       "    .dataframe thead th {\n",
       "        text-align: right;\n",
       "    }\n",
       "</style>\n",
       "<table border=\"1\" class=\"dataframe\">\n",
       "  <thead>\n",
       "    <tr style=\"text-align: right;\">\n",
       "      <th></th>\n",
       "      <th>Instance</th>\n",
       "      <th>Crop</th>\n",
       "      <th>B1File</th>\n",
       "      <th>B2File</th>\n",
       "      <th>B3File</th>\n",
       "      <th>B4File</th>\n",
       "      <th>Name</th>\n",
       "      <th>REP</th>\n",
       "      <th>BLK</th>\n",
       "      <th>PLOT</th>\n",
       "      <th>ENTRY</th>\n",
       "      <th>Trial</th>\n",
       "      <th>Eval</th>\n",
       "      <th>Yield</th>\n",
       "    </tr>\n",
       "  </thead>\n",
       "  <tbody>\n",
       "    <tr>\n",
       "      <th>0</th>\n",
       "      <td>q170505tscrfl_fung_19</td>\n",
       "      <td>crop_tsc_2017_b2s</td>\n",
       "      <td>q170505tscrfl_fung_19_B1.tif</td>\n",
       "      <td>q170505tscrfl_fung_19_B2.tif</td>\n",
       "      <td>q170505tscrfl_fung_19_B3.tif</td>\n",
       "      <td>q170505tscrfl_fung_19_B4.tif</td>\n",
       "      <td>fung_19</td>\n",
       "      <td>1</td>\n",
       "      <td>4</td>\n",
       "      <td>19</td>\n",
       "      <td>17</td>\n",
       "      <td>Fungicide</td>\n",
       "      <td>1.0</td>\n",
       "      <td>6.055209</td>\n",
       "    </tr>\n",
       "    <tr>\n",
       "      <th>1</th>\n",
       "      <td>q170505tscrfl_fung_31</td>\n",
       "      <td>crop_tsc_2017_b2s</td>\n",
       "      <td>q170505tscrfl_fung_31_B1.tif</td>\n",
       "      <td>q170505tscrfl_fung_31_B2.tif</td>\n",
       "      <td>q170505tscrfl_fung_31_B3.tif</td>\n",
       "      <td>q170505tscrfl_fung_31_B4.tif</td>\n",
       "      <td>fung_31</td>\n",
       "      <td>2</td>\n",
       "      <td>7</td>\n",
       "      <td>31</td>\n",
       "      <td>19</td>\n",
       "      <td>Fungicide</td>\n",
       "      <td>1.0</td>\n",
       "      <td>4.081627</td>\n",
       "    </tr>\n",
       "    <tr>\n",
       "      <th>2</th>\n",
       "      <td>q170419tscrfl_fung_59</td>\n",
       "      <td>crop_tsc_2017_b2s</td>\n",
       "      <td>q170419tscrfl_fung_59_B1.tif</td>\n",
       "      <td>q170419tscrfl_fung_59_B2.tif</td>\n",
       "      <td>q170419tscrfl_fung_59_B3.tif</td>\n",
       "      <td>q170419tscrfl_fung_59_B4.tif</td>\n",
       "      <td>fung_59</td>\n",
       "      <td>3</td>\n",
       "      <td>12</td>\n",
       "      <td>59</td>\n",
       "      <td>10</td>\n",
       "      <td>Fungicide</td>\n",
       "      <td>1.0</td>\n",
       "      <td>4.612393</td>\n",
       "    </tr>\n",
       "  </tbody>\n",
       "</table>\n",
       "</div>"
      ],
      "text/plain": [
       "                Instance               Crop                        B1File  \\\n",
       "0  q170505tscrfl_fung_19  crop_tsc_2017_b2s  q170505tscrfl_fung_19_B1.tif   \n",
       "1  q170505tscrfl_fung_31  crop_tsc_2017_b2s  q170505tscrfl_fung_31_B1.tif   \n",
       "2  q170419tscrfl_fung_59  crop_tsc_2017_b2s  q170419tscrfl_fung_59_B1.tif   \n",
       "\n",
       "                         B2File                        B3File  \\\n",
       "0  q170505tscrfl_fung_19_B2.tif  q170505tscrfl_fung_19_B3.tif   \n",
       "1  q170505tscrfl_fung_31_B2.tif  q170505tscrfl_fung_31_B3.tif   \n",
       "2  q170419tscrfl_fung_59_B2.tif  q170419tscrfl_fung_59_B3.tif   \n",
       "\n",
       "                         B4File     Name  REP  BLK  PLOT  ENTRY      Trial  \\\n",
       "0  q170505tscrfl_fung_19_B4.tif  fung_19    1    4    19     17  Fungicide   \n",
       "1  q170505tscrfl_fung_31_B4.tif  fung_31    2    7    31     19  Fungicide   \n",
       "2  q170419tscrfl_fung_59_B4.tif  fung_59    3   12    59     10  Fungicide   \n",
       "\n",
       "   Eval     Yield  \n",
       "0   1.0  6.055209  \n",
       "1   1.0  4.081627  \n",
       "2   1.0  4.612393  "
      ]
     },
     "execution_count": 9,
     "metadata": {},
     "output_type": "execute_result"
    }
   ],
   "source": [
    "dfs = dict()\n",
    "for f in os.listdir(\"data\"):\n",
    "    if os.path.splitext(f)[-1] == '.csv':\n",
    "        dfs[f] = pd.read_csv(os.path.join(\"data\", f))\n",
    "        \n",
    "frames = []\n",
    "for k in dfs:\n",
    "    if DATASET in k and TYPE in k:\n",
    "        frames.append(dfs[k])\n",
    "metadata = pd.concat(frames)\n",
    "metadata.head(3)"
   ]
  },
  {
   "cell_type": "markdown",
   "metadata": {},
   "source": [
    "#### Adicionando data"
   ]
  },
  {
   "cell_type": "code",
   "execution_count": 10,
   "metadata": {},
   "outputs": [],
   "source": [
    "from datetime import datetime\n",
    "\n",
    "def extract_date(token):\n",
    "    date = ''\n",
    "    for s in token:\n",
    "        if s.isdigit():\n",
    "            date += s\n",
    "    return datetime.strptime(date, '%y%m%d')"
   ]
  },
  {
   "cell_type": "code",
   "execution_count": 11,
   "metadata": {},
   "outputs": [
    {
     "data": {
      "text/html": [
       "<div>\n",
       "<style scoped>\n",
       "    .dataframe tbody tr th:only-of-type {\n",
       "        vertical-align: middle;\n",
       "    }\n",
       "\n",
       "    .dataframe tbody tr th {\n",
       "        vertical-align: top;\n",
       "    }\n",
       "\n",
       "    .dataframe thead th {\n",
       "        text-align: right;\n",
       "    }\n",
       "</style>\n",
       "<table border=\"1\" class=\"dataframe\">\n",
       "  <thead>\n",
       "    <tr style=\"text-align: right;\">\n",
       "      <th></th>\n",
       "      <th>Instance</th>\n",
       "      <th>Crop</th>\n",
       "      <th>B1File</th>\n",
       "      <th>B2File</th>\n",
       "      <th>B3File</th>\n",
       "      <th>B4File</th>\n",
       "      <th>Name</th>\n",
       "      <th>REP</th>\n",
       "      <th>BLK</th>\n",
       "      <th>PLOT</th>\n",
       "      <th>ENTRY</th>\n",
       "      <th>Trial</th>\n",
       "      <th>Eval</th>\n",
       "      <th>Yield</th>\n",
       "      <th>Date</th>\n",
       "      <th>Year</th>\n",
       "    </tr>\n",
       "  </thead>\n",
       "  <tbody>\n",
       "    <tr>\n",
       "      <th>0</th>\n",
       "      <td>q170505tscrfl_fung_19</td>\n",
       "      <td>crop_tsc_2017_b2s</td>\n",
       "      <td>q170505tscrfl_fung_19_B1.tif</td>\n",
       "      <td>q170505tscrfl_fung_19_B2.tif</td>\n",
       "      <td>q170505tscrfl_fung_19_B3.tif</td>\n",
       "      <td>q170505tscrfl_fung_19_B4.tif</td>\n",
       "      <td>fung_19</td>\n",
       "      <td>1</td>\n",
       "      <td>4</td>\n",
       "      <td>19</td>\n",
       "      <td>17</td>\n",
       "      <td>Fungicide</td>\n",
       "      <td>1.0</td>\n",
       "      <td>6.055209</td>\n",
       "      <td>2017-05-05</td>\n",
       "      <td>2017</td>\n",
       "    </tr>\n",
       "    <tr>\n",
       "      <th>1</th>\n",
       "      <td>q170505tscrfl_fung_31</td>\n",
       "      <td>crop_tsc_2017_b2s</td>\n",
       "      <td>q170505tscrfl_fung_31_B1.tif</td>\n",
       "      <td>q170505tscrfl_fung_31_B2.tif</td>\n",
       "      <td>q170505tscrfl_fung_31_B3.tif</td>\n",
       "      <td>q170505tscrfl_fung_31_B4.tif</td>\n",
       "      <td>fung_31</td>\n",
       "      <td>2</td>\n",
       "      <td>7</td>\n",
       "      <td>31</td>\n",
       "      <td>19</td>\n",
       "      <td>Fungicide</td>\n",
       "      <td>1.0</td>\n",
       "      <td>4.081627</td>\n",
       "      <td>2017-05-05</td>\n",
       "      <td>2017</td>\n",
       "    </tr>\n",
       "    <tr>\n",
       "      <th>2</th>\n",
       "      <td>q170419tscrfl_fung_59</td>\n",
       "      <td>crop_tsc_2017_b2s</td>\n",
       "      <td>q170419tscrfl_fung_59_B1.tif</td>\n",
       "      <td>q170419tscrfl_fung_59_B2.tif</td>\n",
       "      <td>q170419tscrfl_fung_59_B3.tif</td>\n",
       "      <td>q170419tscrfl_fung_59_B4.tif</td>\n",
       "      <td>fung_59</td>\n",
       "      <td>3</td>\n",
       "      <td>12</td>\n",
       "      <td>59</td>\n",
       "      <td>10</td>\n",
       "      <td>Fungicide</td>\n",
       "      <td>1.0</td>\n",
       "      <td>4.612393</td>\n",
       "      <td>2017-04-19</td>\n",
       "      <td>2017</td>\n",
       "    </tr>\n",
       "  </tbody>\n",
       "</table>\n",
       "</div>"
      ],
      "text/plain": [
       "                Instance               Crop                        B1File  \\\n",
       "0  q170505tscrfl_fung_19  crop_tsc_2017_b2s  q170505tscrfl_fung_19_B1.tif   \n",
       "1  q170505tscrfl_fung_31  crop_tsc_2017_b2s  q170505tscrfl_fung_31_B1.tif   \n",
       "2  q170419tscrfl_fung_59  crop_tsc_2017_b2s  q170419tscrfl_fung_59_B1.tif   \n",
       "\n",
       "                         B2File                        B3File  \\\n",
       "0  q170505tscrfl_fung_19_B2.tif  q170505tscrfl_fung_19_B3.tif   \n",
       "1  q170505tscrfl_fung_31_B2.tif  q170505tscrfl_fung_31_B3.tif   \n",
       "2  q170419tscrfl_fung_59_B2.tif  q170419tscrfl_fung_59_B3.tif   \n",
       "\n",
       "                         B4File     Name  REP  BLK  PLOT  ENTRY      Trial  \\\n",
       "0  q170505tscrfl_fung_19_B4.tif  fung_19    1    4    19     17  Fungicide   \n",
       "1  q170505tscrfl_fung_31_B4.tif  fung_31    2    7    31     19  Fungicide   \n",
       "2  q170419tscrfl_fung_59_B4.tif  fung_59    3   12    59     10  Fungicide   \n",
       "\n",
       "   Eval     Yield       Date  Year  \n",
       "0   1.0  6.055209 2017-05-05  2017  \n",
       "1   1.0  4.081627 2017-05-05  2017  \n",
       "2   1.0  4.612393 2017-04-19  2017  "
      ]
     },
     "execution_count": 11,
     "metadata": {},
     "output_type": "execute_result"
    }
   ],
   "source": [
    "metadata['Date'] = metadata.apply(lambda x: extract_date(x['Instance'].split('_')[0]), axis=1)\n",
    "metadata['Year'] = metadata.apply(lambda x: x.Date.year, axis=1)\n",
    "metadata.head(3)"
   ]
  },
  {
   "cell_type": "markdown",
   "metadata": {},
   "source": [
    "#### Ordenando por nome,crop,data"
   ]
  },
  {
   "cell_type": "code",
   "execution_count": 12,
   "metadata": {},
   "outputs": [
    {
     "data": {
      "text/html": [
       "<div>\n",
       "<style scoped>\n",
       "    .dataframe tbody tr th:only-of-type {\n",
       "        vertical-align: middle;\n",
       "    }\n",
       "\n",
       "    .dataframe tbody tr th {\n",
       "        vertical-align: top;\n",
       "    }\n",
       "\n",
       "    .dataframe thead th {\n",
       "        text-align: right;\n",
       "    }\n",
       "</style>\n",
       "<table border=\"1\" class=\"dataframe\">\n",
       "  <thead>\n",
       "    <tr style=\"text-align: right;\">\n",
       "      <th></th>\n",
       "      <th>Instance</th>\n",
       "      <th>Crop</th>\n",
       "      <th>B1File</th>\n",
       "      <th>B2File</th>\n",
       "      <th>B3File</th>\n",
       "      <th>B4File</th>\n",
       "      <th>Name</th>\n",
       "      <th>REP</th>\n",
       "      <th>BLK</th>\n",
       "      <th>PLOT</th>\n",
       "      <th>ENTRY</th>\n",
       "      <th>Trial</th>\n",
       "      <th>Eval</th>\n",
       "      <th>Yield</th>\n",
       "      <th>Date</th>\n",
       "      <th>Year</th>\n",
       "    </tr>\n",
       "  </thead>\n",
       "  <tbody>\n",
       "    <tr>\n",
       "      <th>82</th>\n",
       "      <td>c160407tscrfl_fung_1</td>\n",
       "      <td>crop_tsc_2016_b2s</td>\n",
       "      <td>c160407tscrfl_fung_1_B1.tif</td>\n",
       "      <td>c160407tscrfl_fung_1_B2.tif</td>\n",
       "      <td>c160407tscrfl_fung_1_B3.tif</td>\n",
       "      <td>c160407tscrfl_fung_1_B4.tif</td>\n",
       "      <td>fung_1</td>\n",
       "      <td>1</td>\n",
       "      <td>1</td>\n",
       "      <td>1</td>\n",
       "      <td>22</td>\n",
       "      <td>Fungicide</td>\n",
       "      <td>1.0</td>\n",
       "      <td>5.296382</td>\n",
       "      <td>2016-04-07</td>\n",
       "      <td>2016</td>\n",
       "    </tr>\n",
       "    <tr>\n",
       "      <th>335</th>\n",
       "      <td>c160418tscrfl_fung_1</td>\n",
       "      <td>crop_tsc_2016_b2s</td>\n",
       "      <td>c160418tscrfl_fung_1_B1.tif</td>\n",
       "      <td>c160418tscrfl_fung_1_B2.tif</td>\n",
       "      <td>c160418tscrfl_fung_1_B3.tif</td>\n",
       "      <td>c160418tscrfl_fung_1_B4.tif</td>\n",
       "      <td>fung_1</td>\n",
       "      <td>1</td>\n",
       "      <td>1</td>\n",
       "      <td>1</td>\n",
       "      <td>22</td>\n",
       "      <td>Fungicide</td>\n",
       "      <td>1.0</td>\n",
       "      <td>5.296382</td>\n",
       "      <td>2016-04-18</td>\n",
       "      <td>2016</td>\n",
       "    </tr>\n",
       "    <tr>\n",
       "      <th>565</th>\n",
       "      <td>c160428tscrfl_fung_1</td>\n",
       "      <td>crop_tsc_2016_b2s</td>\n",
       "      <td>c160428tscrfl_fung_1_B1.tif</td>\n",
       "      <td>c160428tscrfl_fung_1_B2.tif</td>\n",
       "      <td>c160428tscrfl_fung_1_B3.tif</td>\n",
       "      <td>c160428tscrfl_fung_1_B4.tif</td>\n",
       "      <td>fung_1</td>\n",
       "      <td>1</td>\n",
       "      <td>1</td>\n",
       "      <td>1</td>\n",
       "      <td>22</td>\n",
       "      <td>Fungicide</td>\n",
       "      <td>1.0</td>\n",
       "      <td>5.296382</td>\n",
       "      <td>2016-04-28</td>\n",
       "      <td>2016</td>\n",
       "    </tr>\n",
       "  </tbody>\n",
       "</table>\n",
       "</div>"
      ],
      "text/plain": [
       "                 Instance               Crop                       B1File  \\\n",
       "82   c160407tscrfl_fung_1  crop_tsc_2016_b2s  c160407tscrfl_fung_1_B1.tif   \n",
       "335  c160418tscrfl_fung_1  crop_tsc_2016_b2s  c160418tscrfl_fung_1_B1.tif   \n",
       "565  c160428tscrfl_fung_1  crop_tsc_2016_b2s  c160428tscrfl_fung_1_B1.tif   \n",
       "\n",
       "                          B2File                       B3File  \\\n",
       "82   c160407tscrfl_fung_1_B2.tif  c160407tscrfl_fung_1_B3.tif   \n",
       "335  c160418tscrfl_fung_1_B2.tif  c160418tscrfl_fung_1_B3.tif   \n",
       "565  c160428tscrfl_fung_1_B2.tif  c160428tscrfl_fung_1_B3.tif   \n",
       "\n",
       "                          B4File    Name  REP  BLK  PLOT  ENTRY      Trial  \\\n",
       "82   c160407tscrfl_fung_1_B4.tif  fung_1    1    1     1     22  Fungicide   \n",
       "335  c160418tscrfl_fung_1_B4.tif  fung_1    1    1     1     22  Fungicide   \n",
       "565  c160428tscrfl_fung_1_B4.tif  fung_1    1    1     1     22  Fungicide   \n",
       "\n",
       "     Eval     Yield       Date  Year  \n",
       "82    1.0  5.296382 2016-04-07  2016  \n",
       "335   1.0  5.296382 2016-04-18  2016  \n",
       "565   1.0  5.296382 2016-04-28  2016  "
      ]
     },
     "execution_count": 12,
     "metadata": {},
     "output_type": "execute_result"
    }
   ],
   "source": [
    "metadata = metadata.sort_values(['Name', 'Crop', 'Date'])\n",
    "metadata.head(3)"
   ]
  },
  {
   "cell_type": "markdown",
   "metadata": {},
   "source": [
    "#### Definindo a instância"
   ]
  },
  {
   "cell_type": "markdown",
   "metadata": {},
   "source": [
    "Neste experimento vamos considerar cada plot individual como uma instância. Um plot é o conjunto de 4 diferentes bandas espectrais de uma data específica."
   ]
  },
  {
   "cell_type": "code",
   "execution_count": 13,
   "metadata": {},
   "outputs": [],
   "source": [
    "metadata['Name'] = metadata.apply(lambda x: f'{(x.Name.split(\"_\")[0])}_{int(x.Name.split(\"_\")[1]):03}', axis=1)"
   ]
  },
  {
   "cell_type": "code",
   "execution_count": 14,
   "metadata": {},
   "outputs": [],
   "source": [
    "metadata['Instance'] = metadata.apply(lambda x: f'{x.Name}_{x.Crop}_{x.Date.year}{x.Date.month}{x.Date.day}', axis=1)"
   ]
  },
  {
   "cell_type": "code",
   "execution_count": 15,
   "metadata": {},
   "outputs": [
    {
     "data": {
      "text/html": [
       "<div>\n",
       "<style scoped>\n",
       "    .dataframe tbody tr th:only-of-type {\n",
       "        vertical-align: middle;\n",
       "    }\n",
       "\n",
       "    .dataframe tbody tr th {\n",
       "        vertical-align: top;\n",
       "    }\n",
       "\n",
       "    .dataframe thead th {\n",
       "        text-align: right;\n",
       "    }\n",
       "</style>\n",
       "<table border=\"1\" class=\"dataframe\">\n",
       "  <thead>\n",
       "    <tr style=\"text-align: right;\">\n",
       "      <th></th>\n",
       "      <th>Instance</th>\n",
       "      <th>Crop</th>\n",
       "      <th>B1File</th>\n",
       "      <th>B2File</th>\n",
       "      <th>B3File</th>\n",
       "      <th>B4File</th>\n",
       "      <th>Name</th>\n",
       "      <th>REP</th>\n",
       "      <th>BLK</th>\n",
       "      <th>PLOT</th>\n",
       "      <th>ENTRY</th>\n",
       "      <th>Trial</th>\n",
       "      <th>Eval</th>\n",
       "      <th>Yield</th>\n",
       "      <th>Date</th>\n",
       "      <th>Year</th>\n",
       "    </tr>\n",
       "  </thead>\n",
       "  <tbody>\n",
       "    <tr>\n",
       "      <th>82</th>\n",
       "      <td>fung_001_crop_tsc_2016_b2s_201647</td>\n",
       "      <td>crop_tsc_2016_b2s</td>\n",
       "      <td>c160407tscrfl_fung_1_B1.tif</td>\n",
       "      <td>c160407tscrfl_fung_1_B2.tif</td>\n",
       "      <td>c160407tscrfl_fung_1_B3.tif</td>\n",
       "      <td>c160407tscrfl_fung_1_B4.tif</td>\n",
       "      <td>fung_001</td>\n",
       "      <td>1</td>\n",
       "      <td>1</td>\n",
       "      <td>1</td>\n",
       "      <td>22</td>\n",
       "      <td>Fungicide</td>\n",
       "      <td>1.0</td>\n",
       "      <td>5.296382</td>\n",
       "      <td>2016-04-07</td>\n",
       "      <td>2016</td>\n",
       "    </tr>\n",
       "    <tr>\n",
       "      <th>335</th>\n",
       "      <td>fung_001_crop_tsc_2016_b2s_2016418</td>\n",
       "      <td>crop_tsc_2016_b2s</td>\n",
       "      <td>c160418tscrfl_fung_1_B1.tif</td>\n",
       "      <td>c160418tscrfl_fung_1_B2.tif</td>\n",
       "      <td>c160418tscrfl_fung_1_B3.tif</td>\n",
       "      <td>c160418tscrfl_fung_1_B4.tif</td>\n",
       "      <td>fung_001</td>\n",
       "      <td>1</td>\n",
       "      <td>1</td>\n",
       "      <td>1</td>\n",
       "      <td>22</td>\n",
       "      <td>Fungicide</td>\n",
       "      <td>1.0</td>\n",
       "      <td>5.296382</td>\n",
       "      <td>2016-04-18</td>\n",
       "      <td>2016</td>\n",
       "    </tr>\n",
       "    <tr>\n",
       "      <th>565</th>\n",
       "      <td>fung_001_crop_tsc_2016_b2s_2016428</td>\n",
       "      <td>crop_tsc_2016_b2s</td>\n",
       "      <td>c160428tscrfl_fung_1_B1.tif</td>\n",
       "      <td>c160428tscrfl_fung_1_B2.tif</td>\n",
       "      <td>c160428tscrfl_fung_1_B3.tif</td>\n",
       "      <td>c160428tscrfl_fung_1_B4.tif</td>\n",
       "      <td>fung_001</td>\n",
       "      <td>1</td>\n",
       "      <td>1</td>\n",
       "      <td>1</td>\n",
       "      <td>22</td>\n",
       "      <td>Fungicide</td>\n",
       "      <td>1.0</td>\n",
       "      <td>5.296382</td>\n",
       "      <td>2016-04-28</td>\n",
       "      <td>2016</td>\n",
       "    </tr>\n",
       "    <tr>\n",
       "      <th>10</th>\n",
       "      <td>fung_001_crop_tsc_2016_b2s_2016511</td>\n",
       "      <td>crop_tsc_2016_b2s</td>\n",
       "      <td>c160511tscrfl_fung_1_B1.tif</td>\n",
       "      <td>c160511tscrfl_fung_1_B2.tif</td>\n",
       "      <td>c160511tscrfl_fung_1_B3.tif</td>\n",
       "      <td>c160511tscrfl_fung_1_B4.tif</td>\n",
       "      <td>fung_001</td>\n",
       "      <td>1</td>\n",
       "      <td>1</td>\n",
       "      <td>1</td>\n",
       "      <td>22</td>\n",
       "      <td>Fungicide</td>\n",
       "      <td>1.0</td>\n",
       "      <td>5.296382</td>\n",
       "      <td>2016-05-11</td>\n",
       "      <td>2016</td>\n",
       "    </tr>\n",
       "    <tr>\n",
       "      <th>385</th>\n",
       "      <td>fung_001_crop_tsc_2017_b2s_2017419</td>\n",
       "      <td>crop_tsc_2017_b2s</td>\n",
       "      <td>q170419tscrfl_fung_1_B1.tif</td>\n",
       "      <td>q170419tscrfl_fung_1_B2.tif</td>\n",
       "      <td>q170419tscrfl_fung_1_B3.tif</td>\n",
       "      <td>q170419tscrfl_fung_1_B4.tif</td>\n",
       "      <td>fung_001</td>\n",
       "      <td>1</td>\n",
       "      <td>1</td>\n",
       "      <td>1</td>\n",
       "      <td>23</td>\n",
       "      <td>Fungicide</td>\n",
       "      <td>1.0</td>\n",
       "      <td>5.643749</td>\n",
       "      <td>2017-04-19</td>\n",
       "      <td>2017</td>\n",
       "    </tr>\n",
       "  </tbody>\n",
       "</table>\n",
       "</div>"
      ],
      "text/plain": [
       "                               Instance               Crop  \\\n",
       "82    fung_001_crop_tsc_2016_b2s_201647  crop_tsc_2016_b2s   \n",
       "335  fung_001_crop_tsc_2016_b2s_2016418  crop_tsc_2016_b2s   \n",
       "565  fung_001_crop_tsc_2016_b2s_2016428  crop_tsc_2016_b2s   \n",
       "10   fung_001_crop_tsc_2016_b2s_2016511  crop_tsc_2016_b2s   \n",
       "385  fung_001_crop_tsc_2017_b2s_2017419  crop_tsc_2017_b2s   \n",
       "\n",
       "                          B1File                       B2File  \\\n",
       "82   c160407tscrfl_fung_1_B1.tif  c160407tscrfl_fung_1_B2.tif   \n",
       "335  c160418tscrfl_fung_1_B1.tif  c160418tscrfl_fung_1_B2.tif   \n",
       "565  c160428tscrfl_fung_1_B1.tif  c160428tscrfl_fung_1_B2.tif   \n",
       "10   c160511tscrfl_fung_1_B1.tif  c160511tscrfl_fung_1_B2.tif   \n",
       "385  q170419tscrfl_fung_1_B1.tif  q170419tscrfl_fung_1_B2.tif   \n",
       "\n",
       "                          B3File                       B4File      Name  REP  \\\n",
       "82   c160407tscrfl_fung_1_B3.tif  c160407tscrfl_fung_1_B4.tif  fung_001    1   \n",
       "335  c160418tscrfl_fung_1_B3.tif  c160418tscrfl_fung_1_B4.tif  fung_001    1   \n",
       "565  c160428tscrfl_fung_1_B3.tif  c160428tscrfl_fung_1_B4.tif  fung_001    1   \n",
       "10   c160511tscrfl_fung_1_B3.tif  c160511tscrfl_fung_1_B4.tif  fung_001    1   \n",
       "385  q170419tscrfl_fung_1_B3.tif  q170419tscrfl_fung_1_B4.tif  fung_001    1   \n",
       "\n",
       "     BLK  PLOT  ENTRY      Trial  Eval     Yield       Date  Year  \n",
       "82     1     1     22  Fungicide   1.0  5.296382 2016-04-07  2016  \n",
       "335    1     1     22  Fungicide   1.0  5.296382 2016-04-18  2016  \n",
       "565    1     1     22  Fungicide   1.0  5.296382 2016-04-28  2016  \n",
       "10     1     1     22  Fungicide   1.0  5.296382 2016-05-11  2016  \n",
       "385    1     1     23  Fungicide   1.0  5.643749 2017-04-19  2017  "
      ]
     },
     "execution_count": 15,
     "metadata": {},
     "output_type": "execute_result"
    }
   ],
   "source": [
    "metadata.head()"
   ]
  },
  {
   "cell_type": "code",
   "execution_count": 16,
   "metadata": {},
   "outputs": [
    {
     "data": {
      "text/html": [
       "<div>\n",
       "<style scoped>\n",
       "    .dataframe tbody tr th:only-of-type {\n",
       "        vertical-align: middle;\n",
       "    }\n",
       "\n",
       "    .dataframe tbody tr th {\n",
       "        vertical-align: top;\n",
       "    }\n",
       "\n",
       "    .dataframe thead th {\n",
       "        text-align: right;\n",
       "    }\n",
       "</style>\n",
       "<table border=\"1\" class=\"dataframe\">\n",
       "  <thead>\n",
       "    <tr style=\"text-align: right;\">\n",
       "      <th></th>\n",
       "      <th>Instance</th>\n",
       "      <th>Crop</th>\n",
       "      <th>B1File</th>\n",
       "      <th>B2File</th>\n",
       "      <th>B3File</th>\n",
       "      <th>B4File</th>\n",
       "      <th>Name</th>\n",
       "      <th>REP</th>\n",
       "      <th>BLK</th>\n",
       "      <th>PLOT</th>\n",
       "      <th>ENTRY</th>\n",
       "      <th>Trial</th>\n",
       "      <th>Eval</th>\n",
       "      <th>Yield</th>\n",
       "      <th>Date</th>\n",
       "      <th>Year</th>\n",
       "    </tr>\n",
       "  </thead>\n",
       "  <tbody>\n",
       "    <tr>\n",
       "      <th>82</th>\n",
       "      <td>fung_001_crop_tsc_2016_b2s_201647</td>\n",
       "      <td>crop_tsc_2016_b2s</td>\n",
       "      <td>data/RAW/crop_tsc_2016_b2s/c160407tscrfl_fung_...</td>\n",
       "      <td>data/RAW/crop_tsc_2016_b2s/c160407tscrfl_fung_...</td>\n",
       "      <td>data/RAW/crop_tsc_2016_b2s/c160407tscrfl_fung_...</td>\n",
       "      <td>data/RAW/crop_tsc_2016_b2s/c160407tscrfl_fung_...</td>\n",
       "      <td>fung_001</td>\n",
       "      <td>1</td>\n",
       "      <td>1</td>\n",
       "      <td>1</td>\n",
       "      <td>22</td>\n",
       "      <td>Fungicide</td>\n",
       "      <td>1.0</td>\n",
       "      <td>5.296382</td>\n",
       "      <td>2016-04-07</td>\n",
       "      <td>2016</td>\n",
       "    </tr>\n",
       "    <tr>\n",
       "      <th>335</th>\n",
       "      <td>fung_001_crop_tsc_2016_b2s_2016418</td>\n",
       "      <td>crop_tsc_2016_b2s</td>\n",
       "      <td>data/RAW/crop_tsc_2016_b2s/c160418tscrfl_fung_...</td>\n",
       "      <td>data/RAW/crop_tsc_2016_b2s/c160418tscrfl_fung_...</td>\n",
       "      <td>data/RAW/crop_tsc_2016_b2s/c160418tscrfl_fung_...</td>\n",
       "      <td>data/RAW/crop_tsc_2016_b2s/c160418tscrfl_fung_...</td>\n",
       "      <td>fung_001</td>\n",
       "      <td>1</td>\n",
       "      <td>1</td>\n",
       "      <td>1</td>\n",
       "      <td>22</td>\n",
       "      <td>Fungicide</td>\n",
       "      <td>1.0</td>\n",
       "      <td>5.296382</td>\n",
       "      <td>2016-04-18</td>\n",
       "      <td>2016</td>\n",
       "    </tr>\n",
       "    <tr>\n",
       "      <th>565</th>\n",
       "      <td>fung_001_crop_tsc_2016_b2s_2016428</td>\n",
       "      <td>crop_tsc_2016_b2s</td>\n",
       "      <td>data/RAW/crop_tsc_2016_b2s/c160428tscrfl_fung_...</td>\n",
       "      <td>data/RAW/crop_tsc_2016_b2s/c160428tscrfl_fung_...</td>\n",
       "      <td>data/RAW/crop_tsc_2016_b2s/c160428tscrfl_fung_...</td>\n",
       "      <td>data/RAW/crop_tsc_2016_b2s/c160428tscrfl_fung_...</td>\n",
       "      <td>fung_001</td>\n",
       "      <td>1</td>\n",
       "      <td>1</td>\n",
       "      <td>1</td>\n",
       "      <td>22</td>\n",
       "      <td>Fungicide</td>\n",
       "      <td>1.0</td>\n",
       "      <td>5.296382</td>\n",
       "      <td>2016-04-28</td>\n",
       "      <td>2016</td>\n",
       "    </tr>\n",
       "  </tbody>\n",
       "</table>\n",
       "</div>"
      ],
      "text/plain": [
       "                               Instance               Crop  \\\n",
       "82    fung_001_crop_tsc_2016_b2s_201647  crop_tsc_2016_b2s   \n",
       "335  fung_001_crop_tsc_2016_b2s_2016418  crop_tsc_2016_b2s   \n",
       "565  fung_001_crop_tsc_2016_b2s_2016428  crop_tsc_2016_b2s   \n",
       "\n",
       "                                                B1File  \\\n",
       "82   data/RAW/crop_tsc_2016_b2s/c160407tscrfl_fung_...   \n",
       "335  data/RAW/crop_tsc_2016_b2s/c160418tscrfl_fung_...   \n",
       "565  data/RAW/crop_tsc_2016_b2s/c160428tscrfl_fung_...   \n",
       "\n",
       "                                                B2File  \\\n",
       "82   data/RAW/crop_tsc_2016_b2s/c160407tscrfl_fung_...   \n",
       "335  data/RAW/crop_tsc_2016_b2s/c160418tscrfl_fung_...   \n",
       "565  data/RAW/crop_tsc_2016_b2s/c160428tscrfl_fung_...   \n",
       "\n",
       "                                                B3File  \\\n",
       "82   data/RAW/crop_tsc_2016_b2s/c160407tscrfl_fung_...   \n",
       "335  data/RAW/crop_tsc_2016_b2s/c160418tscrfl_fung_...   \n",
       "565  data/RAW/crop_tsc_2016_b2s/c160428tscrfl_fung_...   \n",
       "\n",
       "                                                B4File      Name  REP  BLK  \\\n",
       "82   data/RAW/crop_tsc_2016_b2s/c160407tscrfl_fung_...  fung_001    1    1   \n",
       "335  data/RAW/crop_tsc_2016_b2s/c160418tscrfl_fung_...  fung_001    1    1   \n",
       "565  data/RAW/crop_tsc_2016_b2s/c160428tscrfl_fung_...  fung_001    1    1   \n",
       "\n",
       "     PLOT  ENTRY      Trial  Eval     Yield       Date  Year  \n",
       "82      1     22  Fungicide   1.0  5.296382 2016-04-07  2016  \n",
       "335     1     22  Fungicide   1.0  5.296382 2016-04-18  2016  \n",
       "565     1     22  Fungicide   1.0  5.296382 2016-04-28  2016  "
      ]
     },
     "execution_count": 16,
     "metadata": {},
     "output_type": "execute_result"
    }
   ],
   "source": [
    "for key in ['B1File', 'B2File', 'B3File', 'B4File']:\n",
    "    metadata[key] = metadata.apply(lambda x: os.path.join('data', 'RAW', x['Crop'], x[key]), axis=1)\n",
    "metadata.head(3)"
   ]
  },
  {
   "cell_type": "markdown",
   "metadata": {},
   "source": [
    "#### Definindo *Days after sowing*"
   ]
  },
  {
   "cell_type": "code",
   "execution_count": 17,
   "metadata": {},
   "outputs": [],
   "source": [
    "sowing_2016 = datetime.strptime('2016-01-19', '%Y-%m-%d')\n",
    "sowing_2017 = datetime.strptime('2017-01-24', '%Y-%m-%d')\n",
    "\n",
    "def get_das(date):\n",
    "    if date.year == 2016:\n",
    "        return (date - sowing_2016).days\n",
    "    elif date.year == 2017:\n",
    "        return (date - sowing_2017).days"
   ]
  },
  {
   "cell_type": "code",
   "execution_count": 18,
   "metadata": {},
   "outputs": [
    {
     "data": {
      "text/html": [
       "<div>\n",
       "<style scoped>\n",
       "    .dataframe tbody tr th:only-of-type {\n",
       "        vertical-align: middle;\n",
       "    }\n",
       "\n",
       "    .dataframe tbody tr th {\n",
       "        vertical-align: top;\n",
       "    }\n",
       "\n",
       "    .dataframe thead th {\n",
       "        text-align: right;\n",
       "    }\n",
       "</style>\n",
       "<table border=\"1\" class=\"dataframe\">\n",
       "  <thead>\n",
       "    <tr style=\"text-align: right;\">\n",
       "      <th></th>\n",
       "      <th>Instance</th>\n",
       "      <th>Crop</th>\n",
       "      <th>B1File</th>\n",
       "      <th>B2File</th>\n",
       "      <th>B3File</th>\n",
       "      <th>B4File</th>\n",
       "      <th>Name</th>\n",
       "      <th>REP</th>\n",
       "      <th>BLK</th>\n",
       "      <th>PLOT</th>\n",
       "      <th>ENTRY</th>\n",
       "      <th>Trial</th>\n",
       "      <th>Eval</th>\n",
       "      <th>Yield</th>\n",
       "      <th>Date</th>\n",
       "      <th>Year</th>\n",
       "      <th>DAS</th>\n",
       "    </tr>\n",
       "  </thead>\n",
       "  <tbody>\n",
       "    <tr>\n",
       "      <th>82</th>\n",
       "      <td>fung_001_crop_tsc_2016_b2s_201647</td>\n",
       "      <td>crop_tsc_2016_b2s</td>\n",
       "      <td>data/RAW/crop_tsc_2016_b2s/c160407tscrfl_fung_...</td>\n",
       "      <td>data/RAW/crop_tsc_2016_b2s/c160407tscrfl_fung_...</td>\n",
       "      <td>data/RAW/crop_tsc_2016_b2s/c160407tscrfl_fung_...</td>\n",
       "      <td>data/RAW/crop_tsc_2016_b2s/c160407tscrfl_fung_...</td>\n",
       "      <td>fung_001</td>\n",
       "      <td>1</td>\n",
       "      <td>1</td>\n",
       "      <td>1</td>\n",
       "      <td>22</td>\n",
       "      <td>Fungicide</td>\n",
       "      <td>1.0</td>\n",
       "      <td>5.296382</td>\n",
       "      <td>2016-04-07</td>\n",
       "      <td>2016</td>\n",
       "      <td>79</td>\n",
       "    </tr>\n",
       "    <tr>\n",
       "      <th>335</th>\n",
       "      <td>fung_001_crop_tsc_2016_b2s_2016418</td>\n",
       "      <td>crop_tsc_2016_b2s</td>\n",
       "      <td>data/RAW/crop_tsc_2016_b2s/c160418tscrfl_fung_...</td>\n",
       "      <td>data/RAW/crop_tsc_2016_b2s/c160418tscrfl_fung_...</td>\n",
       "      <td>data/RAW/crop_tsc_2016_b2s/c160418tscrfl_fung_...</td>\n",
       "      <td>data/RAW/crop_tsc_2016_b2s/c160418tscrfl_fung_...</td>\n",
       "      <td>fung_001</td>\n",
       "      <td>1</td>\n",
       "      <td>1</td>\n",
       "      <td>1</td>\n",
       "      <td>22</td>\n",
       "      <td>Fungicide</td>\n",
       "      <td>1.0</td>\n",
       "      <td>5.296382</td>\n",
       "      <td>2016-04-18</td>\n",
       "      <td>2016</td>\n",
       "      <td>90</td>\n",
       "    </tr>\n",
       "    <tr>\n",
       "      <th>565</th>\n",
       "      <td>fung_001_crop_tsc_2016_b2s_2016428</td>\n",
       "      <td>crop_tsc_2016_b2s</td>\n",
       "      <td>data/RAW/crop_tsc_2016_b2s/c160428tscrfl_fung_...</td>\n",
       "      <td>data/RAW/crop_tsc_2016_b2s/c160428tscrfl_fung_...</td>\n",
       "      <td>data/RAW/crop_tsc_2016_b2s/c160428tscrfl_fung_...</td>\n",
       "      <td>data/RAW/crop_tsc_2016_b2s/c160428tscrfl_fung_...</td>\n",
       "      <td>fung_001</td>\n",
       "      <td>1</td>\n",
       "      <td>1</td>\n",
       "      <td>1</td>\n",
       "      <td>22</td>\n",
       "      <td>Fungicide</td>\n",
       "      <td>1.0</td>\n",
       "      <td>5.296382</td>\n",
       "      <td>2016-04-28</td>\n",
       "      <td>2016</td>\n",
       "      <td>100</td>\n",
       "    </tr>\n",
       "  </tbody>\n",
       "</table>\n",
       "</div>"
      ],
      "text/plain": [
       "                               Instance               Crop  \\\n",
       "82    fung_001_crop_tsc_2016_b2s_201647  crop_tsc_2016_b2s   \n",
       "335  fung_001_crop_tsc_2016_b2s_2016418  crop_tsc_2016_b2s   \n",
       "565  fung_001_crop_tsc_2016_b2s_2016428  crop_tsc_2016_b2s   \n",
       "\n",
       "                                                B1File  \\\n",
       "82   data/RAW/crop_tsc_2016_b2s/c160407tscrfl_fung_...   \n",
       "335  data/RAW/crop_tsc_2016_b2s/c160418tscrfl_fung_...   \n",
       "565  data/RAW/crop_tsc_2016_b2s/c160428tscrfl_fung_...   \n",
       "\n",
       "                                                B2File  \\\n",
       "82   data/RAW/crop_tsc_2016_b2s/c160407tscrfl_fung_...   \n",
       "335  data/RAW/crop_tsc_2016_b2s/c160418tscrfl_fung_...   \n",
       "565  data/RAW/crop_tsc_2016_b2s/c160428tscrfl_fung_...   \n",
       "\n",
       "                                                B3File  \\\n",
       "82   data/RAW/crop_tsc_2016_b2s/c160407tscrfl_fung_...   \n",
       "335  data/RAW/crop_tsc_2016_b2s/c160418tscrfl_fung_...   \n",
       "565  data/RAW/crop_tsc_2016_b2s/c160428tscrfl_fung_...   \n",
       "\n",
       "                                                B4File      Name  REP  BLK  \\\n",
       "82   data/RAW/crop_tsc_2016_b2s/c160407tscrfl_fung_...  fung_001    1    1   \n",
       "335  data/RAW/crop_tsc_2016_b2s/c160418tscrfl_fung_...  fung_001    1    1   \n",
       "565  data/RAW/crop_tsc_2016_b2s/c160428tscrfl_fung_...  fung_001    1    1   \n",
       "\n",
       "     PLOT  ENTRY      Trial  Eval     Yield       Date  Year  DAS  \n",
       "82      1     22  Fungicide   1.0  5.296382 2016-04-07  2016   79  \n",
       "335     1     22  Fungicide   1.0  5.296382 2016-04-18  2016   90  \n",
       "565     1     22  Fungicide   1.0  5.296382 2016-04-28  2016  100  "
      ]
     },
     "execution_count": 18,
     "metadata": {},
     "output_type": "execute_result"
    }
   ],
   "source": [
    "metadata['DAS'] = metadata.apply(lambda x: get_das(x.Date), axis=1)\n",
    "metadata.head(3)"
   ]
  },
  {
   "cell_type": "code",
   "execution_count": 19,
   "metadata": {},
   "outputs": [
    {
     "data": {
      "image/png": "[encoded data removed]",
      "text/plain": [
       "<Figure size 576x216 with 1 Axes>"
      ]
     },
     "metadata": {
      "needs_background": "light"
     },
     "output_type": "display_data"
    }
   ],
   "source": [
    "if SHOW_INFO:\n",
    "    plt.figure(figsize=(8,3))\n",
    "    evals = metadata['DAS'].value_counts()\n",
    "    sns.barplot(evals.index, evals.values)\n",
    "    plt.xticks(rotation='vertical')\n",
    "    plt.xlabel('Pontuação')\n",
    "    plt.ylabel('Dias')\n",
    "    plt.title(\"Days after sowing\")\n",
    "    plt.show()"
   ]
  },
  {
   "cell_type": "markdown",
   "metadata": {},
   "source": [
    "#### Normalizando DAS\n",
    "\n",
    "Não é preciso normalizar o DAS."
   ]
  },
  {
   "cell_type": "code",
   "execution_count": 20,
   "metadata": {},
   "outputs": [],
   "source": [
    "# metadata['DAS'] = (metadata['DAS']-metadata['DAS'].min())/(metadata['DAS'].max()-metadata['DAS'].min())\n",
    "# metadata['DAS']"
   ]
  },
  {
   "cell_type": "markdown",
   "metadata": {},
   "source": [
    "### Split dos dados"
   ]
  },
  {
   "cell_type": "markdown",
   "metadata": {},
   "source": [
    "Nesse experimento apenas os dados com DAS especificado serão considerados."
   ]
  },
  {
   "cell_type": "code",
   "execution_count": 21,
   "metadata": {},
   "outputs": [],
   "source": [
    "if DAS is not None:\n",
    "    metadata = metadata[metadata.DAS == DAS]"
   ]
  },
  {
   "cell_type": "markdown",
   "metadata": {},
   "source": [
    "Nesse experimento os dados com fungicidas serão desconsiderados."
   ]
  },
  {
   "cell_type": "code",
   "execution_count": 22,
   "metadata": {},
   "outputs": [],
   "source": [
    "if not USE_FUNGICIDE:\n",
    "    metadata = metadata[metadata.Trial != 'Fungicide']"
   ]
  },
  {
   "cell_type": "code",
   "execution_count": 23,
   "metadata": {},
   "outputs": [],
   "source": [
    "train_metadata = metadata.copy()"
   ]
  },
  {
   "cell_type": "code",
   "execution_count": 24,
   "metadata": {},
   "outputs": [
    {
     "name": "stdout",
     "output_type": "stream",
     "text": [
      "Tamanho dos dados de treinamento:  698\n",
      "Tamanho dos dados de teste:  210\n"
     ]
    }
   ],
   "source": [
    "test_metadata = train_metadata.sample(frac=.2, random_state=11)\n",
    "cond = test_metadata['Instance'].isin(train_metadata['Instance'])\n",
    "train_metadata.drop(test_metadata[cond].index, inplace=True)\n",
    "print(\"Tamanho dos dados de treinamento: \", len(train_metadata))\n",
    "print(\"Tamanho dos dados de teste: \", len(test_metadata))"
   ]
  },
  {
   "cell_type": "code",
   "execution_count": 25,
   "metadata": {},
   "outputs": [
    {
     "data": {
      "image/png": "[encoded data removed]",
      "text/plain": [
       "<Figure size 432x288 with 1 Axes>"
      ]
     },
     "metadata": {},
     "output_type": "display_data"
    }
   ],
   "source": [
    "if SHOW_INFO:\n",
    "    total = len(train_metadata)  + len(test_metadata)\n",
    "    sizes = [len(train_metadata)/total, len(test_metadata)/total]\n",
    "    fig1, ax1 = plt.subplots()\n",
    "    ax1.pie(sizes, labels=[\"Train\", \"Test\"], autopct='%1.1f%%',\n",
    "            shadow=True, startangle=90)\n",
    "    ax1.axis('equal')\n",
    "    plt.show()"
   ]
  },
  {
   "cell_type": "code",
   "execution_count": 26,
   "metadata": {},
   "outputs": [
    {
     "name": "stdout",
     "output_type": "stream",
     "text": [
      "Quantidade de instâncias (sem aumento de dados) totais: 1050\n",
      "Quantidade de instâncias (sem aumento de dados) para treinamento: 698\n",
      "Quantidade de instâncias (sem aumento de dados) para teste: 210\n"
     ]
    }
   ],
   "source": [
    "print(\"Quantidade de instâncias (sem aumento de dados) totais:\",\n",
    "      len(metadata))\n",
    "print(\"Quantidade de instâncias (sem aumento de dados) para treinamento:\",\n",
    "      len(train_metadata))\n",
    "print(\"Quantidade de instâncias (sem aumento de dados) para teste:\",\n",
    "      len(test_metadata))\n",
    "\n",
    "train_set = set(train_metadata.Instance)\n",
    "test_set = set(test_metadata.Instance)\n",
    "for i in test_set:\n",
    "    assert not (i in train_set)"
   ]
  },
  {
   "cell_type": "markdown",
   "metadata": {},
   "source": [
    "#### Balanceamento dos dados"
   ]
  },
  {
   "cell_type": "code",
   "execution_count": 27,
   "metadata": {},
   "outputs": [],
   "source": [
    "if BALANCE_DATA:\n",
    "    g = train_metadata.groupby(TARGET, as_index=False)\n",
    "    metadata_bal = pd.DataFrame(g.apply(lambda x: x.sample(g.size().max(),\n",
    "                                                           replace=True).reset_index(drop=True)))\n",
    "    metadata_bal.reset_index(drop=True, inplace=True)\n",
    "    train_metadata = metadata_bal"
   ]
  },
  {
   "cell_type": "code",
   "execution_count": 28,
   "metadata": {},
   "outputs": [
    {
     "data": {
      "image/png": "[encoded data removed]",
      "text/plain": [
       "<Figure size 576x216 with 1 Axes>"
      ]
     },
     "metadata": {
      "needs_background": "light"
     },
     "output_type": "display_data"
    }
   ],
   "source": [
    "if SHOW_INFO:\n",
    "    plt.figure(figsize=(8,3))\n",
    "    evals = train_metadata['Eval'].value_counts()\n",
    "    sns.barplot(evals.index, evals.values)\n",
    "    plt.xticks(rotation='vertical')\n",
    "    plt.xlabel('Pontuação')\n",
    "    plt.ylabel('Frequência')\n",
    "    plt.title(\"Evaluações no dataset - Treinamento\")\n",
    "    plt.show()"
   ]
  },
  {
   "cell_type": "code",
   "execution_count": 29,
   "metadata": {},
   "outputs": [
    {
     "name": "stdout",
     "output_type": "stream",
     "text": [
      "Loading trainning data\n"
     ]
    },
    {
     "name": "stderr",
     "output_type": "stream",
     "text": [
      "/home/lucas/Documentos/prod-milho/util.py:263: RuntimeWarning: invalid value encountered in true_divide\n",
      "  im = (im[:, :, 3]-im[:, :, 1]) / (im[:, :, 3]+im[:, :, 1])\n"
     ]
    },
    {
     "name": "stdout",
     "output_type": "stream",
     "text": [
      "Loading test data\n"
     ]
    }
   ],
   "source": [
    "train_features = []\n",
    "train_y = []\n",
    "print(\"Loading trainning data\")\n",
    "for index, train_data in train_metadata.iterrows():\n",
    "    index, data = util.process(train_data, \n",
    "                               im_shape=SHAPE, \n",
    "                               transform_f=TRANSFORMATION,\n",
    "                               augment_type=None,\n",
    "                               verbose_level=0)\n",
    "    train_features.append(data[0])\n",
    "    train_y.append(train_data[TARGET])\n",
    "    \n",
    "print(\"Loading test data\")\n",
    "test_features = []\n",
    "test_y = []\n",
    "for index, test_data in test_metadata.iterrows():\n",
    "    index, data = util.process(test_data, \n",
    "                               im_shape=SHAPE, \n",
    "                               transform_f=TRANSFORMATION,\n",
    "                               augment_type=None,\n",
    "                               verbose_level=0)\n",
    "    test_features.append(data[0])\n",
    "    test_y.append(test_data[TARGET])\n",
    "\n",
    "train_features = np.asarray(train_features)\n",
    "train_y = np.asarray(train_y)\n",
    "test_features = np.asarray(test_features)\n",
    "test_y = np.asarray(test_y)"
   ]
  },
  {
   "cell_type": "code",
   "execution_count": 30,
   "metadata": {},
   "outputs": [
    {
     "data": {
      "text/plain": [
       "(5768, 43, 53, 1)"
      ]
     },
     "execution_count": 30,
     "metadata": {},
     "output_type": "execute_result"
    }
   ],
   "source": [
    "train_features.shape"
   ]
  },
  {
   "cell_type": "code",
   "execution_count": 31,
   "metadata": {},
   "outputs": [],
   "source": [
    "train_features= train_features.reshape((train_features.shape[0], *DSHAPE))\n",
    "test_features= test_features.reshape((test_features.shape[0], *DSHAPE))"
   ]
  },
  {
   "cell_type": "code",
   "execution_count": 32,
   "metadata": {},
   "outputs": [],
   "source": [
    "def normalize(features, xmin=None, xmax=None):\n",
    "    if xmin is None:\n",
    "        xmin = np.min(features)\n",
    "    if xmax is None:\n",
    "        xmax = np.max(features)\n",
    "    features = (features - xmin) / (xmax - xmin)\n",
    "    return features\n",
    "\n",
    "if NORMALIZE_DATA:\n",
    "    train_features = normalize(train_features)\n",
    "    test_features = normalize(test_features)"
   ]
  },
  {
   "cell_type": "code",
   "execution_count": 33,
   "metadata": {},
   "outputs": [
    {
     "name": "stdout",
     "output_type": "stream",
     "text": [
      "(5768, 43, 53)\n"
     ]
    },
    {
     "data": {
      "image/png": "[encoded data removed]",
      "text/plain": [
       "<Figure size 432x288 with 2 Axes>"
      ]
     },
     "metadata": {
      "needs_background": "light"
     },
     "output_type": "display_data"
    }
   ],
   "source": [
    "if SHOW_INFO:\n",
    "    print(train_features.shape)\n",
    "    plt.pcolormesh(train_features[0])\n",
    "    plt.axis('equal')\n",
    "    plt.colorbar()\n",
    "    plt.show()\n",
    "    plt.close()"
   ]
  },
  {
   "cell_type": "code",
   "execution_count": 34,
   "metadata": {},
   "outputs": [],
   "source": [
    "if TO_FLATTEN:\n",
    "    train_features = np.reshape(np.asarray(train_features), (len(train_features), FLATTEN_SHAPE))\n",
    "    test_features = np.reshape(np.asarray(test_features), (len(test_features), FLATTEN_SHAPE))"
   ]
  },
  {
   "cell_type": "markdown",
   "metadata": {},
   "source": [
    "## PCA"
   ]
  },
  {
   "cell_type": "code",
   "execution_count": 35,
   "metadata": {},
   "outputs": [
    {
     "name": "stdout",
     "output_type": "stream",
     "text": [
      "done in 1.769s\n",
      "done in 0.134s\n"
     ]
    }
   ],
   "source": [
    "n_components = N_PCA_COMPONENTS\n",
    "\n",
    "t0 = time()\n",
    "pca = PCA(n_components=n_components, svd_solver='randomized',\n",
    "          whiten=True).fit(train_features)\n",
    "print(\"done in %0.3fs\" % (time() - t0))\n",
    "\n",
    "pca.components_.reshape((n_components, DSHAPE[0], DSHAPE[1]))\n",
    "\n",
    "t0 = time()\n",
    "X_train_pca = pca.transform(train_features)\n",
    "X_test_pca = pca.transform(test_features)\n",
    "print(\"done in %0.3fs\" % (time() - t0))"
   ]
  },
  {
   "cell_type": "markdown",
   "metadata": {},
   "source": [
    "## SVM classification model"
   ]
  },
  {
   "cell_type": "code",
   "execution_count": 36,
   "metadata": {},
   "outputs": [],
   "source": [
    "svr_rbf = SVR(kernel='rbf', C=100, gamma=0.1, epsilon=.1)\n",
    "svr_lin = SVR(kernel='linear', C=100, gamma='auto')\n",
    "svr_poly = SVR(kernel='poly', C=100, gamma='auto', degree=3, epsilon=.1,\n",
    "               coef0=1)"
   ]
  },
  {
   "cell_type": "code",
   "execution_count": 48,
   "metadata": {},
   "outputs": [],
   "source": [
    "model = svr_poly.fit(X_train_pca, train_y)"
   ]
  },
  {
   "cell_type": "markdown",
   "metadata": {},
   "source": [
    "### Predições"
   ]
  },
  {
   "cell_type": "code",
   "execution_count": 49,
   "metadata": {},
   "outputs": [],
   "source": [
    "test_predictions = model.predict(X_test_pca)"
   ]
  },
  {
   "cell_type": "code",
   "execution_count": 50,
   "metadata": {},
   "outputs": [
    {
     "data": {
      "image/png": "[encoded data removed]",
      "text/plain": [
       "<Figure size 432x288 with 1 Axes>"
      ]
     },
     "metadata": {
      "needs_background": "light"
     },
     "output_type": "display_data"
    }
   ],
   "source": [
    "plt.scatter(test_y, test_predictions, marker='.')\n",
    "plt.xlabel('True Values')\n",
    "plt.ylabel('Predictions')\n",
    "plt.title('Test Predictions')\n",
    "plt.axis('equal')\n",
    "plt.axis('square')\n",
    "_ = plt.plot([-100, 100], [-100, 100])\n",
    "\n",
    "plt.show()\n",
    "plt.close()"
   ]
  },
  {
   "cell_type": "code",
   "execution_count": 52,
   "metadata": {},
   "outputs": [
    {
     "name": "stdout",
     "output_type": "stream",
     "text": [
      "SVM R2 = 0.463914817728608\n"
     ]
    }
   ],
   "source": [
    "r2 = r2_score(test_y, test_predictions)\n",
    "print(\"SVM R2 =\", r2)"
   ]
  },
  {
   "cell_type": "markdown",
   "metadata": {},
   "source": [
    "## KNN classification model"
   ]
  },
  {
   "cell_type": "code",
   "execution_count": 40,
   "metadata": {},
   "outputs": [
    {
     "name": "stdout",
     "output_type": "stream",
     "text": [
      "RMSE value for k=  1 is: 1.1894376422334652\n",
      "R2 value for k=  1 is: 0.10437656981006449\n",
      "RMSE value for k=  2 is: 1.1731215988610413\n",
      "R2 value for k=  2 is: 0.12877936909443866\n",
      "RMSE value for k=  3 is: 1.198992081117307\n",
      "R2 value for k=  3 is: 0.08993016622575245\n",
      "RMSE value for k=  4 is: 1.2243815251169134\n",
      "R2 value for k=  4 is: 0.05097943156744211\n",
      "RMSE value for k=  5 is: 1.2509836130021847\n",
      "R2 value for k=  5 is: 0.009292773156820533\n"
     ]
    }
   ],
   "source": [
    "rmse_val = [] #to store rmse values for different k\n",
    "best_model = None\n",
    "best_r2 = None\n",
    "models = []\n",
    "for K in range(5):\n",
    "    K = K+1\n",
    "    model = neighbors.KNeighborsRegressor(n_neighbors = K)\n",
    "\n",
    "    model.fit(X_train_pca, train_y)  #fit the model\n",
    "    pred = model.predict(X_test_pca) #make prediction on test set\n",
    "    error = sqrt(mean_squared_error(test_y,pred)) #calculate rmse\n",
    "    rmse_val.append(error) #store rmse values\n",
    "    print('RMSE value for k= ' , K , 'is:', error)\n",
    "    r2 = r2_score(test_y, pred)\n",
    "    print('R2 value for k= ' , K , 'is:', r2)\n",
    "    \n",
    "    if best_r2 is None or best_r2 < r2 or best_model is None:\n",
    "        best_r2 = r2\n",
    "        best_model = model\n",
    "    models.append(model)"
   ]
  },
  {
   "cell_type": "markdown",
   "metadata": {},
   "source": [
    "### Predições"
   ]
  },
  {
   "cell_type": "code",
   "execution_count": 41,
   "metadata": {},
   "outputs": [],
   "source": [
    "test_predictions = best_model.predict(X_test_pca)"
   ]
  },
  {
   "cell_type": "code",
   "execution_count": 42,
   "metadata": {},
   "outputs": [
    {
     "data": {
      "image/png": "[encoded data removed]",
      "text/plain": [
       "<Figure size 432x288 with 1 Axes>"
      ]
     },
     "metadata": {
      "needs_background": "light"
     },
     "output_type": "display_data"
    }
   ],
   "source": [
    "plt.scatter(test_y, test_predictions, marker='.', color='g')\n",
    "plt.xlabel('True Values')\n",
    "plt.ylabel('Predictions')\n",
    "plt.title('Test Predictions')\n",
    "plt.axis('equal')\n",
    "plt.axis('square')\n",
    "_ = plt.plot([-100, 100], [-100, 100])\n",
    "\n",
    "plt.show()\n",
    "plt.close()"
   ]
  },
  {
   "cell_type": "code",
   "execution_count": 43,
   "metadata": {},
   "outputs": [
    {
     "data": {
      "image/png": "[encoded data removed]",
      "text/plain": [
       "<Figure size 432x288 with 1 Axes>"
      ]
     },
     "metadata": {
      "needs_background": "light"
     },
     "output_type": "display_data"
    }
   ],
   "source": [
    "_, ax = plt.subplots()\n",
    "ax.scatter(x = range(0, test_y.size), y=test_y, c = 'blue', label = 'Actual', alpha = 0.3)\n",
    "ax.scatter(x = range(0, test_predictions.size), y=test_predictions, c = 'red', label = 'Predicted', alpha = 0.3)\n",
    "\n",
    "plt.title('Actual and predicted values')\n",
    "plt.xlabel('Observations')\n",
    "plt.ylabel('mpg')\n",
    "plt.legend()\n",
    "plt.show()\n",
    "plt.close()"
   ]
  },
  {
   "cell_type": "markdown",
   "metadata": {},
   "source": [
    "**Plot metrics and losses**"
   ]
  },
  {
   "cell_type": "code",
   "execution_count": 44,
   "metadata": {},
   "outputs": [],
   "source": [
    "def smooth_curve(points, factor=0.75):\n",
    "    smoothed_points = []\n",
    "    for point in points:\n",
    "        if smoothed_points:\n",
    "            previous = smoothed_points[-1]\n",
    "            smoothed_points.append(previous * factor + point * (1 - factor))\n",
    "        else:\n",
    "            smoothed_points.append(point)\n",
    "    return smoothed_points"
   ]
  },
  {
   "cell_type": "code",
   "execution_count": 45,
   "metadata": {},
   "outputs": [],
   "source": [
    "# plt.plot(smooth_curve(history.history['mae']))\n",
    "# plt.plot(smooth_curve(history.history['val_mae']))\n",
    "# plt.title('MAE')\n",
    "# plt.ylabel('MAE')\n",
    "# plt.xlabel('Epoch')\n",
    "# plt.legend(['Train', 'Validation'], loc='upper left')\n",
    "# plt.savefig(f'reports{os.sep}TRIAL{TRIAL}{os.sep}MAE{os.sep}{MODEL_NAME}_{NOW}.png')\n",
    "# plt.show()\n",
    "# plt.close()"
   ]
  }
 ],
 "metadata": {
  "kernelspec": {
   "display_name": "Python 3",
   "language": "python",
   "name": "python3"
  },
  "language_info": {
   "codemirror_mode": {
    "name": "ipython",
    "version": 3
   },
   "file_extension": ".py",
   "mimetype": "text/x-python",
   "name": "python",
   "nbconvert_exporter": "python",
   "pygments_lexer": "ipython3",
   "version": "3.7.7"
  }
 },
 "nbformat": 4,
 "nbformat_minor": 4
}
